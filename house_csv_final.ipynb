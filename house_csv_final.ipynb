{
 "cells": [
  {
   "cell_type": "code",
   "execution_count": 2,
   "metadata": {},
   "outputs": [],
   "source": [
    "from ultralytics import YOLO\n",
    "import numpy as np\n",
    "import os\n",
    "from tqdm import tqdm\n",
    "import pandas as pd\n",
    "import matplotlib.pyplot as plt"
   ]
  },
  {
   "cell_type": "code",
   "execution_count": 3,
   "metadata": {},
   "outputs": [],
   "source": [
    "# 집의 바운딩 박스 크기로 판별하는 함수\n",
    "def house_size(results, checking_class): # 욜로 모델로 예측된 결과값과 각 객체들의 예측 클래스 번호가 담긴 리스트를 인자로 받음\n",
    "    for result in results: # 검출된 객체들을 순회\n",
    "        boxes = result.boxes # 각 객체의 바운딩박스 정보를 boxes로 정의\n",
    "\n",
    "    houses =[] # 객체들이 담긴 리스트에서 집로 판별된 객체 리스트의 인덱스 번호를 담을 리스트\n",
    "    xyxy = []\n",
    "    bbox_sizes = [] # 바운딩 박스의 크기 정보를 담을 리스트\n",
    "\n",
    "    for idx, data in enumerate(checking_class): # 탐지된 객체들의 클래스 정보가 담긴 리스트\n",
    "        if data == 1: # 클래스 번호가 6일시 (\"집\"클래스의 번호가 1임)\n",
    "            house_num = idx # 해당 리스트의 인덱스 번호를 trees리스트에 추가\n",
    "            houses.append(house_num)\n",
    "            \n",
    "    print(houses)\n",
    "\n",
    "    # 집로 검출된 객체들의 바운딩 박스 넓이를 구해서 리스트에 추가하는 작업\n",
    "    for house_num in houses: # 집로 탐지된 객체의 인덱스 번호가 담긴 리스트를 순회\n",
    "        if house_num != -1:\n",
    "            house_xyxy_cordi = boxes.xyxy[house_num].tolist() # 해당 객체의 바운딩 박스의 좌상단 우하단 좌표\n",
    "            bbox_size = (house_xyxy_cordi[2] - house_xyxy_cordi[0]) * (house_xyxy_cordi[3] - house_xyxy_cordi[1]) # 좌표를 통해 바운딩 박스의 가로 세로 길이를 구해 넓이를 구함\n",
    "            bbox_sizes.append(bbox_size) # 구한 바운딩 박스 넓이를 리스트에 추가\n",
    "\n",
    "    # 가장 큰 바운딩 박스의 인덱스 찾기\n",
    "    largest_bbox_idx = bbox_sizes.index(max(bbox_sizes))\n",
    "\n",
    "    # 가장 큰 바운딩 박스의 크기와 정보 출력\n",
    "    largest_bbox_size = bbox_sizes[largest_bbox_idx]\n",
    "    largest_bbox_info = house_xyxy_cordi[largest_bbox_idx]\n",
    "    # 가장 큰 바운딩 박스의 인덱스 찾기\n",
    "    largest_bbox_idx = bbox_sizes.index(max(bbox_sizes))\n",
    "\n",
    "    print(\"가장 큰 바운딩 박스의 인덱스:\", largest_bbox_idx)\n",
    "\n",
    "    house_num = houses[largest_bbox_idx]\n",
    "    house_num\n",
    "\n",
    "    door_yn, loc, roof_yn, window_cnt, size = house_assess(house_num, results, checking_class)\n",
    "\n",
    "    return door_yn, loc, roof_yn, window_cnt, size"
   ]
  },
  {
   "cell_type": "code",
   "execution_count": 4,
   "metadata": {},
   "outputs": [],
   "source": [
    "# 검출된 객체간의 iou를 계산하는 함수\n",
    "def cal_iou(boxA, boxB):\n",
    "    \n",
    "    # boxA와 boxB의 x, y 좌표 값 중 큰 값을 선택하여 IoU 계산에 사용할 시작 좌표를 결정\n",
    "    xA = max(boxA[0], boxB[0])\n",
    "    yA = max(boxA[1], boxB[1])\n",
    "    \n",
    "    # boxA와 boxB의 x, y 좌표 값 중 작은 값을 선택하여 IoU 계산에 사용할 끝 좌표를 결정\n",
    "    xB = min(boxA[2], boxB[2])\n",
    "    yB = min(boxA[3], boxB[3])\n",
    "\n",
    "    # 두 상자의 겹치는 영역의 넓이 계산\n",
    "    interArea = max(0, xB - xA + 1) * max(0, yB - yA + 1)\n",
    "\n",
    "    # 각 상자의 전체 영역의 넓이 계산\n",
    "    boxAArea = (boxA[2] - boxA[0] + 1) * (boxA[3] - boxA[1] + 1)\n",
    "    boxBArea = (boxB[2] - boxB[0] + 1) * (boxB[3] - boxB[1] + 1)\n",
    "\n",
    "    # iou계산\n",
    "    iou = interArea / float(boxAArea + boxBArea - interArea)\n",
    "\n",
    "    return iou"
   ]
  },
  {
   "cell_type": "code",
   "execution_count": 5,
   "metadata": {},
   "outputs": [],
   "source": [
    "# 가장 큰 bbox 집의 인덱스 번호, 객체들 정보, 객체들의 클래스 리스트를 받아 각 요소들을 라벨링하는 함수\n",
    "def house_assess(house_num, results, checking_class):\n",
    "    for result in results: # 탐지된 객체들을 순회하면서\n",
    "        boxes = result.boxes # 각 객체의 bbox정보를 boxes에 할당\n",
    "\n",
    "    house_xyxy_cordi = boxes.xyxy[house_num].tolist() # 바운딩 박스의 좌상단 우하단 좌표 리스트\n",
    "    house_center_x_cordi = boxes.xywh[house_num].tolist()[0] # 바운딩 박스의 중심좌표와 가로 세로 길이 리스트\n",
    "    \n",
    "    # 창문, 문, 지붕, 위치, 크기\n",
    "    \n",
    "    # 창문 ============================================================\n",
    "    window_class_num = [] # 창문 클래스의 인덱스 번호를 담을 리스트\n",
    "    for idx, data in enumerate(checking_class): # 객체들의 클래스 번호가 담긴 리스트를 순회하면서\n",
    "        if data == 3 and boxes.conf[idx] > 0.6: # 리스트에 담긴 클래스 번호가 3이고 신뢰도가 0.6 초과일시\n",
    "            window_class_num.append(idx) # 해당 인덱스 번호를 window_class_num에 추가\n",
    "            \n",
    "    window_xyxy_cordi = [] # 창문 바운딩 박스의 좌표 정보를 담을 리스트\n",
    "    for idx in window_class_num: # 창문의 인덱스 번호가 담긴 리스트를 순회 하면서\n",
    "        window_xyxy_cordi.append(boxes.xyxy[idx].tolist()) # 창문의 바운딩 박스 좌상단 우하단 좌표 리스트를 리스트에 추가\n",
    "        \n",
    "    window_iou = [] # 창문의 iou 결과값을 담을 리스트\n",
    "    for i in window_xyxy_cordi: # 창문의 바운딩 박스 정보가 담긴 리스트를 순회\n",
    "        window_iou.append(cal_iou(house_xyxy_cordi,i)) # 집 바운딩 박스와 창문 바운딩 박스의 iou를 계산한 값을 리스트에 추가\n",
    "        \n",
    "    window_count = 0 # 창문의 개수 초기화\n",
    "    for i in window_iou: # 창문와 집의 iou값을 순회\n",
    "        if i != 0: # iou값이 0이 아니면(iou가 0일시 집와 창문가 겹치지않음 -> 집로 판단된 영역안에 창문가 없기에 창문로 판단된 객체가 잘못 된것이라 예측해 카운팅X)\n",
    "            window_count += 1 # 창문의 개수 +1\n",
    "            \n",
    "    window_cnt = '' # 창문 라벨링 정보 초기화\n",
    "    if window_count == 0: # 창문의 카운팅수가 0일시 \n",
    "        window_cnt = 'absence'\n",
    "    elif window_count == 1 or window_count == 2: # 창문의 카운팅수가 1 or 2일시 \n",
    "        window_cnt = '1 or 2'\n",
    "    elif window_count >= 3:\n",
    "        window_cnt = 'more than 3'\n",
    "    \n",
    "    # 위와 같은 과정으로 나머지 요소들도 iou를 바탕으로 집로 판정된 영역 내에 겹치지 않는 것을 제외하고 카운팅해 라벨링\n",
    "    \n",
    "    # 지붕 ============================================================\n",
    "    roof_class_num = []\n",
    "    for idx, data in enumerate(checking_class):\n",
    "        if data == 2:\n",
    "            roof_class_num.append(idx)\n",
    "    roof_xyxy_cordi = []\n",
    "    for idx in roof_class_num:\n",
    "        roof_xyxy_cordi.append(boxes.xyxy[idx].tolist())\n",
    "    roof_xyxy_cordi\n",
    "    roof_iou = []\n",
    "    for i in roof_xyxy_cordi:\n",
    "        roof_iou.append(cal_iou(house_xyxy_cordi,i))\n",
    "    roof_count = 0\n",
    "    for i in roof_iou:\n",
    "        if i != 0:\n",
    "            roof_count += 1\n",
    "    roof_yn = ''\n",
    "    if roof_count == 0:\n",
    "        roof_yn = 'n'\n",
    "    else:\n",
    "        roof_yn = 'y'\n",
    "    \n",
    "    # 문 ============================================================\n",
    "    door_class_num = []\n",
    "    for idx, data in enumerate(checking_class):\n",
    "        if data == 0 and boxes.conf[idx] > 0.4:\n",
    "            door_class_num.append(idx)\n",
    "    door_xyxy_cordi = []\n",
    "    for idx in door_class_num:\n",
    "        door_xyxy_cordi.append(boxes.xyxy[idx].tolist())\n",
    "    door_iou = []\n",
    "    for i in door_xyxy_cordi:\n",
    "        door_iou.append(cal_iou(house_xyxy_cordi,i))\n",
    "    door_count = 0\n",
    "    for i in door_iou:\n",
    "        if i != 0:\n",
    "            door_count += 1\n",
    "    door_yn = ''\n",
    "    if door_count == 0:\n",
    "        door_yn = 'n'\n",
    "    else:\n",
    "        door_yn = 'y'\n",
    "    \n",
    "    # 위치와 크기 ============================================================\n",
    "    image_w = boxes.orig_shape[0]*0.965 # 입력받은 이미지 width\n",
    "    image_h = boxes.orig_shape[1] # 입력받은 이미지 height\n",
    "    image_size = image_w * image_h # 입력받은 이미지 넓이\n",
    "    house_size = (house_xyxy_cordi[2] - house_xyxy_cordi[0]) * (house_xyxy_cordi[3] - house_xyxy_cordi[1]) # 집 bbox의 넓이\n",
    "    house_size_percent = house_size / image_size * 100 # 입력받은 이미지 대비 집의 bbox가 몇% 차지하는지 계산\n",
    "    \n",
    "    # 크기\n",
    "    size = '' # 크기 라벨링 정보 초기화\n",
    "    if house_size_percent < 15*0.8:\n",
    "        size = 'small'\n",
    "    elif house_size_percent >= 15*0.8 and house_size_percent < 50*0.8:\n",
    "        size = 'middle'\n",
    "    elif house_size_percent >= 50*0.8:\n",
    "        size = 'big'\n",
    "    \n",
    "    # 위치\n",
    "    loc = '' # 위치 라벨링 정보 초기화\n",
    "    if house_center_x_cordi < image_w/2.7: \n",
    "        loc = 'left'\n",
    "    elif house_center_x_cordi >= image_w/2.7 and house_center_x_cordi < image_w/3*2:\n",
    "        loc = 'center'\n",
    "    elif house_center_x_cordi >= image_w/3*2:\n",
    "        loc = 'right'\n",
    "    \n",
    "    return door_yn, loc, roof_yn, window_cnt, size"
   ]
  },
  {
   "cell_type": "code",
   "execution_count": 6,
   "metadata": {},
   "outputs": [],
   "source": [
    "# 나무로 탐지된 객체수에 따라 라벨링을 결정\n",
    "def house_csv(results): # 객체들의 정보를 인자로 받음\n",
    "    for result in results: # 객체들을 순회하면서\n",
    "        boxes = result.boxes # 각 객체의 bbox 정보를 boxes로 할당\n",
    "        class_names = result.names # 각 객체의 클래스이름을 담음\n",
    "        \n",
    "    checking_class = boxes.cls.int().tolist() # 클래스 번호를 리스트로 담음\n",
    "    checking_conf = boxes.conf.tolist() # bbox의 신뢰도를 리스트로 담음\n",
    "\n",
    "    house_num = -1\n",
    "    \n",
    "    for idx, data in enumerate(checking_class):\n",
    "        if data == 1:\n",
    "            house_num = idx\n",
    "            break\n",
    "    \n",
    "    if house_num != -1:\n",
    "        if checking_class.count(1) >= 2: # 객체들의 클래스 번호가 담긴 리스트에서 1이 2개 이상일시\n",
    "            print('집이 2개 이상 검출되었습니다.')\n",
    "            # 크기가 가장 큰 바운딩 박스 찾는 함수 호출\n",
    "            door_yn, loc, roof_yn, window_cnt, size = house_size(results, checking_class)\n",
    "        elif checking_class.count(1) == 0: # 객체들의 클래스 번호가 담긴 리스트에서 1이 1개 일시\n",
    "            print('집이 검출되지 않았습니다.')\n",
    "        else:\n",
    "            print(\"집이 1개 검출되었습니다.\")\n",
    "            # 예측하는 함수 호출\n",
    "            door_yn, loc, roof_yn, window_cnt, size = house_size(results, checking_class)\n",
    "\n",
    "    else:\n",
    "        door_yn = 'no detect'\n",
    "        roof_yn = 'no detect'\n",
    "        loc = 'no detect'\n",
    "        window_cnt = 'no detect'\n",
    "        size = 'no detect'\n",
    "\n",
    "    return door_yn, loc, roof_yn, window_cnt, size"
   ]
  },
  {
   "cell_type": "code",
   "execution_count": 7,
   "metadata": {},
   "outputs": [],
   "source": [
    "model = YOLO('./house_x_weight/weights/best.pt')"
   ]
  },
  {
   "cell_type": "code",
   "execution_count": 8,
   "metadata": {},
   "outputs": [],
   "source": [
    "def yolov8_house_detect(path,filename):\n",
    "    \n",
    "    results = model.predict(path+ '/' + filename)\n",
    "    \n",
    "    res_plot = results[0].plot()\n",
    "    \n",
    "    plt.imshow(res_plot)\n",
    "\n",
    "    door_yn, loc, roof_yn, window_cnt, size = house_csv(results)\n",
    "    \n",
    "    return door_yn, loc, roof_yn, window_cnt, size"
   ]
  },
  {
   "cell_type": "code",
   "execution_count": 9,
   "metadata": {},
   "outputs": [],
   "source": [
    "def house_save(img_dir, save_dir):\n",
    "    \n",
    "    all_images = [f for f in os.listdir(img_dir) if os.path.isfile(os.path.join(img_dir, f)) and f.endswith(('.png', '.jpg', '.jpeg'))]\n",
    "\n",
    "    filenames = []\n",
    "\n",
    "    house_df = pd.DataFrame(columns=('id', 'door_yn', 'loc', 'roof_yn', 'window_cnt', 'size'))\n",
    "\n",
    "    for i in all_images:\n",
    "\n",
    "        filenames.append(i.split('.')[0][:-4])\n",
    "\n",
    "    for filename, i in tqdm(zip(all_images, filenames)):\n",
    "        door_yn, loc, roof_yn, window_cnt, size= yolov8_house_detect(img_dir, filename)\n",
    "        output_filename =save_dir + i + '.jpg'\n",
    "        plt.savefig(output_filename, format='jpg', dpi=300)\n",
    "        plt.close()\n",
    "        \n",
    "        house_df.loc[len(house_df)] = [i, door_yn, loc, roof_yn, window_cnt, size]\n",
    "    \n",
    "    house_df.to_csv(save_dir +'house_result2.csv', index=False)"
   ]
  },
  {
   "cell_type": "code",
   "execution_count": 10,
   "metadata": {},
   "outputs": [
    {
     "name": "stderr",
     "output_type": "stream",
     "text": [
      "0it [00:00, ?it/s]\n",
      "image 1/1 c:\\yolov8\\house.v1i.yolov8\\test\\images\\24_175_23019_house_jpg.rf.109cd1c2a18292112be3c3083dbd72f2.jpg: 640x640 1 house, 1 roof, 53.0ms\n",
      "Speed: 4.0ms preprocess, 53.0ms inference, 23.6ms postprocess per image at shape (1, 3, 640, 640)\n",
      "1it [00:08,  8.85s/it]"
     ]
    },
    {
     "name": "stdout",
     "output_type": "stream",
     "text": [
      "집이 1개 검출되었습니다.\n",
      "[1]\n",
      "가장 큰 바운딩 박스의 인덱스: 0\n"
     ]
    },
    {
     "name": "stderr",
     "output_type": "stream",
     "text": [
      "\n",
      "image 1/1 c:\\yolov8\\house.v1i.yolov8\\test\\images\\24_176_23025_house_jpg.rf.7e0641d53fc0b1988ba93882132d339d.jpg: 640x640 1 house, 1 roof, 2 windows, 49.0ms\n",
      "Speed: 2.0ms preprocess, 49.0ms inference, 1.0ms postprocess per image at shape (1, 3, 640, 640)\n",
      "2it [00:09,  3.78s/it]\n"
     ]
    },
    {
     "name": "stdout",
     "output_type": "stream",
     "text": [
      "집이 1개 검출되었습니다.\n",
      "[1]\n",
      "가장 큰 바운딩 박스의 인덱스: 0\n"
     ]
    },
    {
     "name": "stderr",
     "output_type": "stream",
     "text": [
      "image 1/1 c:\\yolov8\\house.v1i.yolov8\\test\\images\\24_176_23035_house_jpg.rf.69e6dbdc934c2898ac88ba7080bd6d50.jpg: 640x640 1 door, 1 house, 50.0ms\n",
      "Speed: 2.0ms preprocess, 50.0ms inference, 2.0ms postprocess per image at shape (1, 3, 640, 640)\n",
      "3it [00:09,  2.16s/it]\n"
     ]
    },
    {
     "name": "stdout",
     "output_type": "stream",
     "text": [
      "집이 1개 검출되었습니다.\n",
      "[0]\n",
      "가장 큰 바운딩 박스의 인덱스: 0\n"
     ]
    },
    {
     "name": "stderr",
     "output_type": "stream",
     "text": [
      "image 1/1 c:\\yolov8\\house.v1i.yolov8\\test\\images\\24_177_23043_house_jpg.rf.eca73bac842de924d7ccbb643c0c4739.jpg: 640x640 2 doors, 1 house, 1 roof, 3 windows, 50.0ms\n",
      "Speed: 2.0ms preprocess, 50.0ms inference, 2.0ms postprocess per image at shape (1, 3, 640, 640)\n",
      "4it [00:09,  1.40s/it]\n"
     ]
    },
    {
     "name": "stdout",
     "output_type": "stream",
     "text": [
      "집이 1개 검출되었습니다.\n",
      "[0]\n",
      "가장 큰 바운딩 박스의 인덱스: 0\n"
     ]
    },
    {
     "name": "stderr",
     "output_type": "stream",
     "text": [
      "image 1/1 c:\\yolov8\\house.v1i.yolov8\\test\\images\\24_177_23050_house_jpg.rf.a6d062166c9f1fb58d3a34a343081ce2.jpg: 640x640 1 door, 1 house, 1 roof, 1 window, 50.0ms\n",
      "Speed: 2.0ms preprocess, 50.0ms inference, 3.0ms postprocess per image at shape (1, 3, 640, 640)\n",
      "5it [00:09,  1.02it/s]\n"
     ]
    },
    {
     "name": "stdout",
     "output_type": "stream",
     "text": [
      "집이 1개 검출되었습니다.\n",
      "[0]\n",
      "가장 큰 바운딩 박스의 인덱스: 0\n"
     ]
    },
    {
     "name": "stderr",
     "output_type": "stream",
     "text": [
      "image 1/1 c:\\yolov8\\house.v1i.yolov8\\test\\images\\24_178_23067_house_jpg.rf.3422d14f03ecf533a4a8c81e7c87aa99.jpg: 640x640 1 door, 1 house, 1 roof, 3 windows, 50.0ms\n",
      "Speed: 2.0ms preprocess, 50.0ms inference, 2.0ms postprocess per image at shape (1, 3, 640, 640)\n",
      "6it [00:10,  1.38it/s]\n"
     ]
    },
    {
     "name": "stdout",
     "output_type": "stream",
     "text": [
      "집이 1개 검출되었습니다.\n",
      "[0]\n",
      "가장 큰 바운딩 박스의 인덱스: 0\n"
     ]
    },
    {
     "name": "stderr",
     "output_type": "stream",
     "text": [
      "image 1/1 c:\\yolov8\\house.v1i.yolov8\\test\\images\\24_178_23087_house_jpg.rf.6675bb6578691cf8024773d10ff7249f.jpg: 640x640 1 door, 1 house, 1 roof, 2 windows, 48.0ms\n",
      "Speed: 2.0ms preprocess, 48.0ms inference, 3.0ms postprocess per image at shape (1, 3, 640, 640)\n",
      "7it [00:10,  1.78it/s]\n"
     ]
    },
    {
     "name": "stdout",
     "output_type": "stream",
     "text": [
      "집이 1개 검출되었습니다.\n",
      "[1]\n",
      "가장 큰 바운딩 박스의 인덱스: 0\n"
     ]
    },
    {
     "name": "stderr",
     "output_type": "stream",
     "text": [
      "image 1/1 c:\\yolov8\\house.v1i.yolov8\\test\\images\\24_179_23096_house_jpg.rf.999767a60d51d5b0d668f2dcd196008a.jpg: 640x640 1 door, 1 house, 1 roof, 2 windows, 50.0ms\n",
      "Speed: 2.0ms preprocess, 50.0ms inference, 2.0ms postprocess per image at shape (1, 3, 640, 640)\n",
      "8it [00:10,  2.08it/s]\n"
     ]
    },
    {
     "name": "stdout",
     "output_type": "stream",
     "text": [
      "집이 1개 검출되었습니다.\n",
      "[1]\n",
      "가장 큰 바운딩 박스의 인덱스: 0\n"
     ]
    },
    {
     "name": "stderr",
     "output_type": "stream",
     "text": [
      "image 1/1 c:\\yolov8\\house.v1i.yolov8\\test\\images\\24_179_23107_house_jpg.rf.0298651f3d0ab0d1d9b5293ec509348d.jpg: 640x640 1 door, 1 house, 1 roof, 3 windows, 63.0ms\n",
      "Speed: 2.0ms preprocess, 63.0ms inference, 2.0ms postprocess per image at shape (1, 3, 640, 640)\n",
      "9it [00:10,  2.46it/s]\n"
     ]
    },
    {
     "name": "stdout",
     "output_type": "stream",
     "text": [
      "집이 1개 검출되었습니다.\n",
      "[1]\n",
      "가장 큰 바운딩 박스의 인덱스: 0\n"
     ]
    },
    {
     "name": "stderr",
     "output_type": "stream",
     "text": [
      "image 1/1 c:\\yolov8\\house.v1i.yolov8\\test\\images\\24_179_23109_house_jpg.rf.c9646cd2fdb70e12f142bfabef868feb.jpg: 640x640 1 door, 1 house, 1 roof, 1 window, 55.0ms\n",
      "Speed: 2.0ms preprocess, 55.0ms inference, 2.0ms postprocess per image at shape (1, 3, 640, 640)\n",
      "10it [00:11,  2.83it/s]\n"
     ]
    },
    {
     "name": "stdout",
     "output_type": "stream",
     "text": [
      "집이 1개 검출되었습니다.\n",
      "[2]\n",
      "가장 큰 바운딩 박스의 인덱스: 0\n"
     ]
    },
    {
     "name": "stderr",
     "output_type": "stream",
     "text": [
      "image 1/1 c:\\yolov8\\house.v1i.yolov8\\test\\images\\24_179_23111_house_jpg.rf.34f1844b218518b66091b303b6a2bc46.jpg: 640x640 1 house, 1 roof, 10 windows, 54.0ms\n",
      "Speed: 2.0ms preprocess, 54.0ms inference, 2.0ms postprocess per image at shape (1, 3, 640, 640)\n",
      "11it [00:11,  3.15it/s]\n"
     ]
    },
    {
     "name": "stdout",
     "output_type": "stream",
     "text": [
      "집이 1개 검출되었습니다.\n",
      "[1]\n",
      "가장 큰 바운딩 박스의 인덱스: 0\n"
     ]
    },
    {
     "name": "stderr",
     "output_type": "stream",
     "text": [
      "image 1/1 c:\\yolov8\\house.v1i.yolov8\\test\\images\\24_180_23121_house_jpg.rf.c04969072209e39c9abd28f1d94839b7.jpg: 640x640 1 door, 1 house, 1 roof, 2 windows, 52.0ms\n",
      "Speed: 2.0ms preprocess, 52.0ms inference, 2.0ms postprocess per image at shape (1, 3, 640, 640)\n",
      "12it [00:11,  3.44it/s]\n"
     ]
    },
    {
     "name": "stdout",
     "output_type": "stream",
     "text": [
      "집이 1개 검출되었습니다.\n",
      "[1]\n",
      "가장 큰 바운딩 박스의 인덱스: 0\n"
     ]
    },
    {
     "name": "stderr",
     "output_type": "stream",
     "text": [
      "image 1/1 c:\\yolov8\\house.v1i.yolov8\\test\\images\\24_180_23122_house_jpg.rf.b4fb959da1ffe28d7003901764fff0e6.jpg: 640x640 1 door, 1 house, 1 roof, 2 windows, 53.0ms\n",
      "Speed: 2.0ms preprocess, 53.0ms inference, 2.0ms postprocess per image at shape (1, 3, 640, 640)\n",
      "13it [00:11,  3.65it/s]\n"
     ]
    },
    {
     "name": "stdout",
     "output_type": "stream",
     "text": [
      "집이 1개 검출되었습니다.\n",
      "[2]\n",
      "가장 큰 바운딩 박스의 인덱스: 0\n"
     ]
    },
    {
     "name": "stderr",
     "output_type": "stream",
     "text": [
      "image 1/1 c:\\yolov8\\house.v1i.yolov8\\test\\images\\24_180_23123_house_jpg.rf.1cc342f7791c55073d4c47b400108ba2.jpg: 640x640 1 door, 1 house, 1 roof, 2 windows, 54.0ms\n",
      "Speed: 2.0ms preprocess, 54.0ms inference, 3.0ms postprocess per image at shape (1, 3, 640, 640)\n",
      "14it [00:11,  3.82it/s]\n"
     ]
    },
    {
     "name": "stdout",
     "output_type": "stream",
     "text": [
      "집이 1개 검출되었습니다.\n",
      "[1]\n",
      "가장 큰 바운딩 박스의 인덱스: 0\n"
     ]
    },
    {
     "name": "stderr",
     "output_type": "stream",
     "text": [
      "image 1/1 c:\\yolov8\\house.v1i.yolov8\\test\\images\\24_180_23126_house_jpg.rf.a3b0f53115e3bd0f10617d479e9dc9ac.jpg: 640x640 1 door, 1 house, 1 roof, 4 windows, 52.0ms\n",
      "Speed: 2.0ms preprocess, 52.0ms inference, 2.0ms postprocess per image at shape (1, 3, 640, 640)\n",
      "15it [00:12,  3.95it/s]\n"
     ]
    },
    {
     "name": "stdout",
     "output_type": "stream",
     "text": [
      "집이 1개 검출되었습니다.\n",
      "[1]\n",
      "가장 큰 바운딩 박스의 인덱스: 0\n"
     ]
    },
    {
     "name": "stderr",
     "output_type": "stream",
     "text": [
      "image 1/1 c:\\yolov8\\house.v1i.yolov8\\test\\images\\24_180_23138_house_jpg.rf.f948cb9a6bd6f37fd53159b124772bdc.jpg: 640x640 1 house, 1 roof, 3 windows, 52.0ms\n",
      "Speed: 2.0ms preprocess, 52.0ms inference, 2.0ms postprocess per image at shape (1, 3, 640, 640)\n",
      "16it [00:12,  4.05it/s]\n"
     ]
    },
    {
     "name": "stdout",
     "output_type": "stream",
     "text": [
      "집이 1개 검출되었습니다.\n",
      "[2]\n",
      "가장 큰 바운딩 박스의 인덱스: 0\n"
     ]
    },
    {
     "name": "stderr",
     "output_type": "stream",
     "text": [
      "image 1/1 c:\\yolov8\\house.v1i.yolov8\\test\\images\\24_180_23147_house_jpg.rf.af2baf5fda25c769200847e568411ab9.jpg: 640x640 1 door, 1 house, 1 roof, 1 window, 54.0ms\n",
      "Speed: 2.0ms preprocess, 54.0ms inference, 2.0ms postprocess per image at shape (1, 3, 640, 640)\n",
      "17it [00:12,  4.02it/s]\n"
     ]
    },
    {
     "name": "stdout",
     "output_type": "stream",
     "text": [
      "집이 1개 검출되었습니다.\n",
      "[1]\n",
      "가장 큰 바운딩 박스의 인덱스: 0\n"
     ]
    },
    {
     "name": "stderr",
     "output_type": "stream",
     "text": [
      "image 1/1 c:\\yolov8\\house.v1i.yolov8\\test\\images\\24_180_23148_house_jpg.rf.5772e6885c00416d65eafbe210374ace.jpg: 640x640 1 door, 1 house, 1 roof, 4 windows, 62.0ms\n",
      "Speed: 2.0ms preprocess, 62.0ms inference, 2.0ms postprocess per image at shape (1, 3, 640, 640)\n",
      "18it [00:12,  4.04it/s]\n"
     ]
    },
    {
     "name": "stdout",
     "output_type": "stream",
     "text": [
      "집이 1개 검출되었습니다.\n",
      "[2]\n",
      "가장 큰 바운딩 박스의 인덱스: 0\n"
     ]
    },
    {
     "name": "stderr",
     "output_type": "stream",
     "text": [
      "image 1/1 c:\\yolov8\\house.v1i.yolov8\\test\\images\\24_181_23170_house_jpg.rf.e040f323e7f7780085295f70ef8b1a9b.jpg: 640x640 1 door, 1 house, 1 roof, 2 windows, 60.0ms\n",
      "Speed: 2.0ms preprocess, 60.0ms inference, 2.0ms postprocess per image at shape (1, 3, 640, 640)\n",
      "19it [00:13,  4.09it/s]\n"
     ]
    },
    {
     "name": "stdout",
     "output_type": "stream",
     "text": [
      "집이 1개 검출되었습니다.\n",
      "[0]\n",
      "가장 큰 바운딩 박스의 인덱스: 0\n"
     ]
    },
    {
     "name": "stderr",
     "output_type": "stream",
     "text": [
      "image 1/1 c:\\yolov8\\house.v1i.yolov8\\test\\images\\24_181_23172_house_jpg.rf.3be3642707ec57dd5c40bb43f5170ec2.jpg: 640x640 1 door, 1 house, 1 roof, 2 windows, 60.0ms\n",
      "Speed: 2.0ms preprocess, 60.0ms inference, 2.0ms postprocess per image at shape (1, 3, 640, 640)\n",
      "20it [00:13,  4.09it/s]\n"
     ]
    },
    {
     "name": "stdout",
     "output_type": "stream",
     "text": [
      "집이 1개 검출되었습니다.\n",
      "[0]\n",
      "가장 큰 바운딩 박스의 인덱스: 0\n"
     ]
    },
    {
     "name": "stderr",
     "output_type": "stream",
     "text": [
      "image 1/1 c:\\yolov8\\house.v1i.yolov8\\test\\images\\26_139_23002_house_jpg.rf.22cfe8bdbfae71f2510bc9b2e29185c1.jpg: 640x640 1 door, 1 house, 1 roof, 2 windows, 57.0ms\n",
      "Speed: 1.0ms preprocess, 57.0ms inference, 2.0ms postprocess per image at shape (1, 3, 640, 640)\n",
      "21it [00:13,  4.10it/s]\n"
     ]
    },
    {
     "name": "stdout",
     "output_type": "stream",
     "text": [
      "집이 1개 검출되었습니다.\n",
      "[1]\n",
      "가장 큰 바운딩 박스의 인덱스: 0\n"
     ]
    },
    {
     "name": "stderr",
     "output_type": "stream",
     "text": [
      "image 1/1 c:\\yolov8\\house.v1i.yolov8\\test\\images\\26_139_23004_house_jpg.rf.3d2d67d7e237b6562696d6a313af4629.jpg: 640x640 1 door, 1 house, 1 roof, 2 windows, 55.0ms\n",
      "Speed: 2.0ms preprocess, 55.0ms inference, 3.0ms postprocess per image at shape (1, 3, 640, 640)\n",
      "22it [00:13,  4.11it/s]\n"
     ]
    },
    {
     "name": "stdout",
     "output_type": "stream",
     "text": [
      "집이 1개 검출되었습니다.\n",
      "[1]\n",
      "가장 큰 바운딩 박스의 인덱스: 0\n"
     ]
    },
    {
     "name": "stderr",
     "output_type": "stream",
     "text": [
      "image 1/1 c:\\yolov8\\house.v1i.yolov8\\test\\images\\26_139_23017_house_jpg.rf.81798efceb7813d322d26da8e0166ab3.jpg: 640x640 1 door, 1 house, 1 roof, 3 windows, 59.0ms\n",
      "Speed: 2.0ms preprocess, 59.0ms inference, 2.0ms postprocess per image at shape (1, 3, 640, 640)\n",
      "23it [00:14,  4.08it/s]\n"
     ]
    },
    {
     "name": "stdout",
     "output_type": "stream",
     "text": [
      "집이 1개 검출되었습니다.\n",
      "[0]\n",
      "가장 큰 바운딩 박스의 인덱스: 0\n"
     ]
    },
    {
     "name": "stderr",
     "output_type": "stream",
     "text": [
      "image 1/1 c:\\yolov8\\house.v1i.yolov8\\test\\images\\26_140_23027_house_jpg.rf.8c60fff96737d337e4f8faab7d4740f1.jpg: 640x640 1 house, 53.0ms\n",
      "Speed: 2.0ms preprocess, 53.0ms inference, 2.0ms postprocess per image at shape (1, 3, 640, 640)\n",
      "24it [00:14,  4.09it/s]\n"
     ]
    },
    {
     "name": "stdout",
     "output_type": "stream",
     "text": [
      "집이 1개 검출되었습니다.\n",
      "[0]\n",
      "가장 큰 바운딩 박스의 인덱스: 0\n"
     ]
    },
    {
     "name": "stderr",
     "output_type": "stream",
     "text": [
      "image 1/1 c:\\yolov8\\house.v1i.yolov8\\test\\images\\26_140_23032_house_jpg.rf.3f80fa617ec4369d41078485cb78d267.jpg: 640x640 1 door, 1 house, 1 roof, 2 windows, 53.0ms\n",
      "Speed: 2.0ms preprocess, 53.0ms inference, 2.0ms postprocess per image at shape (1, 3, 640, 640)\n",
      "25it [00:14,  4.17it/s]\n"
     ]
    },
    {
     "name": "stdout",
     "output_type": "stream",
     "text": [
      "집이 1개 검출되었습니다.\n",
      "[0]\n",
      "가장 큰 바운딩 박스의 인덱스: 0\n"
     ]
    },
    {
     "name": "stderr",
     "output_type": "stream",
     "text": [
      "image 1/1 c:\\yolov8\\house.v1i.yolov8\\test\\images\\26_141_23040_house_jpg.rf.c4faf3721ffbb10a896ef11732eaca36.jpg: 640x640 1 door, 1 house, 1 roof, 1 window, 54.0ms\n",
      "Speed: 2.0ms preprocess, 54.0ms inference, 2.0ms postprocess per image at shape (1, 3, 640, 640)\n",
      "26it [00:14,  4.18it/s]\n"
     ]
    },
    {
     "name": "stdout",
     "output_type": "stream",
     "text": [
      "집이 1개 검출되었습니다.\n",
      "[1]\n",
      "가장 큰 바운딩 박스의 인덱스: 0\n"
     ]
    },
    {
     "name": "stderr",
     "output_type": "stream",
     "text": [
      "image 1/1 c:\\yolov8\\house.v1i.yolov8\\test\\images\\26_141_23047_house_jpg.rf.5c7fb5588d05a293fbb342244688521e.jpg: 640x640 1 door, 1 house, 1 roof, 2 windows, 55.0ms\n",
      "Speed: 1.0ms preprocess, 55.0ms inference, 3.0ms postprocess per image at shape (1, 3, 640, 640)\n",
      "27it [00:15,  4.20it/s]\n"
     ]
    },
    {
     "name": "stdout",
     "output_type": "stream",
     "text": [
      "집이 1개 검출되었습니다.\n",
      "[1]\n",
      "가장 큰 바운딩 박스의 인덱스: 0\n"
     ]
    },
    {
     "name": "stderr",
     "output_type": "stream",
     "text": [
      "image 1/1 c:\\yolov8\\house.v1i.yolov8\\test\\images\\26_142_23060_house_jpg.rf.98a26f47e0da6ee071ff96e4d5374e84.jpg: 640x640 1 door, 1 house, 1 roof, 2 windows, 56.0ms\n",
      "Speed: 2.0ms preprocess, 56.0ms inference, 2.0ms postprocess per image at shape (1, 3, 640, 640)\n",
      "28it [00:15,  3.78it/s]\n"
     ]
    },
    {
     "name": "stdout",
     "output_type": "stream",
     "text": [
      "집이 1개 검출되었습니다.\n",
      "[1]\n",
      "가장 큰 바운딩 박스의 인덱스: 0\n"
     ]
    },
    {
     "name": "stderr",
     "output_type": "stream",
     "text": [
      "image 1/1 c:\\yolov8\\house.v1i.yolov8\\test\\images\\33_92_23025_house_jpg.rf.aec73d8811544c09887ff6a6a7df3854.jpg: 640x640 1 door, 1 house, 2 roofs, 2 windows, 56.0ms\n",
      "Speed: 2.0ms preprocess, 56.0ms inference, 3.0ms postprocess per image at shape (1, 3, 640, 640)\n",
      "29it [00:15,  3.89it/s]\n"
     ]
    },
    {
     "name": "stdout",
     "output_type": "stream",
     "text": [
      "집이 1개 검출되었습니다.\n",
      "[0]\n",
      "가장 큰 바운딩 박스의 인덱스: 0\n"
     ]
    },
    {
     "name": "stderr",
     "output_type": "stream",
     "text": [
      "image 1/1 c:\\yolov8\\house.v1i.yolov8\\test\\images\\33_93_23049_house_jpg.rf.654a3274d96ef4578fbbe291610d2d0f.jpg: 640x640 1 house, 1 roof, 1 window, 51.0ms\n",
      "Speed: 2.0ms preprocess, 51.0ms inference, 2.0ms postprocess per image at shape (1, 3, 640, 640)\n",
      "30it [00:15,  4.02it/s]\n"
     ]
    },
    {
     "name": "stdout",
     "output_type": "stream",
     "text": [
      "집이 1개 검출되었습니다.\n",
      "[1]\n",
      "가장 큰 바운딩 박스의 인덱스: 0\n"
     ]
    },
    {
     "name": "stderr",
     "output_type": "stream",
     "text": [
      "image 1/1 c:\\yolov8\\house.v1i.yolov8\\test\\images\\33_93_23057_house_jpg.rf.213639bb793fc35b78600df28973d30f.jpg: 640x640 1 door, 1 house, 1 roof, 7 windows, 60.0ms\n",
      "Speed: 2.0ms preprocess, 60.0ms inference, 4.0ms postprocess per image at shape (1, 3, 640, 640)\n",
      "31it [00:16,  4.04it/s]\n"
     ]
    },
    {
     "name": "stdout",
     "output_type": "stream",
     "text": [
      "집이 1개 검출되었습니다.\n",
      "[0]\n",
      "가장 큰 바운딩 박스의 인덱스: 0\n"
     ]
    },
    {
     "name": "stderr",
     "output_type": "stream",
     "text": [
      "image 1/1 c:\\yolov8\\house.v1i.yolov8\\test\\images\\33_94_23071_house_jpg.rf.f9766e716f6f3039b496f1542f488466.jpg: 640x640 1 door, 1 house, 1 roof, 1 window, 57.0ms\n",
      "Speed: 2.0ms preprocess, 57.0ms inference, 2.0ms postprocess per image at shape (1, 3, 640, 640)\n",
      "32it [00:16,  4.04it/s]\n"
     ]
    },
    {
     "name": "stdout",
     "output_type": "stream",
     "text": [
      "집이 1개 검출되었습니다.\n",
      "[1]\n",
      "가장 큰 바운딩 박스의 인덱스: 0\n"
     ]
    },
    {
     "name": "stderr",
     "output_type": "stream",
     "text": [
      "image 1/1 c:\\yolov8\\house.v1i.yolov8\\test\\images\\33_94_23076_house_jpg.rf.4d1888043dcec43694e838b67588ddad.jpg: 640x640 1 house, 1 roof, 1 window, 57.0ms\n",
      "Speed: 2.0ms preprocess, 57.0ms inference, 2.0ms postprocess per image at shape (1, 3, 640, 640)\n",
      "33it [00:16,  4.09it/s]\n"
     ]
    },
    {
     "name": "stdout",
     "output_type": "stream",
     "text": [
      "집이 1개 검출되었습니다.\n",
      "[0]\n",
      "가장 큰 바운딩 박스의 인덱스: 0\n"
     ]
    },
    {
     "name": "stderr",
     "output_type": "stream",
     "text": [
      "image 1/1 c:\\yolov8\\house.v1i.yolov8\\test\\images\\33_94_23080_house_jpg.rf.f68f773b1af5ff845b340fdf893e0418.jpg: 640x640 1 door, 1 house, 1 roof, 1 window, 55.0ms\n",
      "Speed: 2.0ms preprocess, 55.0ms inference, 2.0ms postprocess per image at shape (1, 3, 640, 640)\n",
      "34it [00:16,  4.14it/s]\n"
     ]
    },
    {
     "name": "stdout",
     "output_type": "stream",
     "text": [
      "집이 1개 검출되었습니다.\n",
      "[0]\n",
      "가장 큰 바운딩 박스의 인덱스: 0\n"
     ]
    },
    {
     "name": "stderr",
     "output_type": "stream",
     "text": [
      "image 1/1 c:\\yolov8\\house.v1i.yolov8\\test\\images\\33_94_23082_house_jpg.rf.d2e3ff311fb47bfdb79ae94691f42327.jpg: 640x640 1 door, 1 house, 1 roof, 1 window, 57.0ms\n",
      "Speed: 2.0ms preprocess, 57.0ms inference, 3.0ms postprocess per image at shape (1, 3, 640, 640)\n",
      "35it [00:17,  4.15it/s]\n"
     ]
    },
    {
     "name": "stdout",
     "output_type": "stream",
     "text": [
      "집이 1개 검출되었습니다.\n",
      "[1]\n",
      "가장 큰 바운딩 박스의 인덱스: 0\n"
     ]
    },
    {
     "name": "stderr",
     "output_type": "stream",
     "text": [
      "image 1/1 c:\\yolov8\\house.v1i.yolov8\\test\\images\\33_95_23089_house_jpg.rf.e5212f8f6f313419787c0e4d0b20956a.jpg: 640x640 1 door, 1 house, 55.0ms\n",
      "Speed: 2.0ms preprocess, 55.0ms inference, 2.0ms postprocess per image at shape (1, 3, 640, 640)\n",
      "36it [00:17,  4.21it/s]\n"
     ]
    },
    {
     "name": "stdout",
     "output_type": "stream",
     "text": [
      "집이 1개 검출되었습니다.\n",
      "[0]\n",
      "가장 큰 바운딩 박스의 인덱스: 0\n"
     ]
    },
    {
     "name": "stderr",
     "output_type": "stream",
     "text": [
      "image 1/1 c:\\yolov8\\house.v1i.yolov8\\test\\images\\33_96_23116_house_jpg.rf.12287f46f2e8c22359c9942a7e4f46db.jpg: 640x640 1 house, 1 roof, 2 windows, 57.0ms\n",
      "Speed: 2.0ms preprocess, 57.0ms inference, 2.0ms postprocess per image at shape (1, 3, 640, 640)\n",
      "37it [00:17,  4.19it/s]\n"
     ]
    },
    {
     "name": "stdout",
     "output_type": "stream",
     "text": [
      "집이 1개 검출되었습니다.\n",
      "[0]\n",
      "가장 큰 바운딩 박스의 인덱스: 0\n"
     ]
    },
    {
     "name": "stderr",
     "output_type": "stream",
     "text": [
      "image 1/1 c:\\yolov8\\house.v1i.yolov8\\test\\images\\33_96_23120_house_jpg.rf.5d29dd49d4b1c0a1c75d1c2c40c353f1.jpg: 640x640 1 door, 1 house, 1 roof, 1 window, 53.0ms\n",
      "Speed: 2.0ms preprocess, 53.0ms inference, 3.0ms postprocess per image at shape (1, 3, 640, 640)\n",
      "38it [00:17,  4.22it/s]\n"
     ]
    },
    {
     "name": "stdout",
     "output_type": "stream",
     "text": [
      "집이 1개 검출되었습니다.\n",
      "[1]\n",
      "가장 큰 바운딩 박스의 인덱스: 0\n"
     ]
    },
    {
     "name": "stderr",
     "output_type": "stream",
     "text": [
      "image 1/1 c:\\yolov8\\house.v1i.yolov8\\test\\images\\33_97_23149_house_jpg.rf.06c3e10b7b60fa8a04b6695483b27ac6.jpg: 640x640 2 doors, 3 houses, 4 roofs, 18 windows, 57.0ms\n",
      "Speed: 2.0ms preprocess, 57.0ms inference, 2.0ms postprocess per image at shape (1, 3, 640, 640)\n",
      "39it [00:18,  4.19it/s]\n"
     ]
    },
    {
     "name": "stdout",
     "output_type": "stream",
     "text": [
      "집이 2개 이상 검출되었습니다.\n",
      "[0, 2, 3]\n",
      "가장 큰 바운딩 박스의 인덱스: 0\n"
     ]
    },
    {
     "name": "stderr",
     "output_type": "stream",
     "text": [
      "image 1/1 c:\\yolov8\\house.v1i.yolov8\\test\\images\\33_97_23153_house_jpg.rf.ac125949bbe8ad39b782ec8a026a7368.jpg: 640x640 1 door, 1 house, 1 roof, 56.0ms\n",
      "Speed: 2.0ms preprocess, 56.0ms inference, 2.0ms postprocess per image at shape (1, 3, 640, 640)\n",
      "40it [00:18,  4.18it/s]\n"
     ]
    },
    {
     "name": "stdout",
     "output_type": "stream",
     "text": [
      "집이 1개 검출되었습니다.\n",
      "[1]\n",
      "가장 큰 바운딩 박스의 인덱스: 0\n"
     ]
    },
    {
     "name": "stderr",
     "output_type": "stream",
     "text": [
      "image 1/1 c:\\yolov8\\house.v1i.yolov8\\test\\images\\33_98_23178_house_jpg.rf.c28f2142dc6b9a54ba9095d82f9bfcbf.jpg: 640x640 1 door, 1 house, 1 roof, 1 window, 51.0ms\n",
      "Speed: 2.0ms preprocess, 51.0ms inference, 2.0ms postprocess per image at shape (1, 3, 640, 640)\n",
      "41it [00:18,  4.22it/s]\n"
     ]
    },
    {
     "name": "stdout",
     "output_type": "stream",
     "text": [
      "집이 1개 검출되었습니다.\n",
      "[0]\n",
      "가장 큰 바운딩 박스의 인덱스: 0\n"
     ]
    },
    {
     "name": "stderr",
     "output_type": "stream",
     "text": [
      "image 1/1 c:\\yolov8\\house.v1i.yolov8\\test\\images\\33_98_23189_house_jpg.rf.ed8be09852a1e49107c3ad7777e5a568.jpg: 640x640 1 door, 1 house, 1 roof, 1 window, 56.0ms\n",
      "Speed: 2.0ms preprocess, 56.0ms inference, 2.0ms postprocess per image at shape (1, 3, 640, 640)\n",
      "42it [00:18,  4.18it/s]\n"
     ]
    },
    {
     "name": "stdout",
     "output_type": "stream",
     "text": [
      "집이 1개 검출되었습니다.\n",
      "[1]\n",
      "가장 큰 바운딩 박스의 인덱스: 0\n"
     ]
    },
    {
     "name": "stderr",
     "output_type": "stream",
     "text": [
      "image 1/1 c:\\yolov8\\house.v1i.yolov8\\test\\images\\33_98_23191_house_jpg.rf.f0f368a1c3769058227a69721f14a1b2.jpg: 640x640 1 door, 1 house, 1 roof, 3 windows, 55.0ms\n",
      "Speed: 2.0ms preprocess, 55.0ms inference, 2.0ms postprocess per image at shape (1, 3, 640, 640)\n",
      "43it [00:18,  4.17it/s]\n"
     ]
    },
    {
     "name": "stdout",
     "output_type": "stream",
     "text": [
      "집이 1개 검출되었습니다.\n",
      "[1]\n",
      "가장 큰 바운딩 박스의 인덱스: 0\n"
     ]
    },
    {
     "name": "stderr",
     "output_type": "stream",
     "text": [
      "image 1/1 c:\\yolov8\\house.v1i.yolov8\\test\\images\\33_98_23194_house_jpg.rf.9008279fa3620f49f24b6ed6ed3eda80.jpg: 640x640 1 door, 1 house, 1 roof, 2 windows, 55.0ms\n",
      "Speed: 2.0ms preprocess, 55.0ms inference, 2.0ms postprocess per image at shape (1, 3, 640, 640)\n",
      "44it [00:19,  4.19it/s]\n"
     ]
    },
    {
     "name": "stdout",
     "output_type": "stream",
     "text": [
      "집이 1개 검출되었습니다.\n",
      "[1]\n",
      "가장 큰 바운딩 박스의 인덱스: 0\n"
     ]
    },
    {
     "name": "stderr",
     "output_type": "stream",
     "text": [
      "image 1/1 c:\\yolov8\\house.v1i.yolov8\\test\\images\\33_99_23212_house_jpg.rf.572d88b74d78edde26269e57116b7ce1.jpg: 640x640 1 door, 1 house, 1 roof, 8 windows, 56.0ms\n",
      "Speed: 2.0ms preprocess, 56.0ms inference, 2.0ms postprocess per image at shape (1, 3, 640, 640)\n",
      "45it [00:19,  4.18it/s]\n"
     ]
    },
    {
     "name": "stdout",
     "output_type": "stream",
     "text": [
      "집이 1개 검출되었습니다.\n",
      "[1]\n",
      "가장 큰 바운딩 박스의 인덱스: 0\n"
     ]
    },
    {
     "name": "stderr",
     "output_type": "stream",
     "text": [
      "image 1/1 c:\\yolov8\\house.v1i.yolov8\\test\\images\\38_104_23009_house_jpg.rf.44df73123ea55a3d1a422bc03a1a10b4.jpg: 640x640 1 house, 1 roof, 1 window, 57.0ms\n",
      "Speed: 2.0ms preprocess, 57.0ms inference, 3.0ms postprocess per image at shape (1, 3, 640, 640)\n",
      "46it [00:19,  4.20it/s]\n"
     ]
    },
    {
     "name": "stdout",
     "output_type": "stream",
     "text": [
      "집이 1개 검출되었습니다.\n",
      "[1]\n",
      "가장 큰 바운딩 박스의 인덱스: 0\n"
     ]
    },
    {
     "name": "stderr",
     "output_type": "stream",
     "text": [
      "image 1/1 c:\\yolov8\\house.v1i.yolov8\\test\\images\\38_105_23025_house_jpg.rf.8f0fe85ab9be57c097440f910681b051.jpg: 640x640 1 door, 1 house, 1 roof, 68.0ms\n",
      "Speed: 2.0ms preprocess, 68.0ms inference, 2.0ms postprocess per image at shape (1, 3, 640, 640)\n",
      "47it [00:19,  4.18it/s]\n"
     ]
    },
    {
     "name": "stdout",
     "output_type": "stream",
     "text": [
      "집이 1개 검출되었습니다.\n",
      "[0]\n",
      "가장 큰 바운딩 박스의 인덱스: 0\n"
     ]
    },
    {
     "name": "stderr",
     "output_type": "stream",
     "text": [
      "image 1/1 c:\\yolov8\\house.v1i.yolov8\\test\\images\\38_105_23026_house_jpg.rf.1d00ebde6ebc33b509de646be02429e9.jpg: 640x640 1 door, 1 house, 1 roof, 1 window, 52.0ms\n",
      "Speed: 2.0ms preprocess, 52.0ms inference, 2.0ms postprocess per image at shape (1, 3, 640, 640)\n",
      "48it [00:20,  4.22it/s]\n"
     ]
    },
    {
     "name": "stdout",
     "output_type": "stream",
     "text": [
      "집이 1개 검출되었습니다.\n",
      "[1]\n",
      "가장 큰 바운딩 박스의 인덱스: 0\n"
     ]
    },
    {
     "name": "stderr",
     "output_type": "stream",
     "text": [
      "image 1/1 c:\\yolov8\\house.v1i.yolov8\\test\\images\\38_105_23028_house_jpg.rf.fb19a08216cfad84e4820edc97476757.jpg: 640x640 1 house, 1 roof, 1 window, 53.0ms\n",
      "Speed: 2.0ms preprocess, 53.0ms inference, 2.0ms postprocess per image at shape (1, 3, 640, 640)\n",
      "49it [00:20,  4.24it/s]\n"
     ]
    },
    {
     "name": "stdout",
     "output_type": "stream",
     "text": [
      "집이 1개 검출되었습니다.\n",
      "[0]\n",
      "가장 큰 바운딩 박스의 인덱스: 0\n"
     ]
    },
    {
     "name": "stderr",
     "output_type": "stream",
     "text": [
      "image 1/1 c:\\yolov8\\house.v1i.yolov8\\test\\images\\38_106_23057_house_jpg.rf.3b883d28c919029ffb07e128e14ba4a8.jpg: 640x640 1 door, 1 house, 1 roof, 1 window, 53.0ms\n",
      "Speed: 1.0ms preprocess, 53.0ms inference, 2.0ms postprocess per image at shape (1, 3, 640, 640)\n",
      "50it [00:20,  4.28it/s]\n"
     ]
    },
    {
     "name": "stdout",
     "output_type": "stream",
     "text": [
      "집이 1개 검출되었습니다.\n",
      "[1]\n",
      "가장 큰 바운딩 박스의 인덱스: 0\n"
     ]
    },
    {
     "name": "stderr",
     "output_type": "stream",
     "text": [
      "image 1/1 c:\\yolov8\\house.v1i.yolov8\\test\\images\\38_106_23058_house_jpg.rf.0e3d79bc221399ce0e2e3aca84be17cf.jpg: 640x640 1 door, 1 house, 1 roof, 1 window, 52.0ms\n",
      "Speed: 2.0ms preprocess, 52.0ms inference, 2.0ms postprocess per image at shape (1, 3, 640, 640)\n"
     ]
    },
    {
     "name": "stdout",
     "output_type": "stream",
     "text": [
      "집이 1개 검출되었습니다.\n",
      "[1]\n",
      "가장 큰 바운딩 박스의 인덱스: 0\n"
     ]
    },
    {
     "name": "stderr",
     "output_type": "stream",
     "text": [
      "51it [00:20,  3.75it/s]\n",
      "image 1/1 c:\\yolov8\\house.v1i.yolov8\\test\\images\\38_106_23062_house_jpg.rf.b0e1cefb1537a68ca4db87661fa94d40.jpg: 640x640 2 doors, 1 house, 1 window, 55.0ms\n",
      "Speed: 2.0ms preprocess, 55.0ms inference, 2.0ms postprocess per image at shape (1, 3, 640, 640)\n",
      "52it [00:21,  3.87it/s]\n"
     ]
    },
    {
     "name": "stdout",
     "output_type": "stream",
     "text": [
      "집이 1개 검출되었습니다.\n",
      "[0]\n",
      "가장 큰 바운딩 박스의 인덱스: 0\n"
     ]
    },
    {
     "name": "stderr",
     "output_type": "stream",
     "text": [
      "image 1/1 c:\\yolov8\\house.v1i.yolov8\\test\\images\\38_107_23069_house_jpg.rf.796088d1864e8ab8602140ab1311f814.jpg: 640x640 1 door, 1 house, 1 roof, 1 window, 57.0ms\n",
      "Speed: 2.0ms preprocess, 57.0ms inference, 2.0ms postprocess per image at shape (1, 3, 640, 640)\n",
      "53it [00:21,  3.97it/s]\n"
     ]
    },
    {
     "name": "stdout",
     "output_type": "stream",
     "text": [
      "집이 1개 검출되었습니다.\n",
      "[1]\n",
      "가장 큰 바운딩 박스의 인덱스: 0\n"
     ]
    },
    {
     "name": "stderr",
     "output_type": "stream",
     "text": [
      "image 1/1 c:\\yolov8\\house.v1i.yolov8\\test\\images\\38_107_23072_house_jpg.rf.f21e52aa68fba9e0e0634200f0e78f1d.jpg: 640x640 1 door, 1 house, 1 roof, 1 window, 57.0ms\n",
      "Speed: 2.0ms preprocess, 57.0ms inference, 2.0ms postprocess per image at shape (1, 3, 640, 640)\n",
      "54it [00:21,  4.06it/s]\n"
     ]
    },
    {
     "name": "stdout",
     "output_type": "stream",
     "text": [
      "집이 1개 검출되었습니다.\n",
      "[0]\n",
      "가장 큰 바운딩 박스의 인덱스: 0\n"
     ]
    },
    {
     "name": "stderr",
     "output_type": "stream",
     "text": [
      "image 1/1 c:\\yolov8\\house.v1i.yolov8\\test\\images\\38_107_23080_house_jpg.rf.36db6d150b821e9f9b1c093941e2dab2.jpg: 640x640 1 door, 1 house, 1 roof, 1 window, 65.0ms\n",
      "Speed: 2.0ms preprocess, 65.0ms inference, 3.0ms postprocess per image at shape (1, 3, 640, 640)\n",
      "55it [00:21,  4.06it/s]\n"
     ]
    },
    {
     "name": "stdout",
     "output_type": "stream",
     "text": [
      "집이 1개 검출되었습니다.\n",
      "[1]\n",
      "가장 큰 바운딩 박스의 인덱스: 0\n"
     ]
    },
    {
     "name": "stderr",
     "output_type": "stream",
     "text": [
      "image 1/1 c:\\yolov8\\house.v1i.yolov8\\test\\images\\38_107_23084_house_jpg.rf.b457169eca1f38ecb2018b4b239aaf55.jpg: 640x640 1 house, 1 roof, 3 windows, 60.0ms\n",
      "Speed: 2.0ms preprocess, 60.0ms inference, 2.0ms postprocess per image at shape (1, 3, 640, 640)\n",
      "56it [00:22,  4.11it/s]\n"
     ]
    },
    {
     "name": "stdout",
     "output_type": "stream",
     "text": [
      "집이 1개 검출되었습니다.\n",
      "[0]\n",
      "가장 큰 바운딩 박스의 인덱스: 0\n"
     ]
    },
    {
     "name": "stderr",
     "output_type": "stream",
     "text": [
      "image 1/1 c:\\yolov8\\house.v1i.yolov8\\test\\images\\38_107_23087_house_jpg.rf.f698835c715ea024f281e4bc84236b94.jpg: 640x640 1 door, 1 house, 1 roof, 3 windows, 54.0ms\n",
      "Speed: 2.0ms preprocess, 54.0ms inference, 3.0ms postprocess per image at shape (1, 3, 640, 640)\n",
      "57it [00:22,  4.12it/s]\n"
     ]
    },
    {
     "name": "stdout",
     "output_type": "stream",
     "text": [
      "집이 1개 검출되었습니다.\n",
      "[1]\n",
      "가장 큰 바운딩 박스의 인덱스: 0\n"
     ]
    },
    {
     "name": "stderr",
     "output_type": "stream",
     "text": [
      "image 1/1 c:\\yolov8\\house.v1i.yolov8\\test\\images\\38_107_23090_house_jpg.rf.f57bdcbb4470ffcdb039e1549dc1f39f.jpg: 640x640 1 door, 1 house, 1 roof, 1 window, 53.0ms\n",
      "Speed: 2.0ms preprocess, 53.0ms inference, 2.0ms postprocess per image at shape (1, 3, 640, 640)\n",
      "58it [00:22,  4.19it/s]\n"
     ]
    },
    {
     "name": "stdout",
     "output_type": "stream",
     "text": [
      "집이 1개 검출되었습니다.\n",
      "[0]\n",
      "가장 큰 바운딩 박스의 인덱스: 0\n"
     ]
    },
    {
     "name": "stderr",
     "output_type": "stream",
     "text": [
      "image 1/1 c:\\yolov8\\house.v1i.yolov8\\test\\images\\3_11_23065_house_jpg.rf.6314c1d3b6218b25034ca42647d30c1c.jpg: 640x640 3 doors, 3 houses, 3 roofs, 23 windows, 53.0ms\n",
      "Speed: 1.0ms preprocess, 53.0ms inference, 2.0ms postprocess per image at shape (1, 3, 640, 640)\n",
      "59it [00:22,  4.18it/s]\n"
     ]
    },
    {
     "name": "stdout",
     "output_type": "stream",
     "text": [
      "집이 2개 이상 검출되었습니다.\n",
      "[1, 2, 3]\n",
      "가장 큰 바운딩 박스의 인덱스: 2\n"
     ]
    },
    {
     "name": "stderr",
     "output_type": "stream",
     "text": [
      "image 1/1 c:\\yolov8\\house.v1i.yolov8\\test\\images\\3_11_23070_house_jpg.rf.9ce8a17fef1b1a1839f4280a1d226683.jpg: 640x640 1 door, 1 house, 1 roof, 2 windows, 52.0ms\n",
      "Speed: 1.0ms preprocess, 52.0ms inference, 3.0ms postprocess per image at shape (1, 3, 640, 640)\n",
      "60it [00:23,  4.22it/s]\n"
     ]
    },
    {
     "name": "stdout",
     "output_type": "stream",
     "text": [
      "집이 1개 검출되었습니다.\n",
      "[0]\n",
      "가장 큰 바운딩 박스의 인덱스: 0\n"
     ]
    },
    {
     "name": "stderr",
     "output_type": "stream",
     "text": [
      "image 1/1 c:\\yolov8\\house.v1i.yolov8\\test\\images\\3_11_23075_house_jpg.rf.1637f65af4a1eeacdf1c877c47417ba2.jpg: 640x640 1 door, 1 house, 1 roof, 3 windows, 55.0ms\n",
      "Speed: 1.0ms preprocess, 55.0ms inference, 2.0ms postprocess per image at shape (1, 3, 640, 640)\n",
      "61it [00:23,  4.18it/s]\n"
     ]
    },
    {
     "name": "stdout",
     "output_type": "stream",
     "text": [
      "집이 1개 검출되었습니다.\n",
      "[0]\n",
      "가장 큰 바운딩 박스의 인덱스: 0\n"
     ]
    },
    {
     "name": "stderr",
     "output_type": "stream",
     "text": [
      "image 1/1 c:\\yolov8\\house.v1i.yolov8\\test\\images\\3_11_23079_house_jpg.rf.3aea6c7a2d7628d5ffbce36121c88b0c.jpg: 640x640 1 door, 1 house, 8 windows, 54.0ms\n",
      "Speed: 2.0ms preprocess, 54.0ms inference, 2.0ms postprocess per image at shape (1, 3, 640, 640)\n",
      "62it [00:23,  4.21it/s]\n"
     ]
    },
    {
     "name": "stdout",
     "output_type": "stream",
     "text": [
      "집이 1개 검출되었습니다.\n",
      "[0]\n",
      "가장 큰 바운딩 박스의 인덱스: 0\n"
     ]
    },
    {
     "name": "stderr",
     "output_type": "stream",
     "text": [
      "image 1/1 c:\\yolov8\\house.v1i.yolov8\\test\\images\\3_12_23095_house_jpg.rf.3805d8ea88f1702a810a9b85cfb14a62.jpg: 640x640 1 house, 1 roof, 56.0ms\n",
      "Speed: 1.0ms preprocess, 56.0ms inference, 2.0ms postprocess per image at shape (1, 3, 640, 640)\n",
      "63it [00:23,  4.22it/s]\n"
     ]
    },
    {
     "name": "stdout",
     "output_type": "stream",
     "text": [
      "집이 1개 검출되었습니다.\n",
      "[0]\n",
      "가장 큰 바운딩 박스의 인덱스: 0\n"
     ]
    },
    {
     "name": "stderr",
     "output_type": "stream",
     "text": [
      "image 1/1 c:\\yolov8\\house.v1i.yolov8\\test\\images\\3_13_23111_house_jpg.rf.3ca1a86a02030d8cb8946d76d3e13392.jpg: 640x640 2 doors, 1 house, 54.0ms\n",
      "Speed: 2.0ms preprocess, 54.0ms inference, 2.0ms postprocess per image at shape (1, 3, 640, 640)\n",
      "64it [00:24,  4.23it/s]\n"
     ]
    },
    {
     "name": "stdout",
     "output_type": "stream",
     "text": [
      "집이 1개 검출되었습니다.\n",
      "[0]\n",
      "가장 큰 바운딩 박스의 인덱스: 0\n"
     ]
    },
    {
     "name": "stderr",
     "output_type": "stream",
     "text": [
      "image 1/1 c:\\yolov8\\house.v1i.yolov8\\test\\images\\3_14_23002_house_jpg.rf.8daacd83f7065f57d147dc5480e36ed4.jpg: 640x640 2 doors, 1 house, 1 roof, 2 windows, 58.0ms\n",
      "Speed: 2.0ms preprocess, 58.0ms inference, 2.0ms postprocess per image at shape (1, 3, 640, 640)\n",
      "65it [00:24,  4.24it/s]\n"
     ]
    },
    {
     "name": "stdout",
     "output_type": "stream",
     "text": [
      "집이 1개 검출되었습니다.\n",
      "[1]\n",
      "가장 큰 바운딩 박스의 인덱스: 0\n"
     ]
    },
    {
     "name": "stderr",
     "output_type": "stream",
     "text": [
      "image 1/1 c:\\yolov8\\house.v1i.yolov8\\test\\images\\3_14_23017_house_jpg.rf.c165db8b4b1ff7c42e62cdbb5bcab2f7.jpg: 640x640 1 door, 1 house, 1 roof, 2 windows, 60.0ms\n",
      "Speed: 2.0ms preprocess, 60.0ms inference, 2.0ms postprocess per image at shape (1, 3, 640, 640)\n",
      "66it [00:24,  4.21it/s]\n"
     ]
    },
    {
     "name": "stdout",
     "output_type": "stream",
     "text": [
      "집이 1개 검출되었습니다.\n",
      "[1]\n",
      "가장 큰 바운딩 박스의 인덱스: 0\n"
     ]
    },
    {
     "name": "stderr",
     "output_type": "stream",
     "text": [
      "image 1/1 c:\\yolov8\\house.v1i.yolov8\\test\\images\\3_15_23025_house_jpg.rf.1f15dba640da5e0a5a539b379e9c7f57.jpg: 640x640 1 door, 1 house, 1 roof, 1 window, 58.0ms\n",
      "Speed: 2.0ms preprocess, 58.0ms inference, 2.0ms postprocess per image at shape (1, 3, 640, 640)\n",
      "67it [00:24,  4.21it/s]\n"
     ]
    },
    {
     "name": "stdout",
     "output_type": "stream",
     "text": [
      "집이 1개 검출되었습니다.\n",
      "[0]\n",
      "가장 큰 바운딩 박스의 인덱스: 0\n"
     ]
    },
    {
     "name": "stderr",
     "output_type": "stream",
     "text": [
      "image 1/1 c:\\yolov8\\house.v1i.yolov8\\test\\images\\3_16_23042_house_jpg.rf.452fde250f3b8625040dbdd919f2bfe0.jpg: 640x640 1 door, 1 house, 1 roof, 9 windows, 55.0ms\n",
      "Speed: 2.0ms preprocess, 55.0ms inference, 2.0ms postprocess per image at shape (1, 3, 640, 640)\n",
      "68it [00:25,  4.21it/s]\n"
     ]
    },
    {
     "name": "stdout",
     "output_type": "stream",
     "text": [
      "집이 1개 검출되었습니다.\n",
      "[0]\n",
      "가장 큰 바운딩 박스의 인덱스: 0\n"
     ]
    },
    {
     "name": "stderr",
     "output_type": "stream",
     "text": [
      "image 1/1 c:\\yolov8\\house.v1i.yolov8\\test\\images\\3_16_23061_house_jpg.rf.8f4577d1a0851d3564ea65aa79982412.jpg: 640x640 1 door, 1 house, 1 roof, 2 windows, 59.0ms\n",
      "Speed: 2.0ms preprocess, 59.0ms inference, 2.0ms postprocess per image at shape (1, 3, 640, 640)\n",
      "69it [00:25,  4.19it/s]\n"
     ]
    },
    {
     "name": "stdout",
     "output_type": "stream",
     "text": [
      "집이 1개 검출되었습니다.\n",
      "[1]\n",
      "가장 큰 바운딩 박스의 인덱스: 0\n"
     ]
    },
    {
     "name": "stderr",
     "output_type": "stream",
     "text": [
      "image 1/1 c:\\yolov8\\house.v1i.yolov8\\test\\images\\47_197_23004_house_jpg.rf.296f81241fed7af7e31593b2753f3d8c.jpg: 640x640 1 door, 1 house, 1 roof, 2 windows, 57.0ms\n",
      "Speed: 1.0ms preprocess, 57.0ms inference, 2.0ms postprocess per image at shape (1, 3, 640, 640)\n",
      "70it [00:25,  4.21it/s]\n"
     ]
    },
    {
     "name": "stdout",
     "output_type": "stream",
     "text": [
      "집이 1개 검출되었습니다.\n",
      "[0]\n",
      "가장 큰 바운딩 박스의 인덱스: 0\n"
     ]
    },
    {
     "name": "stderr",
     "output_type": "stream",
     "text": [
      "image 1/1 c:\\yolov8\\house.v1i.yolov8\\test\\images\\47_198_23020_house_jpg.rf.41b28d13acce7b3dcff3b40724a420e8.jpg: 640x640 1 house, 1 roof, 2 windows, 59.0ms\n",
      "Speed: 1.0ms preprocess, 59.0ms inference, 2.0ms postprocess per image at shape (1, 3, 640, 640)\n",
      "71it [00:25,  4.20it/s]\n"
     ]
    },
    {
     "name": "stdout",
     "output_type": "stream",
     "text": [
      "집이 1개 검출되었습니다.\n",
      "[1]\n",
      "가장 큰 바운딩 박스의 인덱스: 0\n"
     ]
    },
    {
     "name": "stderr",
     "output_type": "stream",
     "text": [
      "image 1/1 c:\\yolov8\\house.v1i.yolov8\\test\\images\\47_199_23030_house_jpg.rf.c476e123479580d7b9031aed37fe7f2b.jpg: 640x640 1 house, 1 roof, 1 window, 59.0ms\n",
      "Speed: 2.0ms preprocess, 59.0ms inference, 3.0ms postprocess per image at shape (1, 3, 640, 640)\n",
      "72it [00:25,  4.20it/s]\n"
     ]
    },
    {
     "name": "stdout",
     "output_type": "stream",
     "text": [
      "집이 1개 검출되었습니다.\n",
      "[1]\n",
      "가장 큰 바운딩 박스의 인덱스: 0\n"
     ]
    },
    {
     "name": "stderr",
     "output_type": "stream",
     "text": [
      "image 1/1 c:\\yolov8\\house.v1i.yolov8\\test\\images\\47_199_23032_house_jpg.rf.21ff0cb99177e70f579f997581366c59.jpg: 640x640 1 door, 1 house, 1 roof, 2 windows, 55.0ms\n",
      "Speed: 2.0ms preprocess, 55.0ms inference, 2.0ms postprocess per image at shape (1, 3, 640, 640)\n",
      "73it [00:26,  4.14it/s]\n"
     ]
    },
    {
     "name": "stdout",
     "output_type": "stream",
     "text": [
      "집이 1개 검출되었습니다.\n",
      "[1]\n",
      "가장 큰 바운딩 박스의 인덱스: 0\n"
     ]
    },
    {
     "name": "stderr",
     "output_type": "stream",
     "text": [
      "image 1/1 c:\\yolov8\\house.v1i.yolov8\\test\\images\\47_199_23038_house_jpg.rf.7d5887ffada1080d639cd12815ba1b19.jpg: 640x640 1 door, 1 house, 1 roof, 53.0ms\n",
      "Speed: 2.0ms preprocess, 53.0ms inference, 2.0ms postprocess per image at shape (1, 3, 640, 640)\n",
      "74it [00:26,  4.18it/s]\n"
     ]
    },
    {
     "name": "stdout",
     "output_type": "stream",
     "text": [
      "집이 1개 검출되었습니다.\n",
      "[0]\n",
      "가장 큰 바운딩 박스의 인덱스: 0\n"
     ]
    },
    {
     "name": "stderr",
     "output_type": "stream",
     "text": [
      "image 1/1 c:\\yolov8\\house.v1i.yolov8\\test\\images\\50_227_23006_house_jpg.rf.fb0d9c34f7c7cad0c6b4a7cc604c8ff5.jpg: 640x640 1 door, 1 house, 1 roof, 1 window, 53.0ms\n",
      "Speed: 2.0ms preprocess, 53.0ms inference, 3.0ms postprocess per image at shape (1, 3, 640, 640)\n",
      "75it [00:26,  4.20it/s]\n"
     ]
    },
    {
     "name": "stdout",
     "output_type": "stream",
     "text": [
      "집이 1개 검출되었습니다.\n",
      "[1]\n",
      "가장 큰 바운딩 박스의 인덱스: 0\n"
     ]
    },
    {
     "name": "stderr",
     "output_type": "stream",
     "text": [
      "image 1/1 c:\\yolov8\\house.v1i.yolov8\\test\\images\\50_227_23010_house_jpg.rf.892209561ff538b5bf24fc7c93760674.jpg: 640x640 1 door, 1 house, 1 roof, 2 windows, 54.0ms\n",
      "Speed: 2.0ms preprocess, 54.0ms inference, 2.0ms postprocess per image at shape (1, 3, 640, 640)\n",
      "76it [00:26,  4.19it/s]\n"
     ]
    },
    {
     "name": "stdout",
     "output_type": "stream",
     "text": [
      "집이 1개 검출되었습니다.\n",
      "[0]\n",
      "가장 큰 바운딩 박스의 인덱스: 0\n"
     ]
    },
    {
     "name": "stderr",
     "output_type": "stream",
     "text": [
      "image 1/1 c:\\yolov8\\house.v1i.yolov8\\test\\images\\50_227_23024_house_jpg.rf.45aba2ad345c2330f75164388519bef4.jpg: 640x640 1 door, 1 house, 1 roof, 2 windows, 56.0ms\n",
      "Speed: 2.0ms preprocess, 56.0ms inference, 3.0ms postprocess per image at shape (1, 3, 640, 640)\n",
      "77it [00:27,  4.21it/s]\n"
     ]
    },
    {
     "name": "stdout",
     "output_type": "stream",
     "text": [
      "집이 1개 검출되었습니다.\n",
      "[1]\n",
      "가장 큰 바운딩 박스의 인덱스: 0\n"
     ]
    },
    {
     "name": "stderr",
     "output_type": "stream",
     "text": [
      "image 1/1 c:\\yolov8\\house.v1i.yolov8\\test\\images\\50_228_23025_house_jpg.rf.6ee81d4ed3d439110a0eedef93ea1465.jpg: 640x640 1 door, 1 house, 1 roof, 1 window, 59.0ms\n",
      "Speed: 1.0ms preprocess, 59.0ms inference, 2.0ms postprocess per image at shape (1, 3, 640, 640)\n",
      "78it [00:27,  4.19it/s]\n"
     ]
    },
    {
     "name": "stdout",
     "output_type": "stream",
     "text": [
      "집이 1개 검출되었습니다.\n",
      "[1]\n",
      "가장 큰 바운딩 박스의 인덱스: 0\n"
     ]
    },
    {
     "name": "stderr",
     "output_type": "stream",
     "text": [
      "image 1/1 c:\\yolov8\\house.v1i.yolov8\\test\\images\\50_228_23036_house_jpg.rf.0365a6b580f6049251af49d7155b2496.jpg: 640x640 1 door, 1 house, 1 roof, 4 windows, 58.0ms\n",
      "Speed: 2.0ms preprocess, 58.0ms inference, 3.0ms postprocess per image at shape (1, 3, 640, 640)\n",
      "79it [00:27,  4.16it/s]\n"
     ]
    },
    {
     "name": "stdout",
     "output_type": "stream",
     "text": [
      "집이 1개 검출되었습니다.\n",
      "[0]\n",
      "가장 큰 바운딩 박스의 인덱스: 0\n"
     ]
    },
    {
     "name": "stderr",
     "output_type": "stream",
     "text": [
      "image 1/1 c:\\yolov8\\house.v1i.yolov8\\test\\images\\50_229_23061_house_jpg.rf.e5767b609ebdf56a417bcc44d17c4a1d.jpg: 640x640 1 door, 1 house, 1 roof, 62.0ms\n",
      "Speed: 2.0ms preprocess, 62.0ms inference, 3.0ms postprocess per image at shape (1, 3, 640, 640)\n",
      "80it [00:27,  4.15it/s]\n"
     ]
    },
    {
     "name": "stdout",
     "output_type": "stream",
     "text": [
      "집이 1개 검출되었습니다.\n",
      "[0]\n",
      "가장 큰 바운딩 박스의 인덱스: 0\n"
     ]
    },
    {
     "name": "stderr",
     "output_type": "stream",
     "text": [
      "image 1/1 c:\\yolov8\\house.v1i.yolov8\\test\\images\\50_229_23064_house_jpg.rf.8d9aff9b5966042c450d53472d541210.jpg: 640x640 1 door, 1 house, 1 roof, 2 windows, 68.0ms\n",
      "Speed: 2.0ms preprocess, 68.0ms inference, 2.0ms postprocess per image at shape (1, 3, 640, 640)\n",
      "81it [00:28,  3.46it/s]\n"
     ]
    },
    {
     "name": "stdout",
     "output_type": "stream",
     "text": [
      "집이 1개 검출되었습니다.\n",
      "[1]\n",
      "가장 큰 바운딩 박스의 인덱스: 0\n"
     ]
    },
    {
     "name": "stderr",
     "output_type": "stream",
     "text": [
      "image 1/1 c:\\yolov8\\house.v1i.yolov8\\test\\images\\50_229_23070_house_jpg.rf.e5cdd8f395a340926b0fd6b7f441b22d.jpg: 640x640 1 house, 52.0ms\n",
      "Speed: 2.0ms preprocess, 52.0ms inference, 3.0ms postprocess per image at shape (1, 3, 640, 640)\n",
      "82it [00:28,  3.66it/s]\n"
     ]
    },
    {
     "name": "stdout",
     "output_type": "stream",
     "text": [
      "집이 1개 검출되었습니다.\n",
      "[0]\n",
      "가장 큰 바운딩 박스의 인덱스: 0\n"
     ]
    },
    {
     "name": "stderr",
     "output_type": "stream",
     "text": [
      "image 1/1 c:\\yolov8\\house.v1i.yolov8\\test\\images\\50_230_23077_house_jpg.rf.0856b80c83b018f232b33c9c9588e663.jpg: 640x640 1 door, 1 house, 1 roof, 52.0ms\n",
      "Speed: 2.0ms preprocess, 52.0ms inference, 2.0ms postprocess per image at shape (1, 3, 640, 640)\n",
      "83it [00:28,  3.77it/s]\n"
     ]
    },
    {
     "name": "stdout",
     "output_type": "stream",
     "text": [
      "집이 1개 검출되었습니다.\n",
      "[0]\n",
      "가장 큰 바운딩 박스의 인덱스: 0\n"
     ]
    },
    {
     "name": "stderr",
     "output_type": "stream",
     "text": [
      "image 1/1 c:\\yolov8\\house.v1i.yolov8\\test\\images\\50_230_23084_house_jpg.rf.fc9040ce16b458febf5103c4cb2ecd91.jpg: 640x640 3 doors, 2 houses, 2 roofs, 2 windows, 54.0ms\n",
      "Speed: 2.0ms preprocess, 54.0ms inference, 2.0ms postprocess per image at shape (1, 3, 640, 640)\n",
      "84it [00:29,  3.89it/s]\n"
     ]
    },
    {
     "name": "stdout",
     "output_type": "stream",
     "text": [
      "집이 2개 이상 검출되었습니다.\n",
      "[4, 7]\n",
      "가장 큰 바운딩 박스의 인덱스: 0\n"
     ]
    },
    {
     "name": "stderr",
     "output_type": "stream",
     "text": [
      "image 1/1 c:\\yolov8\\house.v1i.yolov8\\test\\images\\50_230_23088_house_jpg.rf.05103f89aea238cb4bb191272596f06e.jpg: 640x640 2 doors, 1 house, 1 roof, 1 window, 52.0ms\n",
      "Speed: 2.0ms preprocess, 52.0ms inference, 2.0ms postprocess per image at shape (1, 3, 640, 640)\n",
      "85it [00:29,  4.00it/s]\n"
     ]
    },
    {
     "name": "stdout",
     "output_type": "stream",
     "text": [
      "집이 1개 검출되었습니다.\n",
      "[1]\n",
      "가장 큰 바운딩 박스의 인덱스: 0\n"
     ]
    },
    {
     "name": "stderr",
     "output_type": "stream",
     "text": [
      "image 1/1 c:\\yolov8\\house.v1i.yolov8\\test\\images\\50_230_23098_house_jpg.rf.3da14f209e68658e3c3d73133fa3240c.jpg: 640x640 1 door, 1 house, 1 roof, 2 windows, 54.0ms\n",
      "Speed: 2.0ms preprocess, 54.0ms inference, 2.0ms postprocess per image at shape (1, 3, 640, 640)\n",
      "86it [00:29,  4.06it/s]\n"
     ]
    },
    {
     "name": "stdout",
     "output_type": "stream",
     "text": [
      "집이 1개 검출되었습니다.\n",
      "[0]\n",
      "가장 큰 바운딩 박스의 인덱스: 0\n"
     ]
    },
    {
     "name": "stderr",
     "output_type": "stream",
     "text": [
      "image 1/1 c:\\yolov8\\house.v1i.yolov8\\test\\images\\50_231_23107_house_jpg.rf.e955787ae83e34c4415645d4c98e2f53.jpg: 640x640 3 doors, 1 house, 1 roof, 51.0ms\n",
      "Speed: 2.0ms preprocess, 51.0ms inference, 2.0ms postprocess per image at shape (1, 3, 640, 640)\n",
      "87it [00:29,  4.12it/s]\n"
     ]
    },
    {
     "name": "stdout",
     "output_type": "stream",
     "text": [
      "집이 1개 검출되었습니다.\n",
      "[0]\n",
      "가장 큰 바운딩 박스의 인덱스: 0\n"
     ]
    },
    {
     "name": "stderr",
     "output_type": "stream",
     "text": [
      "image 1/1 c:\\yolov8\\house.v1i.yolov8\\test\\images\\50_231_23108_house_jpg.rf.1621d2876be5f212ebe88b026e26a92b.jpg: 640x640 1 door, 1 house, 1 roof, 2 windows, 55.0ms\n",
      "Speed: 1.0ms preprocess, 55.0ms inference, 2.0ms postprocess per image at shape (1, 3, 640, 640)\n",
      "88it [00:29,  4.17it/s]\n"
     ]
    },
    {
     "name": "stdout",
     "output_type": "stream",
     "text": [
      "집이 1개 검출되었습니다.\n",
      "[1]\n",
      "가장 큰 바운딩 박스의 인덱스: 0\n"
     ]
    },
    {
     "name": "stderr",
     "output_type": "stream",
     "text": [
      "image 1/1 c:\\yolov8\\house.v1i.yolov8\\test\\images\\50_231_23113_house_jpg.rf.68f8a28f2f1ed66a53e7ab32fa2c5ac6.jpg: 640x640 1 house, 1 roof, 1 window, 57.0ms\n",
      "Speed: 2.0ms preprocess, 57.0ms inference, 2.0ms postprocess per image at shape (1, 3, 640, 640)\n",
      "89it [00:30,  4.17it/s]\n"
     ]
    },
    {
     "name": "stdout",
     "output_type": "stream",
     "text": [
      "집이 1개 검출되었습니다.\n",
      "[0]\n",
      "가장 큰 바운딩 박스의 인덱스: 0\n"
     ]
    },
    {
     "name": "stderr",
     "output_type": "stream",
     "text": [
      "image 1/1 c:\\yolov8\\house.v1i.yolov8\\test\\images\\50_231_23127_house_jpg.rf.1a8e7e19a240eb1276ebb22b56fc92a2.jpg: 640x640 1 door, 1 house, 1 roof, 1 window, 58.0ms\n",
      "Speed: 2.0ms preprocess, 58.0ms inference, 2.0ms postprocess per image at shape (1, 3, 640, 640)\n",
      "90it [00:30,  4.15it/s]\n"
     ]
    },
    {
     "name": "stdout",
     "output_type": "stream",
     "text": [
      "집이 1개 검출되었습니다.\n",
      "[1]\n",
      "가장 큰 바운딩 박스의 인덱스: 0\n"
     ]
    },
    {
     "name": "stderr",
     "output_type": "stream",
     "text": [
      "image 1/1 c:\\yolov8\\house.v1i.yolov8\\test\\images\\52_214_23003_house_jpg.rf.c6ec4d1e819c0daf2e58dc84ccd85de7.jpg: 640x640 2 doors, 1 house, 1 roof, 2 windows, 60.0ms\n",
      "Speed: 2.0ms preprocess, 60.0ms inference, 2.0ms postprocess per image at shape (1, 3, 640, 640)\n",
      "91it [00:30,  4.13it/s]\n"
     ]
    },
    {
     "name": "stdout",
     "output_type": "stream",
     "text": [
      "집이 1개 검출되었습니다.\n",
      "[1]\n",
      "가장 큰 바운딩 박스의 인덱스: 0\n"
     ]
    },
    {
     "name": "stderr",
     "output_type": "stream",
     "text": [
      "image 1/1 c:\\yolov8\\house.v1i.yolov8\\test\\images\\52_214_23014_house_jpg.rf.9815c3bb76a1085b40abb03cd3d24a62.jpg: 640x640 1 house, 1 roof, 1 window, 60.1ms\n",
      "Speed: 2.0ms preprocess, 60.1ms inference, 3.0ms postprocess per image at shape (1, 3, 640, 640)\n",
      "92it [00:30,  4.13it/s]\n"
     ]
    },
    {
     "name": "stdout",
     "output_type": "stream",
     "text": [
      "집이 1개 검출되었습니다.\n",
      "[0]\n",
      "가장 큰 바운딩 박스의 인덱스: 0\n"
     ]
    },
    {
     "name": "stderr",
     "output_type": "stream",
     "text": [
      "image 1/1 c:\\yolov8\\house.v1i.yolov8\\test\\images\\52_215_23026_house_jpg.rf.0d3a7f7faab975c21bff7a4c0129714e.jpg: 640x640 1 house, 55.0ms\n",
      "Speed: 2.0ms preprocess, 55.0ms inference, 2.0ms postprocess per image at shape (1, 3, 640, 640)\n",
      "93it [00:31,  4.18it/s]\n"
     ]
    },
    {
     "name": "stdout",
     "output_type": "stream",
     "text": [
      "집이 1개 검출되었습니다.\n",
      "[0]\n",
      "가장 큰 바운딩 박스의 인덱스: 0\n"
     ]
    },
    {
     "name": "stderr",
     "output_type": "stream",
     "text": [
      "image 1/1 c:\\yolov8\\house.v1i.yolov8\\test\\images\\52_215_23035_house_jpg.rf.13a50b561fc2f598f69a3c89088d0ab7.jpg: 640x640 1 house, 1 window, 58.0ms\n",
      "Speed: 1.0ms preprocess, 58.0ms inference, 3.0ms postprocess per image at shape (1, 3, 640, 640)\n",
      "94it [00:31,  4.22it/s]\n"
     ]
    },
    {
     "name": "stdout",
     "output_type": "stream",
     "text": [
      "집이 1개 검출되었습니다.\n",
      "[0]\n",
      "가장 큰 바운딩 박스의 인덱스: 0\n"
     ]
    },
    {
     "name": "stderr",
     "output_type": "stream",
     "text": [
      "image 1/1 c:\\yolov8\\house.v1i.yolov8\\test\\images\\52_217_23071_house_jpg.rf.22b539da96082a6de697bca9d6ad3d53.jpg: 640x640 1 door, 1 house, 1 roof, 4 windows, 57.0ms\n",
      "Speed: 2.0ms preprocess, 57.0ms inference, 2.0ms postprocess per image at shape (1, 3, 640, 640)\n",
      "95it [00:31,  4.18it/s]\n"
     ]
    },
    {
     "name": "stdout",
     "output_type": "stream",
     "text": [
      "집이 1개 검출되었습니다.\n",
      "[0]\n",
      "가장 큰 바운딩 박스의 인덱스: 0\n"
     ]
    },
    {
     "name": "stderr",
     "output_type": "stream",
     "text": [
      "image 1/1 c:\\yolov8\\house.v1i.yolov8\\test\\images\\52_218_23119_house_jpg.rf.ffafc3ab22e5870004962613255afff1.jpg: 640x640 1 door, 1 house, 2 windows, 55.0ms\n",
      "Speed: 1.0ms preprocess, 55.0ms inference, 2.0ms postprocess per image at shape (1, 3, 640, 640)\n",
      "96it [00:31,  4.20it/s]\n"
     ]
    },
    {
     "name": "stdout",
     "output_type": "stream",
     "text": [
      "집이 1개 검출되었습니다.\n",
      "[0]\n",
      "가장 큰 바운딩 박스의 인덱스: 0\n"
     ]
    },
    {
     "name": "stderr",
     "output_type": "stream",
     "text": [
      "image 1/1 c:\\yolov8\\house.v1i.yolov8\\test\\images\\5_26_23007_house_jpg.rf.1552c492df33973b76ff8f7a5535faaf.jpg: 640x640 1 house, 59.0ms\n",
      "Speed: 2.0ms preprocess, 59.0ms inference, 2.0ms postprocess per image at shape (1, 3, 640, 640)\n",
      "97it [00:32,  4.23it/s]\n"
     ]
    },
    {
     "name": "stdout",
     "output_type": "stream",
     "text": [
      "집이 1개 검출되었습니다.\n",
      "[0]\n",
      "가장 큰 바운딩 박스의 인덱스: 0\n"
     ]
    },
    {
     "name": "stderr",
     "output_type": "stream",
     "text": [
      "image 1/1 c:\\yolov8\\house.v1i.yolov8\\test\\images\\5_26_23019_house_jpg.rf.38e66ea6fd7ffe68ff4bad95102da542.jpg: 640x640 1 door, 1 house, 1 roof, 2 windows, 57.0ms\n",
      "Speed: 2.0ms preprocess, 57.0ms inference, 3.0ms postprocess per image at shape (1, 3, 640, 640)\n",
      "98it [00:32,  4.23it/s]\n"
     ]
    },
    {
     "name": "stdout",
     "output_type": "stream",
     "text": [
      "집이 1개 검출되었습니다.\n",
      "[3]\n",
      "가장 큰 바운딩 박스의 인덱스: 0\n"
     ]
    },
    {
     "name": "stderr",
     "output_type": "stream",
     "text": [
      "image 1/1 c:\\yolov8\\house.v1i.yolov8\\test\\images\\5_28_23077_house_jpg.rf.c3cdfc7906e9bfa2f0e19f3f55f4998e.jpg: 640x640 1 door, 1 house, 1 roof, 1 window, 56.0ms\n",
      "Speed: 2.0ms preprocess, 56.0ms inference, 2.0ms postprocess per image at shape (1, 3, 640, 640)\n",
      "99it [00:32,  4.24it/s]\n"
     ]
    },
    {
     "name": "stdout",
     "output_type": "stream",
     "text": [
      "집이 1개 검출되었습니다.\n",
      "[1]\n",
      "가장 큰 바운딩 박스의 인덱스: 0\n"
     ]
    },
    {
     "name": "stderr",
     "output_type": "stream",
     "text": [
      "image 1/1 c:\\yolov8\\house.v1i.yolov8\\test\\images\\5_28_23081_house_jpg.rf.7155c549690a9a8e586c72210241cdca.jpg: 640x640 1 door, 1 house, 1 roof, 1 window, 57.0ms\n",
      "Speed: 1.0ms preprocess, 57.0ms inference, 2.0ms postprocess per image at shape (1, 3, 640, 640)\n",
      "100it [00:32,  3.05it/s]"
     ]
    },
    {
     "name": "stdout",
     "output_type": "stream",
     "text": [
      "집이 1개 검출되었습니다.\n",
      "[1]\n",
      "가장 큰 바운딩 박스의 인덱스: 0\n"
     ]
    },
    {
     "name": "stderr",
     "output_type": "stream",
     "text": [
      "\n"
     ]
    }
   ],
   "source": [
    "house_save(img_dir='./house.v1i.yolov8/test/images', save_dir= './house_result/')"
   ]
  },
  {
   "cell_type": "code",
   "execution_count": 11,
   "metadata": {},
   "outputs": [
    {
     "name": "stdout",
     "output_type": "stream",
     "text": [
      "door diff : 7\n",
      "loc diff : 7\n",
      "roof diff : 10\n",
      "window diff : 14\n",
      "size diff : 7\n"
     ]
    }
   ],
   "source": [
    "house_ori_df = pd.read_csv('./dbi_house.csv')\n",
    "house_pred_df = pd.read_csv('./house_result/house_result2.csv')\n",
    "house_ori_100_df = house_ori_df[house_ori_df['id'].isin(house_pred_df['id'])]\n",
    "\n",
    "door_count = 0\n",
    "loc_count = 0\n",
    "roof_count = 0\n",
    "window_count = 0\n",
    "size_count = 0\n",
    "for i in range(len(house_pred_df)):\n",
    "    if house_ori_100_df['door_yn'].tolist()[i] != house_pred_df['door_yn'].tolist()[i]:\n",
    "        door_count += 1\n",
    "    if house_ori_100_df['loc'].tolist()[i] != house_pred_df['loc'].tolist()[i]:\n",
    "        loc_count += 1\n",
    "    if house_ori_100_df['roof_yn'].tolist()[i] != house_pred_df['roof_yn'].tolist()[i]:\n",
    "        roof_count += 1\n",
    "    if house_ori_100_df['window_cnt'].tolist()[i] != house_pred_df['window_cnt'].tolist()[i]:\n",
    "        window_count += 1\n",
    "    if house_ori_100_df['size'].tolist()[i] != house_pred_df['size'].tolist()[i]:\n",
    "        size_count += 1\n",
    "print(f'door diff : {door_count}')\n",
    "print(f'loc diff : {loc_count}')\n",
    "print(f'roof diff : {roof_count}')\n",
    "print(f'window diff : {window_count}')\n",
    "print(f'size diff : {size_count}')"
   ]
  },
  {
   "cell_type": "code",
   "execution_count": 12,
   "metadata": {},
   "outputs": [
    {
     "name": "stdout",
     "output_type": "stream",
     "text": [
      "14\n"
     ]
    }
   ],
   "source": [
    "window_wrong = []\n",
    "for i in range(len(house_pred_df)): \n",
    "    if house_ori_100_df['window_cnt'].iloc[i] != house_pred_df['window_cnt'].iloc[i]:\n",
    "        window_wrong.append([house_pred_df['id'].iloc[i], house_ori_100_df['window_cnt'].iloc[i], house_pred_df['window_cnt'].iloc[i]])\n",
    "\n",
    "print(len(window_wrong))"
   ]
  },
  {
   "cell_type": "code",
   "execution_count": 13,
   "metadata": {},
   "outputs": [
    {
     "name": "stdout",
     "output_type": "stream",
     "text": [
      "['24_176_23035_house', '1 or 2', 'absence']\n",
      "['24_178_23067_house', '1 or 2', 'more than 3']\n",
      "['24_179_23107_house', '1 or 2', 'more than 3']\n",
      "['26_139_23017_house', '1 or 2', 'more than 3']\n",
      "['26_140_23027_house', 'more than 3', 'absence']\n",
      "['33_95_23089_house', '1 or 2', 'absence']\n",
      "['33_97_23149_house', '1 or 2', 'more than 3']\n",
      "['33_97_23153_house', 'more than 3', 'absence']\n",
      "['3_12_23095_house', '1 or 2', 'absence']\n",
      "['3_13_23111_house', '1 or 2', 'absence']\n",
      "['50_229_23061_house', '1 or 2', 'absence']\n",
      "['50_230_23084_house', 'more than 3', 'absence']\n",
      "['50_231_23107_house', '1 or 2', 'absence']\n",
      "['5_26_23007_house', 'more than 3', 'absence']\n"
     ]
    }
   ],
   "source": [
    "for i in window_wrong:\n",
    "    print(i)"
   ]
  },
  {
   "cell_type": "code",
   "execution_count": 14,
   "metadata": {},
   "outputs": [
    {
     "name": "stdout",
     "output_type": "stream",
     "text": [
      "7\n"
     ]
    }
   ],
   "source": [
    "door_wrong = []\n",
    "for i in range(len(house_pred_df)): \n",
    "    if house_ori_100_df['door_yn'].iloc[i] != house_pred_df['door_yn'].iloc[i]:\n",
    "        door_wrong.append([house_pred_df['id'].iloc[i], house_ori_100_df['door_yn'].iloc[i], house_pred_df['door_yn'].iloc[i]])\n",
    "\n",
    "print(len(door_wrong))"
   ]
  },
  {
   "cell_type": "code",
   "execution_count": 15,
   "metadata": {},
   "outputs": [
    {
     "name": "stdout",
     "output_type": "stream",
     "text": [
      "['24_180_23138_house', 'y', 'n']\n",
      "['33_95_23089_house', 'n', 'y']\n",
      "['33_96_23116_house', 'y', 'n']\n",
      "['33_97_23149_house', 'y', 'n']\n",
      "['38_105_23025_house', 'y', 'n']\n",
      "['3_13_23111_house', 'n', 'y']\n",
      "['50_230_23088_house', 'n', 'y']\n"
     ]
    }
   ],
   "source": [
    "for i in door_wrong:\n",
    "    print(i)"
   ]
  },
  {
   "cell_type": "code",
   "execution_count": 16,
   "metadata": {},
   "outputs": [
    {
     "name": "stdout",
     "output_type": "stream",
     "text": [
      "10\n"
     ]
    }
   ],
   "source": [
    "roof_wrong = []\n",
    "for i in range(len(house_pred_df)): \n",
    "    if house_ori_100_df['roof_yn'].iloc[i] != house_pred_df['roof_yn'].iloc[i]:\n",
    "        roof_wrong.append([house_pred_df['id'].iloc[i], house_ori_100_df['roof_yn'].iloc[i], house_pred_df['roof_yn'].iloc[i]])\n",
    "\n",
    "print(len(roof_wrong))"
   ]
  },
  {
   "cell_type": "code",
   "execution_count": 17,
   "metadata": {},
   "outputs": [
    {
     "name": "stdout",
     "output_type": "stream",
     "text": [
      "['24_175_23019_house', 'n', 'y']\n",
      "['26_140_23027_house', 'y', 'n']\n",
      "['33_95_23089_house', 'y', 'n']\n",
      "['38_106_23062_house', 'y', 'n']\n",
      "['3_11_23079_house', 'y', 'n']\n",
      "['3_13_23111_house', 'y', 'n']\n",
      "['50_229_23061_house', 'n', 'y']\n",
      "['50_229_23070_house', 'y', 'n']\n",
      "['52_218_23119_house', 'y', 'n']\n",
      "['5_26_23007_house', 'y', 'n']\n"
     ]
    }
   ],
   "source": [
    "for i in roof_wrong:\n",
    "    print(i)"
   ]
  },
  {
   "cell_type": "code",
   "execution_count": 18,
   "metadata": {},
   "outputs": [
    {
     "name": "stdout",
     "output_type": "stream",
     "text": [
      "7\n"
     ]
    }
   ],
   "source": [
    "loc_wrong = []\n",
    "for i in range(len(house_pred_df)): \n",
    "    if house_ori_100_df['loc'].iloc[i] != house_pred_df['loc'].iloc[i]:\n",
    "        loc_wrong.append([house_pred_df['id'].iloc[i], house_ori_100_df['loc'].iloc[i], house_pred_df['loc'].iloc[i]])\n",
    "\n",
    "print(len(loc_wrong))"
   ]
  },
  {
   "cell_type": "code",
   "execution_count": 19,
   "metadata": {},
   "outputs": [
    {
     "name": "stdout",
     "output_type": "stream",
     "text": [
      "['24_177_23043_house', 'left', 'center']\n",
      "['24_178_23087_house', 'center', 'left']\n",
      "['33_97_23149_house', 'center', 'left']\n",
      "['33_98_23178_house', 'right', 'center']\n",
      "['38_107_23069_house', 'center', 'left']\n",
      "['47_197_23004_house', 'left', 'center']\n",
      "['52_217_23071_house', 'left', 'center']\n"
     ]
    }
   ],
   "source": [
    "for i in loc_wrong:\n",
    "    print(i)"
   ]
  },
  {
   "cell_type": "code",
   "execution_count": 20,
   "metadata": {},
   "outputs": [
    {
     "name": "stdout",
     "output_type": "stream",
     "text": [
      "7\n"
     ]
    }
   ],
   "source": [
    "size_wrong = []\n",
    "for i in range(len(house_pred_df)): \n",
    "    if house_ori_100_df['size'].iloc[i] != house_pred_df['size'].iloc[i]:\n",
    "        size_wrong.append([house_pred_df['id'].iloc[i], house_ori_100_df['size'].iloc[i], house_pred_df['size'].iloc[i]])\n",
    "\n",
    "print(len(size_wrong))"
   ]
  },
  {
   "cell_type": "code",
   "execution_count": 21,
   "metadata": {},
   "outputs": [
    {
     "name": "stdout",
     "output_type": "stream",
     "text": [
      "['24_180_23121_house', 'small', 'middle']\n",
      "['26_139_23002_house', 'small', 'middle']\n",
      "['33_93_23057_house', 'middle', 'big']\n",
      "['33_98_23194_house', 'small', 'middle']\n",
      "['50_230_23084_house', 'big', 'middle']\n",
      "['52_214_23003_house', 'middle', 'small']\n",
      "['5_28_23077_house', 'small', 'middle']\n"
     ]
    }
   ],
   "source": [
    "for i in size_wrong:\n",
    "    print(i)"
   ]
  },
  {
   "cell_type": "code",
   "execution_count": null,
   "metadata": {},
   "outputs": [],
   "source": []
  }
 ],
 "metadata": {
  "kernelspec": {
   "display_name": "bax",
   "language": "python",
   "name": "python3"
  },
  "language_info": {
   "codemirror_mode": {
    "name": "ipython",
    "version": 3
   },
   "file_extension": ".py",
   "mimetype": "text/x-python",
   "name": "python",
   "nbconvert_exporter": "python",
   "pygments_lexer": "ipython3",
   "version": "3.8.17"
  },
  "orig_nbformat": 4
 },
 "nbformat": 4,
 "nbformat_minor": 2
}
