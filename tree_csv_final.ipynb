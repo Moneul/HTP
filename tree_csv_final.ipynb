{
 "cells": [
  {
   "cell_type": "code",
   "execution_count": 1,
   "metadata": {},
   "outputs": [
    {
     "name": "stderr",
     "output_type": "stream",
     "text": [
      "c:\\Users\\minsub\\.conda\\envs\\bax\\lib\\site-packages\\tqdm\\auto.py:21: TqdmWarning: IProgress not found. Please update jupyter and ipywidgets. See https://ipywidgets.readthedocs.io/en/stable/user_install.html\n",
      "  from .autonotebook import tqdm as notebook_tqdm\n"
     ]
    }
   ],
   "source": [
    "from ultralytics import YOLO\n",
    "import numpy as np\n",
    "import os\n",
    "from tqdm import tqdm\n",
    "import pandas as pd\n",
    "import matplotlib.pyplot as plt"
   ]
  },
  {
   "cell_type": "markdown",
   "metadata": {},
   "source": [
    "### tree"
   ]
  },
  {
   "cell_type": "code",
   "execution_count": 2,
   "metadata": {},
   "outputs": [],
   "source": [
    "# 나무의 바운딩 박스 크기로 판별하는 함수\n",
    "def tree_size(results, checking_class): # 욜로 모델로 예측된 결과값과 각 객체들의 예측 클래스 번호가 담긴 리스트를 인자로 받음\n",
    "    # 검출된 객체들을 순회\n",
    "    for result in results: \n",
    "        boxes = result.boxes # 각 객체의 바운딩박스 정보를 boxes로 정의\n",
    "\n",
    "    trees =[] # 객체들이 담긴 리스트에서 나무로 판별된 객체 리스트의 인덱스 번호를 담을 리스트\n",
    "    bbox_sizes = [] # 바운딩 박스의 크기 정보를 담을 리스트\n",
    "\n",
    "    for idx, data in enumerate(checking_class): # 탐지된 객체들의 클래스 정보가 담긴 리스트 \n",
    "        if data == 6: # 클래스 번호가 6일시 (\"나무\"클래스의 번호가 6임)\n",
    "            tree_num = idx # 해당 리스트의 인덱스 번호를 trees리스트에 추가 \n",
    "            trees.append(tree_num)\n",
    "            \n",
    "    print(trees) \n",
    "\n",
    "    # 나무로 검출된 객체들의 바운딩 박스 넓이를 구해서 리스트에 추가하는 작업\n",
    "    for tree_num in trees: # 나무로 탐지된 객체의 인덱스 번호가 담긴 리스트를 순회\n",
    "        if tree_num != -1: \n",
    "            tree_xyxy_cordi = boxes.xyxy[tree_num].tolist() # 해당 객체의 바운딩 박스의 좌상단 우하단 좌표\n",
    "            bbox_size = (tree_xyxy_cordi[2] - tree_xyxy_cordi[0]) * (tree_xyxy_cordi[3] - tree_xyxy_cordi[1]) # 좌표를 통해 바운딩 박스의 가로 세로 길이를 구해 넓이를 구함\n",
    "            bbox_sizes.append(bbox_size) # 구한 바운딩 박스 넓이를 리스트에 추가\n",
    "\n",
    "    # 가장 큰 바운딩 박스의 인덱스 찾기\n",
    "    largest_bbox_idx = bbox_sizes.index(max(bbox_sizes))\n",
    "\n",
    "    print(\"가장 큰 바운딩 박스의 인덱스:\", largest_bbox_idx)\n",
    "\n",
    "    tree_num = trees[largest_bbox_idx] # 가장 넓이가 큰 바운딩 박스의 인덱스 번호로 정보 반환\n",
    "    tree_num\n",
    "\n",
    "    branch_yn, root_yn, crown_yn, fruit_yn, gnarl_yn, loc, size = tree_assess(tree_num, results, checking_class) # 가장큰 나무의 정보를 받아 각 요소들 라벨링하는 함수\n",
    "\n",
    "    return branch_yn, root_yn, crown_yn, fruit_yn, gnarl_yn, loc, size"
   ]
  },
  {
   "cell_type": "code",
   "execution_count": 3,
   "metadata": {},
   "outputs": [],
   "source": [
    "# 검출된 객체간의 iou를 계산하는 함수\n",
    "def cal_iou(boxA, boxB):\n",
    "    \n",
    "    # boxA와 boxB의 x, y 좌표 값 중 큰 값을 선택하여 IoU 계산에 사용할 시작 좌표를 결정\n",
    "    xA = max(boxA[0], boxB[0])\n",
    "    yA = max(boxA[1], boxB[1])\n",
    "    \n",
    "    # boxA와 boxB의 x, y 좌표 값 중 작은 값을 선택하여 IoU 계산에 사용할 끝 좌표를 결정\n",
    "    xB = min(boxA[2], boxB[2])\n",
    "    yB = min(boxA[3], boxB[3])\n",
    "\n",
    "    # 두 상자의 겹치는 영역의 넓이 계산\n",
    "    interArea = max(0, xB - xA + 1) * max(0, yB - yA + 1)\n",
    "\n",
    "    # 각 상자의 전체 영역의 넓이 계산\n",
    "    boxAArea = (boxA[2] - boxA[0] + 1) * (boxA[3] - boxA[1] + 1)\n",
    "    boxBArea = (boxB[2] - boxB[0] + 1) * (boxB[3] - boxB[1] + 1)\n",
    "\n",
    "    # iou계산\n",
    "    iou = interArea / float(boxAArea + boxBArea - interArea)\n",
    "\n",
    "    return iou"
   ]
  },
  {
   "cell_type": "code",
   "execution_count": 4,
   "metadata": {},
   "outputs": [],
   "source": [
    "# 가장 큰 bbox 나무의 인덱스 번호, 객체들 정보, 객체들의 클래스 리스트를 받아 각 요소들을 라벨링하는 함수\n",
    "def tree_assess(tree_num, results, checking_class):\n",
    "    for result in results: # 탐지된 객체들을 순회하면서\n",
    "        boxes = result.boxes # 각 객체의 bbox정보를 boxes에 할당\n",
    "\n",
    "    tree_xyxy_cordi = boxes.xyxy[tree_num].tolist() # 바운딩 박스의 좌상단 우하단 좌표 리스트\n",
    "    tree_center_x_cordi = boxes.xywh[tree_num].tolist()[0] # 바운딩 박스의 중심좌표와 가로 세로 길이 리스트\n",
    "\n",
    "    # 가지, 뿌리, 수관, 열매, 옹이나 상처, 위치, 크기\n",
    "    \n",
    "    # 가지 ============================================================\n",
    "    branch_class_num = [] # 가지 클래스의 인덱스 번호를 담을 리스트\n",
    "    for idx, data in enumerate(checking_class): # 객체들의 클래스 번호가 담긴 리스트를 순회하면서\n",
    "        if data == 0 or data == 1: # 리스트에 담긴 클래스 번호가 0 or 1 일시 (원래는 0인데 라벨링 실수로 branch_yn, branch_ynw 2개가 학습됨)\n",
    "            branch_class_num.append(idx) # 해당 인덱스 번호를 branch_class_num에 추가\n",
    "\n",
    "    branch_xyxy_cordi = [] # 가지 바운딩 박스의 좌표 정보를 담을 리스트\n",
    "    for idx in branch_class_num: # 가지의 인덱스 번호가 담긴 리스트를 순회 하면서\n",
    "        branch_xyxy_cordi.append(boxes.xyxy[idx].tolist()) # 가지의 바운딩 박스 좌상단 우하단 좌표 리스트를 리스트에 추가\n",
    "\n",
    "    branch_iou = [] # 가지의 iou 결과값을 담을 리스트\n",
    "    for i in branch_xyxy_cordi: # 가지의 바운딩 박스 정보가 담긴 리스트를 순회\n",
    "        branch_iou.append(cal_iou(tree_xyxy_cordi,i)) # 나무 바운딩 박스와 가지 바운딩 박스의 iou를 계산한 값을 리스트에 추가\n",
    "\n",
    "    branch_count = 0 # 가지의 개수 초기화\n",
    "    for i in branch_iou: # 가지와 나무의 iou값을 순회\n",
    "        if i != 0: # iou값이 0이 아니면(iou가 0일시 나무와 가지가 겹치지않음 -> 나무로 판단된 영역안에 가지가 없기에 가지로 판단된 객체가 잘못 된것이라 예측해 카운팅X)\n",
    "            branch_count += 1 # 가지의 개수 +1\n",
    "\n",
    "    branch_yn = '' # 가지 라벨링 정보 초기화\n",
    "    if branch_count == 0: # 가지의 카운팅수가 0일시 \n",
    "        branch_yn = 'n' # 가지의 라벨링을 'n'으로 없다라고 판정\n",
    "    else: # \n",
    "        branch_yn = 'y' # 가지의 라벨링을 'y'으로 있다라고 판정\n",
    "\n",
    "    # 위와 같은 과정으로 나머지 요소들도 iou를 바탕으로 나무로 판정된 영역 내에 겹치지 않는 것을 제외하고 카운팅해 라벨링\n",
    "    \n",
    "    # 뿌리 ============================================================\n",
    "    root_class_num = []\n",
    "    for idx, data in enumerate(checking_class):\n",
    "        if data == 5:\n",
    "            root_class_num.append(idx)\n",
    "\n",
    "    root_xyxy_cordi = []\n",
    "    for idx in root_class_num:\n",
    "        root_xyxy_cordi.append(boxes.xyxy[idx].tolist())\n",
    "\n",
    "    root_iou = []\n",
    "    for i in root_xyxy_cordi:\n",
    "        root_iou.append(cal_iou(tree_xyxy_cordi,i))\n",
    "\n",
    "    root_count = 0\n",
    "    for i in root_iou:\n",
    "        if i != 0:\n",
    "            root_count += 1\n",
    "\n",
    "    root_yn = ''\n",
    "    if root_count == 0:\n",
    "        root_yn = 'n'\n",
    "    else:\n",
    "        root_yn = 'y'\n",
    "\n",
    "    # 수관 ============================================================\n",
    "    crown_class_num = []\n",
    "    for idx, data in enumerate(checking_class):\n",
    "        if data == 2:\n",
    "            crown_class_num.append(idx)\n",
    "\n",
    "    crown_xyxy_cordi = []\n",
    "    for idx in crown_class_num:\n",
    "        crown_xyxy_cordi.append(boxes.xyxy[idx].tolist())\n",
    "\n",
    "    crown_iou = []\n",
    "    for i in crown_xyxy_cordi:\n",
    "        crown_iou.append(cal_iou(tree_xyxy_cordi,i))\n",
    "\n",
    "    crown_count = 0\n",
    "    for i in crown_iou:\n",
    "        if i != 0:\n",
    "            crown_count += 1\n",
    "\n",
    "    crown_yn = ''\n",
    "    if crown_count == 0:\n",
    "        crown_yn = 'n'\n",
    "    else:\n",
    "        crown_yn = 'y'\n",
    "\n",
    "    # 열매 ============================================================\n",
    "    fruit_class_num = []\n",
    "    for idx, data in enumerate(checking_class):\n",
    "        if data == 3:\n",
    "            fruit_class_num.append(idx)\n",
    "\n",
    "    fruit_xyxy_cordi = []\n",
    "    for idx in fruit_class_num:\n",
    "        fruit_xyxy_cordi.append(boxes.xyxy[idx].tolist())\n",
    "\n",
    "    fruit_iou = []\n",
    "    for i in fruit_xyxy_cordi:\n",
    "        fruit_iou.append(cal_iou(tree_xyxy_cordi,i))\n",
    "\n",
    "    fruit_count = 0\n",
    "    for i in fruit_iou:\n",
    "        if i != 0:\n",
    "            fruit_count += 1\n",
    "\n",
    "    fruit_yn = ''\n",
    "    if fruit_count == 0:\n",
    "        fruit_yn = 'n'\n",
    "    else:\n",
    "        fruit_yn = 'y'\n",
    "\n",
    "    # 옹이나 상처 ============================================================\n",
    "    gnarl_class_num = []\n",
    "    for idx, data in enumerate(checking_class):\n",
    "        if data == 4:\n",
    "            gnarl_class_num.append(idx)\n",
    "\n",
    "    gnarl_xyxy_cordi = []\n",
    "    for idx in gnarl_class_num:\n",
    "        gnarl_xyxy_cordi.append(boxes.xyxy[idx].tolist())\n",
    "\n",
    "    gnarl_iou = []\n",
    "    for i in gnarl_xyxy_cordi:\n",
    "        gnarl_iou.append(cal_iou(tree_xyxy_cordi,i))\n",
    "\n",
    "    gnarl_count = 0\n",
    "    for i in gnarl_iou:\n",
    "        if i != 0:\n",
    "            gnarl_count += 1\n",
    "\n",
    "    gnarl_yn = ''\n",
    "    if gnarl_count == 0:\n",
    "        gnarl_yn = 'n'\n",
    "    else:\n",
    "        gnarl_yn = 'y'\n",
    "\n",
    "    # 위치와 크기 ============================================================\n",
    "    image_w = boxes.orig_shape[0] * 0.965 # 입력받은 이미지 width\n",
    "    image_h = boxes.orig_shape[1] # 입력받은 이미지 height\n",
    "    image_size = image_w * image_h # 입력받은 이미지 넓이\n",
    "    tree_size = (tree_xyxy_cordi[2] - tree_xyxy_cordi[0]) * (tree_xyxy_cordi[3] - tree_xyxy_cordi[1]) # 나무 bbox의 넓이\n",
    "    tree_size_percent = tree_size / image_size * 100 # 입력받은 이미지 대비 나무의 bbox가 몇% 차지하는지 계산\n",
    "    \n",
    "    # 크기\n",
    "    size = '' # 크기 라벨링 정보 초기화\n",
    "    if tree_size_percent < 18 * 0.8: # 면적비율이 (18 * 0.8)% 미만일시\n",
    "        size = 'small' # small\n",
    "    elif tree_size_percent >= 18 * 0.8 and tree_size_percent < 55 * 0.8: # 면적비율이 (18 * 0.8)% ~ (55 * 0.8)% 미만일시\n",
    "        size = 'middle'\n",
    "    elif tree_size_percent >= 55 * 0.8: # 면적비율이 (55 * 0.8) 초과일시\n",
    "        size = 'big'\n",
    "    \n",
    "    # 위치\n",
    "    loc = '' # 위치 라벨링 정보 초기화\n",
    "    if tree_center_x_cordi < image_w/3: # 입력받은 이미지의 가로길이를 3등분해서 1/3지점보다 앞에 나무의 bbox의 중심좌표가 있을시\n",
    "        loc = 'left'\n",
    "    elif tree_center_x_cordi >= image_w/3 and tree_center_x_cordi < image_w/3*2: # 1/3 ~ 2/3지점사이에 있으시 \n",
    "        loc = 'center'\n",
    "    elif tree_center_x_cordi >= image_w/3*2: # 2/3지점 보다 뒤에 있을시\n",
    "        loc = 'right'\n",
    "    \n",
    "    return branch_yn, root_yn, crown_yn, fruit_yn, gnarl_yn, loc, size"
   ]
  },
  {
   "cell_type": "code",
   "execution_count": 5,
   "metadata": {},
   "outputs": [],
   "source": [
    "# 나무로 탐지된 객체수에 따라 라벨링을 결정\n",
    "def tree_csv(results): # 객체들의 정보를 인자로 받음\n",
    "    for result in results: # 객체들을 순회하면서\n",
    "        boxes = result.boxes # 각 객체의 bbox 정보를 boxes로 할당\n",
    "        \n",
    "    checking_class = boxes.cls.int().tolist() # 각 bbox의 클래스 번호를 리스트로 반환\n",
    "\n",
    "    tree_num = -1 # 나무 인덱스 번호 초기화\n",
    "    \n",
    "    for idx, data in enumerate(checking_class): # 클래스 번호가 담긴 리스트를 순회하며\n",
    "        if data == 6: # 클래스 번호가 6일시 (나무 클래스 번호가 6)\n",
    "            tree_num = idx # 해당 인덱스 번호를 할당후 for문 탈출\n",
    "            break\n",
    "    \n",
    "    if tree_num != -1: # 나무 인덱스 번호가 -1이 아닐시 (나무로 검출된 객체가 있음)\n",
    "        if checking_class.count(6) == 0: # 객체들의 클래스 번호가 담긴 리스트에서 6이 0개 일시\n",
    "            print('나무가 검출되지 않았습니다.') \n",
    "        else:\n",
    "            # 크기가 가장 큰 바운딩 박스 찾는 함수 호출\n",
    "            branch_yn, root_yn, crown_yn, fruit_yn, gnarl_yn, loc, size = tree_size(results, checking_class)\n",
    "    else: # 오류 방지 차원 알고리즘으로 라벨링 불가시\n",
    "        branch_yn = 'no detect'\n",
    "        root_yn = 'no detect'\n",
    "        crown_yn = 'no detect'\n",
    "        fruit_yn = 'no detect'\n",
    "        gnarl_yn = 'no detect'\n",
    "        loc = 'no detect'\n",
    "        size = 'no detect'\n",
    "\n",
    "    return branch_yn, root_yn, crown_yn, fruit_yn, gnarl_yn, loc, size"
   ]
  },
  {
   "cell_type": "code",
   "execution_count": 6,
   "metadata": {},
   "outputs": [],
   "source": [
    "model = YOLO('./tree_x_weight/weights/best.pt') # 모델 로드"
   ]
  },
  {
   "cell_type": "code",
   "execution_count": 7,
   "metadata": {},
   "outputs": [],
   "source": [
    "def yolov8_tree_detect(path,filename): # 검사할 이미지의 경로와 파일 이름을 인자로\n",
    "    \n",
    "    results = model.predict(path+ '/' + filename) # 로드한 모델로부터 예측결과를 results에 할당\n",
    "    \n",
    "    res_plot = results[0].plot() \n",
    "    \n",
    "    plt.imshow(res_plot)\n",
    "\n",
    "    branch_yn, root_yn, crown_yn, fruit_yn, gnarl_yn, loc, size = tree_csv(results)\n",
    "    \n",
    "    return branch_yn, root_yn, crown_yn, fruit_yn, gnarl_yn, loc, size"
   ]
  },
  {
   "cell_type": "code",
   "execution_count": 8,
   "metadata": {},
   "outputs": [],
   "source": [
    "def tree_save(img_dir, save_dir):\n",
    "    \n",
    "    all_images = [f for f in os.listdir(img_dir) if os.path.isfile(os.path.join(img_dir, f)) and f.endswith(('.png', '.jpg', '.jpeg'))] \n",
    "\n",
    "    filenames = []\n",
    "\n",
    "    tree_df = pd.DataFrame(columns=('id', 'branch_yn', 'root_yn', 'crown_yn', 'fruit_yn', 'gnarl_yn', 'loc', 'size')) # 컬럼명을 지정한 빈 데이터프레임 생성\n",
    "\n",
    "    for i in all_images:\n",
    "\n",
    "        filenames.append(i.split('.')[0][:-4])\n",
    "\n",
    "    for filename, i in tqdm(zip(all_images, filenames)): \n",
    "        branch_yn, root_yn, crown_yn, fruit_yn, gnarl_yn, loc, size = yolov8_tree_detect(img_dir, filename)\n",
    "        output_filename =save_dir + i + '.jpg'\n",
    "        plt.savefig(output_filename, format='jpg', dpi=300)\n",
    "        plt.close()\n",
    "        tree_df.loc[len(tree_df)] = [i, branch_yn, root_yn, crown_yn, fruit_yn, gnarl_yn, loc, size] # 행기준으로 추가\n",
    "    \n",
    "    tree_df.to_csv(save_dir +'tree_result.csv', index=False) # csv파일로 저장"
   ]
  },
  {
   "cell_type": "code",
   "execution_count": 9,
   "metadata": {},
   "outputs": [
    {
     "name": "stderr",
     "output_type": "stream",
     "text": [
      "0it [00:00, ?it/s]\n",
      "image 1/1 c:\\yolov8\\tree.v1i.yolov8\\test\\images\\24_175_23183_tree_jpg.rf.d122b20c6241e2e178f6f68256b36a3c.jpg: 640x640 1 crown_yn, 1 tree, 51.0ms\n",
      "Speed: 4.0ms preprocess, 51.0ms inference, 5.0ms postprocess per image at shape (1, 3, 640, 640)\n",
      "1it [00:03,  3.27s/it]\n"
     ]
    },
    {
     "name": "stdout",
     "output_type": "stream",
     "text": [
      "[0]\n",
      "가장 큰 바운딩 박스의 인덱스: 0\n"
     ]
    },
    {
     "name": "stderr",
     "output_type": "stream",
     "text": [
      "image 1/1 c:\\yolov8\\tree.v1i.yolov8\\test\\images\\24_176_23041_tree_jpg.rf.825b781ae7699229b9cebda9fb71b26b.jpg: 640x640 5 branch_yns, 1 crown_yn, 1 fruit_yn, 1 tree, 47.0ms\n",
      "Speed: 2.0ms preprocess, 47.0ms inference, 2.0ms postprocess per image at shape (1, 3, 640, 640)\n",
      "2it [00:03,  1.48s/it]\n"
     ]
    },
    {
     "name": "stdout",
     "output_type": "stream",
     "text": [
      "[0]\n",
      "가장 큰 바운딩 박스의 인덱스: 0\n"
     ]
    },
    {
     "name": "stderr",
     "output_type": "stream",
     "text": [
      "image 1/1 c:\\yolov8\\tree.v1i.yolov8\\test\\images\\24_176_23042_tree_jpg.rf.e025df75a3edba336a89dc991bd73332.jpg: 640x640 2 branch_yns, 1 crown_yn, 5 fruit_yns, 5 root_yns, 1 tree, 52.0ms\n",
      "Speed: 1.0ms preprocess, 52.0ms inference, 1.0ms postprocess per image at shape (1, 3, 640, 640)\n",
      "3it [00:03,  1.09it/s]\n"
     ]
    },
    {
     "name": "stdout",
     "output_type": "stream",
     "text": [
      "[3]\n",
      "가장 큰 바운딩 박스의 인덱스: 0\n"
     ]
    },
    {
     "name": "stderr",
     "output_type": "stream",
     "text": [
      "image 1/1 c:\\yolov8\\tree.v1i.yolov8\\test\\images\\24_177_23044_tree_jpg.rf.ae4c6cc4ee8d69e822897944fef72144.jpg: 640x640 1 crown_yn, 9 fruit_yns, 10 gnarl_yns, 4 root_yns, 1 tree, 51.3ms\n",
      "Speed: 2.0ms preprocess, 51.3ms inference, 2.0ms postprocess per image at shape (1, 3, 640, 640)\n",
      "4it [00:03,  1.54it/s]\n"
     ]
    },
    {
     "name": "stdout",
     "output_type": "stream",
     "text": [
      "[0]\n",
      "가장 큰 바운딩 박스의 인덱스: 0\n"
     ]
    },
    {
     "name": "stderr",
     "output_type": "stream",
     "text": [
      "image 1/1 c:\\yolov8\\tree.v1i.yolov8\\test\\images\\24_177_23046_tree_jpg.rf.61bce4233b5fdabdb551afa79e0d41cc.jpg: 640x640 2 crown_yns, 5 fruit_yns, 1 tree, 48.0ms\n",
      "Speed: 2.0ms preprocess, 48.0ms inference, 2.0ms postprocess per image at shape (1, 3, 640, 640)\n",
      "5it [00:04,  2.00it/s]\n"
     ]
    },
    {
     "name": "stdout",
     "output_type": "stream",
     "text": [
      "[0]\n",
      "가장 큰 바운딩 박스의 인덱스: 0\n"
     ]
    },
    {
     "name": "stderr",
     "output_type": "stream",
     "text": [
      "image 1/1 c:\\yolov8\\tree.v1i.yolov8\\test\\images\\24_177_23064_tree_jpg.rf.ea7e33db463304c4b66c8916f2507b9e.jpg: 640x640 3 branch_yns, 1 crown_yn, 1 tree, 51.0ms\n",
      "Speed: 2.0ms preprocess, 51.0ms inference, 2.0ms postprocess per image at shape (1, 3, 640, 640)\n",
      "6it [00:04,  2.44it/s]\n"
     ]
    },
    {
     "name": "stdout",
     "output_type": "stream",
     "text": [
      "[0]\n",
      "가장 큰 바운딩 박스의 인덱스: 0\n"
     ]
    },
    {
     "name": "stderr",
     "output_type": "stream",
     "text": [
      "image 1/1 c:\\yolov8\\tree.v1i.yolov8\\test\\images\\24_178_23070_tree_jpg.rf.f94d1078d4d88a6dc3f5ca974dba15e2.jpg: 640x640 1 crown_yn, 1 gnarl_yn, 1 tree, 49.0ms\n",
      "Speed: 2.0ms preprocess, 49.0ms inference, 2.0ms postprocess per image at shape (1, 3, 640, 640)\n",
      "7it [00:04,  2.85it/s]\n"
     ]
    },
    {
     "name": "stdout",
     "output_type": "stream",
     "text": [
      "[1]\n",
      "가장 큰 바운딩 박스의 인덱스: 0\n"
     ]
    },
    {
     "name": "stderr",
     "output_type": "stream",
     "text": [
      "image 1/1 c:\\yolov8\\tree.v1i.yolov8\\test\\images\\24_178_23082_tree_jpg.rf.b067b81f172611861db92f2875e489db.jpg: 640x640 2 branch_yns, 1 crown_yn, 1 fruit_yn, 1 tree, 47.0ms\n",
      "Speed: 2.0ms preprocess, 47.0ms inference, 2.0ms postprocess per image at shape (1, 3, 640, 640)\n",
      "8it [00:04,  3.01it/s]\n",
      "image 1/1 c:\\yolov8\\tree.v1i.yolov8\\test\\images\\24_179_23102_tree_jpg.rf.8cb7d9a13082fa18fa28a804620f3434.jpg: 640x640 3 branch_yns, 1 crown_yn, 2 fruit_yns, 2 gnarl_yns, 1 tree, 52.0ms\n"
     ]
    },
    {
     "name": "stdout",
     "output_type": "stream",
     "text": [
      "[0]\n",
      "가장 큰 바운딩 박스의 인덱스: 0\n"
     ]
    },
    {
     "name": "stderr",
     "output_type": "stream",
     "text": [
      "Speed: 2.0ms preprocess, 52.0ms inference, 2.0ms postprocess per image at shape (1, 3, 640, 640)\n",
      "9it [00:05,  3.29it/s]\n"
     ]
    },
    {
     "name": "stdout",
     "output_type": "stream",
     "text": [
      "[1]\n",
      "가장 큰 바운딩 박스의 인덱스: 0\n"
     ]
    },
    {
     "name": "stderr",
     "output_type": "stream",
     "text": [
      "image 1/1 c:\\yolov8\\tree.v1i.yolov8\\test\\images\\24_179_23103_tree_jpg.rf.74e75aee55f26ff9d52bd69577926dd3.jpg: 640x640 13 branch_yns, 1 crown_yn, 1 tree, 50.0ms\n",
      "Speed: 2.0ms preprocess, 50.0ms inference, 3.0ms postprocess per image at shape (1, 3, 640, 640)\n",
      "10it [00:05,  3.55it/s]\n"
     ]
    },
    {
     "name": "stdout",
     "output_type": "stream",
     "text": [
      "[1]\n",
      "가장 큰 바운딩 박스의 인덱스: 0\n"
     ]
    },
    {
     "name": "stderr",
     "output_type": "stream",
     "text": [
      "image 1/1 c:\\yolov8\\tree.v1i.yolov8\\test\\images\\24_179_23107_tree_jpg.rf.a3aeeecd4109031d46e3ce846d0e3cf2.jpg: 640x640 7 branch_yns, 1 crown_yn, 4 fruit_yns, 4 gnarl_yns, 1 root_yn, 1 tree, 51.0ms\n",
      "Speed: 1.0ms preprocess, 51.0ms inference, 3.0ms postprocess per image at shape (1, 3, 640, 640)\n",
      "11it [00:05,  3.75it/s]\n"
     ]
    },
    {
     "name": "stdout",
     "output_type": "stream",
     "text": [
      "[0]\n",
      "가장 큰 바운딩 박스의 인덱스: 0\n"
     ]
    },
    {
     "name": "stderr",
     "output_type": "stream",
     "text": [
      "image 1/1 c:\\yolov8\\tree.v1i.yolov8\\test\\images\\24_179_23120_tree_jpg.rf.acd8c1300f4763058ad251287f94354b.jpg: 640x640 7 branch_yns, 1 crown_yn, 2 gnarl_yns, 1 root_yn, 1 tree, 49.0ms\n",
      "Speed: 2.0ms preprocess, 49.0ms inference, 2.0ms postprocess per image at shape (1, 3, 640, 640)\n",
      "12it [00:05,  3.91it/s]\n"
     ]
    },
    {
     "name": "stdout",
     "output_type": "stream",
     "text": [
      "[2]\n",
      "가장 큰 바운딩 박스의 인덱스: 0\n"
     ]
    },
    {
     "name": "stderr",
     "output_type": "stream",
     "text": [
      "image 1/1 c:\\yolov8\\tree.v1i.yolov8\\test\\images\\24_180_23136_tree_jpg.rf.6f039206230eb20d83087936fb5d83f8.jpg: 640x640 1 crown_yn, 5 fruit_yns, 2 root_yns, 1 tree, 50.0ms\n",
      "Speed: 2.0ms preprocess, 50.0ms inference, 3.0ms postprocess per image at shape (1, 3, 640, 640)\n",
      "13it [00:06,  4.02it/s]\n"
     ]
    },
    {
     "name": "stdout",
     "output_type": "stream",
     "text": [
      "[0]\n",
      "가장 큰 바운딩 박스의 인덱스: 0\n"
     ]
    },
    {
     "name": "stderr",
     "output_type": "stream",
     "text": [
      "image 1/1 c:\\yolov8\\tree.v1i.yolov8\\test\\images\\24_181_23158_tree_jpg.rf.5dec7a4ba955c989a2200f4402370cfc.jpg: 640x640 1 fruit_yn, 1 tree, 51.0ms\n",
      "Speed: 2.0ms preprocess, 51.0ms inference, 3.0ms postprocess per image at shape (1, 3, 640, 640)\n",
      "14it [00:06,  4.14it/s]\n"
     ]
    },
    {
     "name": "stdout",
     "output_type": "stream",
     "text": [
      "[0]\n",
      "가장 큰 바운딩 박스의 인덱스: 0\n"
     ]
    },
    {
     "name": "stderr",
     "output_type": "stream",
     "text": [
      "image 1/1 c:\\yolov8\\tree.v1i.yolov8\\test\\images\\24_181_23161_tree_jpg.rf.2b5e41ab167d47469ea155e49764d880.jpg: 640x640 4 branch_yns, 1 crown_yn, 8 fruit_yns, 3 gnarl_yns, 2 root_yns, 1 tree, 51.0ms\n",
      "Speed: 1.0ms preprocess, 51.0ms inference, 2.0ms postprocess per image at shape (1, 3, 640, 640)\n",
      "15it [00:06,  4.10it/s]\n"
     ]
    },
    {
     "name": "stdout",
     "output_type": "stream",
     "text": [
      "[1]\n",
      "가장 큰 바운딩 박스의 인덱스: 0\n"
     ]
    },
    {
     "name": "stderr",
     "output_type": "stream",
     "text": [
      "image 1/1 c:\\yolov8\\tree.v1i.yolov8\\test\\images\\24_181_23182_tree_jpg.rf.7c19e0fa454473260da135941ab955cb.jpg: 640x640 4 branch_yns, 1 crown_yn, 7 fruit_yns, 3 gnarl_yns, 1 tree, 55.0ms\n",
      "Speed: 2.0ms preprocess, 55.0ms inference, 2.0ms postprocess per image at shape (1, 3, 640, 640)\n",
      "16it [00:06,  4.12it/s]\n"
     ]
    },
    {
     "name": "stdout",
     "output_type": "stream",
     "text": [
      "[0]\n",
      "가장 큰 바운딩 박스의 인덱스: 0\n"
     ]
    },
    {
     "name": "stderr",
     "output_type": "stream",
     "text": [
      "image 1/1 c:\\yolov8\\tree.v1i.yolov8\\test\\images\\26_139_23011_tree_jpg.rf.30ae50f6435303dbca4d3d009b3f7e9e.jpg: 640x640 3 branch_yns, 1 crown_yn, 1 tree, 60.0ms\n",
      "Speed: 2.0ms preprocess, 60.0ms inference, 2.0ms postprocess per image at shape (1, 3, 640, 640)\n",
      "17it [00:07,  4.15it/s]\n"
     ]
    },
    {
     "name": "stdout",
     "output_type": "stream",
     "text": [
      "[0]\n",
      "가장 큰 바운딩 박스의 인덱스: 0\n"
     ]
    },
    {
     "name": "stderr",
     "output_type": "stream",
     "text": [
      "image 1/1 c:\\yolov8\\tree.v1i.yolov8\\test\\images\\26_139_23015_tree_jpg.rf.413f7b9fb4467094c46d74a1fba46574.jpg: 640x640 4 branch_yns, 1 fruit_yn, 1 root_yn, 1 tree, 54.0ms\n",
      "Speed: 2.0ms preprocess, 54.0ms inference, 3.0ms postprocess per image at shape (1, 3, 640, 640)\n",
      "18it [00:07,  4.19it/s]\n"
     ]
    },
    {
     "name": "stdout",
     "output_type": "stream",
     "text": [
      "[0]\n",
      "가장 큰 바운딩 박스의 인덱스: 0\n"
     ]
    },
    {
     "name": "stderr",
     "output_type": "stream",
     "text": [
      "image 1/1 c:\\yolov8\\tree.v1i.yolov8\\test\\images\\26_140_23028_tree_jpg.rf.8385a3de36c3393eecf5c4a8a5327537.jpg: 640x640 2 branch_yns, 1 crown_yn, 6 fruit_yns, 1 root_yn, 1 tree, 64.0ms\n",
      "Speed: 2.0ms preprocess, 64.0ms inference, 3.0ms postprocess per image at shape (1, 3, 640, 640)\n"
     ]
    },
    {
     "name": "stdout",
     "output_type": "stream",
     "text": [
      "[0]\n",
      "가장 큰 바운딩 박스의 인덱스: 0\n"
     ]
    },
    {
     "name": "stderr",
     "output_type": "stream",
     "text": [
      "19it [00:07,  3.69it/s]\n",
      "image 1/1 c:\\yolov8\\tree.v1i.yolov8\\test\\images\\26_140_23031_tree_jpg.rf.f07d92c9d5ba454c42d332edc2e17a1a.jpg: 640x640 1 crown_yn, 14 fruit_yns, 2 root_yns, 1 tree, 55.0ms\n",
      "Speed: 3.0ms preprocess, 55.0ms inference, 2.0ms postprocess per image at shape (1, 3, 640, 640)\n"
     ]
    },
    {
     "name": "stdout",
     "output_type": "stream",
     "text": [
      "[2]\n",
      "가장 큰 바운딩 박스의 인덱스: 0\n"
     ]
    },
    {
     "name": "stderr",
     "output_type": "stream",
     "text": [
      "20it [00:08,  3.37it/s]\n",
      "image 1/1 c:\\yolov8\\tree.v1i.yolov8\\test\\images\\26_140_23032_tree_jpg.rf.1d084e9e01309c4a76f8b9b1f30e49c3.jpg: 640x640 2 branch_yns, 1 crown_yn, 16 fruit_yns, 2 root_yns, 1 tree, 60.0ms\n",
      "Speed: 2.0ms preprocess, 60.0ms inference, 2.0ms postprocess per image at shape (1, 3, 640, 640)\n",
      "21it [00:08,  3.41it/s]"
     ]
    },
    {
     "name": "stdout",
     "output_type": "stream",
     "text": [
      "[0]\n",
      "가장 큰 바운딩 박스의 인덱스: 0\n"
     ]
    },
    {
     "name": "stderr",
     "output_type": "stream",
     "text": [
      "\n",
      "image 1/1 c:\\yolov8\\tree.v1i.yolov8\\test\\images\\26_141_23051_tree_jpg.rf.5a769874462fa0d04ba86b693d4d4a0b.jpg: 640x640 1 branch_yn, 1 crown_yn, 1 tree, 53.0ms\n",
      "Speed: 2.0ms preprocess, 53.0ms inference, 2.0ms postprocess per image at shape (1, 3, 640, 640)\n",
      "22it [00:08,  3.59it/s]\n"
     ]
    },
    {
     "name": "stdout",
     "output_type": "stream",
     "text": [
      "[1]\n",
      "가장 큰 바운딩 박스의 인덱스: 0\n"
     ]
    },
    {
     "name": "stderr",
     "output_type": "stream",
     "text": [
      "image 1/1 c:\\yolov8\\tree.v1i.yolov8\\test\\images\\26_142_23057_tree_jpg.rf.f918d7a00b2158f3652af8d6a3edc194.jpg: 640x640 1 crown_yn, 1 tree, 51.0ms\n",
      "Speed: 2.0ms preprocess, 51.0ms inference, 2.0ms postprocess per image at shape (1, 3, 640, 640)\n",
      "23it [00:08,  3.77it/s]\n"
     ]
    },
    {
     "name": "stdout",
     "output_type": "stream",
     "text": [
      "[0]\n",
      "가장 큰 바운딩 박스의 인덱스: 0\n"
     ]
    },
    {
     "name": "stderr",
     "output_type": "stream",
     "text": [
      "image 1/1 c:\\yolov8\\tree.v1i.yolov8\\test\\images\\26_142_23064_tree_jpg.rf.0cbfee9e72e623cf39018344e7d1ee00.jpg: 640x640 1 crown_yn, 15 fruit_yns, 1 tree, 51.0ms\n",
      "Speed: 2.0ms preprocess, 51.0ms inference, 3.0ms postprocess per image at shape (1, 3, 640, 640)\n",
      "24it [00:09,  3.76it/s]\n"
     ]
    },
    {
     "name": "stdout",
     "output_type": "stream",
     "text": [
      "[0]\n",
      "가장 큰 바운딩 박스의 인덱스: 0\n"
     ]
    },
    {
     "name": "stderr",
     "output_type": "stream",
     "text": [
      "image 1/1 c:\\yolov8\\tree.v1i.yolov8\\test\\images\\33_91_23007_tree_jpg.rf.f688802e6d72175b18fd0e94d9bce6ab.jpg: 640x640 3 branch_yns, 1 crown_yn, 1 tree, 49.0ms\n",
      "Speed: 2.0ms preprocess, 49.0ms inference, 2.0ms postprocess per image at shape (1, 3, 640, 640)\n",
      "25it [00:09,  3.89it/s]\n"
     ]
    },
    {
     "name": "stdout",
     "output_type": "stream",
     "text": [
      "[0]\n",
      "가장 큰 바운딩 박스의 인덱스: 0\n"
     ]
    },
    {
     "name": "stderr",
     "output_type": "stream",
     "text": [
      "image 1/1 c:\\yolov8\\tree.v1i.yolov8\\test\\images\\33_91_23018_tree_jpg.rf.e416c88fdd0fbabdc70a9c3a3a34c867.jpg: 640x640 4 branch_yns, 1 crown_yn, 1 fruit_yn, 1 gnarl_yn, 1 tree, 50.0ms\n",
      "Speed: 2.0ms preprocess, 50.0ms inference, 2.0ms postprocess per image at shape (1, 3, 640, 640)\n",
      "26it [00:09,  3.86it/s]"
     ]
    },
    {
     "name": "stdout",
     "output_type": "stream",
     "text": [
      "[0]\n",
      "가장 큰 바운딩 박스의 인덱스: 0\n"
     ]
    },
    {
     "name": "stderr",
     "output_type": "stream",
     "text": [
      "\n",
      "image 1/1 c:\\yolov8\\tree.v1i.yolov8\\test\\images\\33_92_23030_tree_jpg.rf.7c02eaf7e6445b25474a929bfbb5900e.jpg: 640x640 1 crown_yn, 1 tree, 47.0ms\n",
      "Speed: 2.0ms preprocess, 47.0ms inference, 1.0ms postprocess per image at shape (1, 3, 640, 640)\n",
      "27it [00:09,  4.02it/s]\n"
     ]
    },
    {
     "name": "stdout",
     "output_type": "stream",
     "text": [
      "[0]\n",
      "가장 큰 바운딩 박스의 인덱스: 0\n"
     ]
    },
    {
     "name": "stderr",
     "output_type": "stream",
     "text": [
      "image 1/1 c:\\yolov8\\tree.v1i.yolov8\\test\\images\\33_92_23032_tree_jpg.rf.085c06f57d539c98b08298f72fc9a2c4.jpg: 640x640 4 branch_yns, 4 gnarl_yns, 1 tree, 48.0ms\n",
      "Speed: 2.0ms preprocess, 48.0ms inference, 2.0ms postprocess per image at shape (1, 3, 640, 640)\n",
      "28it [00:10,  3.56it/s]\n"
     ]
    },
    {
     "name": "stdout",
     "output_type": "stream",
     "text": [
      "[0]\n",
      "가장 큰 바운딩 박스의 인덱스: 0\n"
     ]
    },
    {
     "name": "stderr",
     "output_type": "stream",
     "text": [
      "image 1/1 c:\\yolov8\\tree.v1i.yolov8\\test\\images\\33_92_23034_tree_jpg.rf.ef69c3d670dd2a2df881cf51047cfbf3.jpg: 640x640 3 branch_yns, 1 crown_yn, 1 tree, 50.0ms\n",
      "Speed: 2.0ms preprocess, 50.0ms inference, 3.0ms postprocess per image at shape (1, 3, 640, 640)\n",
      "29it [00:10,  3.68it/s]\n"
     ]
    },
    {
     "name": "stdout",
     "output_type": "stream",
     "text": [
      "[0]\n",
      "가장 큰 바운딩 박스의 인덱스: 0\n"
     ]
    },
    {
     "name": "stderr",
     "output_type": "stream",
     "text": [
      "image 1/1 c:\\yolov8\\tree.v1i.yolov8\\test\\images\\33_92_23036_tree_jpg.rf.8f3e3507cb978261fcd2c91e55d8b798.jpg: 640x640 1 crown_yn, 5 fruit_yns, 2 gnarl_yns, 1 tree, 53.0ms\n",
      "Speed: 2.0ms preprocess, 53.0ms inference, 4.0ms postprocess per image at shape (1, 3, 640, 640)\n",
      "30it [00:10,  3.66it/s]"
     ]
    },
    {
     "name": "stdout",
     "output_type": "stream",
     "text": [
      "[0]\n",
      "가장 큰 바운딩 박스의 인덱스: 0\n"
     ]
    },
    {
     "name": "stderr",
     "output_type": "stream",
     "text": [
      "\n",
      "image 1/1 c:\\yolov8\\tree.v1i.yolov8\\test\\images\\33_92_23037_tree_jpg.rf.5fb1dcdb85790c2a064ad10963bdd647.jpg: 640x640 1 crown_yn, 1 tree, 58.0ms\n",
      "Speed: 2.0ms preprocess, 58.0ms inference, 2.0ms postprocess per image at shape (1, 3, 640, 640)\n",
      "31it [00:10,  3.61it/s]"
     ]
    },
    {
     "name": "stdout",
     "output_type": "stream",
     "text": [
      "[0]\n",
      "가장 큰 바운딩 박스의 인덱스: 0\n"
     ]
    },
    {
     "name": "stderr",
     "output_type": "stream",
     "text": [
      "\n",
      "image 1/1 c:\\yolov8\\tree.v1i.yolov8\\test\\images\\33_93_23053_tree_jpg.rf.9a7678ac0dba6897088c015c3f5939fd.jpg: 640x640 3 branch_yns, 1 crown_yn, 7 fruit_yns, 1 tree, 53.0ms\n",
      "Speed: 3.0ms preprocess, 53.0ms inference, 2.0ms postprocess per image at shape (1, 3, 640, 640)\n",
      "32it [00:11,  3.75it/s]\n"
     ]
    },
    {
     "name": "stdout",
     "output_type": "stream",
     "text": [
      "[1]\n",
      "가장 큰 바운딩 박스의 인덱스: 0\n"
     ]
    },
    {
     "name": "stderr",
     "output_type": "stream",
     "text": [
      "image 1/1 c:\\yolov8\\tree.v1i.yolov8\\test\\images\\33_93_23057_tree_jpg.rf.1127d3117b2832153508dd3d716e9208.jpg: 640x640 3 branch_yns, 1 tree, 50.0ms\n",
      "Speed: 2.0ms preprocess, 50.0ms inference, 1.0ms postprocess per image at shape (1, 3, 640, 640)\n",
      "33it [00:11,  3.91it/s]\n"
     ]
    },
    {
     "name": "stdout",
     "output_type": "stream",
     "text": [
      "[0]\n",
      "가장 큰 바운딩 박스의 인덱스: 0\n"
     ]
    },
    {
     "name": "stderr",
     "output_type": "stream",
     "text": [
      "image 1/1 c:\\yolov8\\tree.v1i.yolov8\\test\\images\\33_93_23059_tree_jpg.rf.ef2b3ee83e311a963a0ce0be99ab4fdb.jpg: 640x640 1 crown_yn, 1 tree, 52.0ms\n",
      "Speed: 2.0ms preprocess, 52.0ms inference, 2.0ms postprocess per image at shape (1, 3, 640, 640)\n",
      "34it [00:11,  4.03it/s]\n"
     ]
    },
    {
     "name": "stdout",
     "output_type": "stream",
     "text": [
      "[0]\n",
      "가장 큰 바운딩 박스의 인덱스: 0\n"
     ]
    },
    {
     "name": "stderr",
     "output_type": "stream",
     "text": [
      "image 1/1 c:\\yolov8\\tree.v1i.yolov8\\test\\images\\33_93_23063_tree_jpg.rf.5b251c02c3cb83b6f17010d02f183c46.jpg: 640x640 1 crown_yn, 1 fruit_yn, 1 tree, 51.0ms\n",
      "Speed: 2.0ms preprocess, 51.0ms inference, 2.0ms postprocess per image at shape (1, 3, 640, 640)\n",
      "35it [00:11,  4.12it/s]\n"
     ]
    },
    {
     "name": "stdout",
     "output_type": "stream",
     "text": [
      "[1]\n",
      "가장 큰 바운딩 박스의 인덱스: 0\n"
     ]
    },
    {
     "name": "stderr",
     "output_type": "stream",
     "text": [
      "image 1/1 c:\\yolov8\\tree.v1i.yolov8\\test\\images\\33_93_23064_tree_jpg.rf.a756d77bc52280cc2d54a8f5b709e869.jpg: 640x640 1 crown_yn, 1 tree, 56.0ms\n",
      "Speed: 2.0ms preprocess, 56.0ms inference, 2.0ms postprocess per image at shape (1, 3, 640, 640)\n",
      "36it [00:12,  4.04it/s]\n"
     ]
    },
    {
     "name": "stdout",
     "output_type": "stream",
     "text": [
      "[0]\n",
      "가장 큰 바운딩 박스의 인덱스: 0\n"
     ]
    },
    {
     "name": "stderr",
     "output_type": "stream",
     "text": [
      "image 1/1 c:\\yolov8\\tree.v1i.yolov8\\test\\images\\33_93_23065_tree_jpg.rf.700854712a527acfb73bb8b5dd48a030.jpg: 640x640 1 crown_yn, 1 tree, 63.0ms\n",
      "Speed: 2.0ms preprocess, 63.0ms inference, 3.0ms postprocess per image at shape (1, 3, 640, 640)\n",
      "37it [00:12,  4.06it/s]\n"
     ]
    },
    {
     "name": "stdout",
     "output_type": "stream",
     "text": [
      "[0]\n",
      "가장 큰 바운딩 박스의 인덱스: 0\n"
     ]
    },
    {
     "name": "stderr",
     "output_type": "stream",
     "text": [
      "image 1/1 c:\\yolov8\\tree.v1i.yolov8\\test\\images\\33_94_23086_tree_jpg.rf.8f1d14ec86166fe4fa62562d8f372761.jpg: 640x640 1 crown_yn, 4 fruit_yns, 2 trees, 60.0ms\n",
      "Speed: 1.0ms preprocess, 60.0ms inference, 2.0ms postprocess per image at shape (1, 3, 640, 640)\n",
      "38it [00:12,  4.09it/s]\n"
     ]
    },
    {
     "name": "stdout",
     "output_type": "stream",
     "text": [
      "[0, 6]\n",
      "가장 큰 바운딩 박스의 인덱스: 0\n"
     ]
    },
    {
     "name": "stderr",
     "output_type": "stream",
     "text": [
      "image 1/1 c:\\yolov8\\tree.v1i.yolov8\\test\\images\\33_95_23104_tree_jpg.rf.2c5c1bd20b2e8916d36fed36a6cc48aa.jpg: 640x640 9 branch_yns, 1 crown_yn, 2 gnarl_yns, 1 tree, 57.0ms\n",
      "Speed: 1.0ms preprocess, 57.0ms inference, 2.0ms postprocess per image at shape (1, 3, 640, 640)\n",
      "39it [00:12,  4.11it/s]\n"
     ]
    },
    {
     "name": "stdout",
     "output_type": "stream",
     "text": [
      "[0]\n",
      "가장 큰 바운딩 박스의 인덱스: 0\n"
     ]
    },
    {
     "name": "stderr",
     "output_type": "stream",
     "text": [
      "image 1/1 c:\\yolov8\\tree.v1i.yolov8\\test\\images\\33_95_23108_tree_jpg.rf.555e00224ed51321ecb79663293bb5e6.jpg: 640x640 5 branch_yns, 1 crown_yn, 1 tree, 56.0ms\n",
      "Speed: 2.0ms preprocess, 56.0ms inference, 3.0ms postprocess per image at shape (1, 3, 640, 640)\n",
      "40it [00:13,  4.11it/s]\n"
     ]
    },
    {
     "name": "stdout",
     "output_type": "stream",
     "text": [
      "[1]\n",
      "가장 큰 바운딩 박스의 인덱스: 0\n"
     ]
    },
    {
     "name": "stderr",
     "output_type": "stream",
     "text": [
      "image 1/1 c:\\yolov8\\tree.v1i.yolov8\\test\\images\\33_96_23110_tree_jpg.rf.54bb2e29e93df1c1563086bdb8e8c2f8.jpg: 640x640 1 crown_yn, 1 tree, 59.0ms\n",
      "Speed: 2.0ms preprocess, 59.0ms inference, 2.0ms postprocess per image at shape (1, 3, 640, 640)\n",
      "41it [00:13,  4.15it/s]\n"
     ]
    },
    {
     "name": "stdout",
     "output_type": "stream",
     "text": [
      "[0]\n",
      "가장 큰 바운딩 박스의 인덱스: 0\n"
     ]
    },
    {
     "name": "stderr",
     "output_type": "stream",
     "text": [
      "image 1/1 c:\\yolov8\\tree.v1i.yolov8\\test\\images\\33_96_23116_tree_jpg.rf.394c8fd90b8867196cb676c347e26888.jpg: 640x640 1 crown_yn, 1 tree, 60.0ms\n",
      "Speed: 2.0ms preprocess, 60.0ms inference, 2.0ms postprocess per image at shape (1, 3, 640, 640)\n",
      "42it [00:13,  4.16it/s]\n"
     ]
    },
    {
     "name": "stdout",
     "output_type": "stream",
     "text": [
      "[0]\n",
      "가장 큰 바운딩 박스의 인덱스: 0\n"
     ]
    },
    {
     "name": "stderr",
     "output_type": "stream",
     "text": [
      "image 1/1 c:\\yolov8\\tree.v1i.yolov8\\test\\images\\33_96_23126_tree_jpg.rf.cd8f665e8e001480f4be37e7863a1b12.jpg: 640x640 2 branch_yns, 1 crown_yn, 2 fruit_yns, 2 trees, 58.0ms\n",
      "Speed: 2.0ms preprocess, 58.0ms inference, 3.0ms postprocess per image at shape (1, 3, 640, 640)\n",
      "43it [00:13,  4.17it/s]\n"
     ]
    },
    {
     "name": "stdout",
     "output_type": "stream",
     "text": [
      "[0, 4]\n",
      "가장 큰 바운딩 박스의 인덱스: 1\n"
     ]
    },
    {
     "name": "stderr",
     "output_type": "stream",
     "text": [
      "image 1/1 c:\\yolov8\\tree.v1i.yolov8\\test\\images\\33_96_23134_tree_jpg.rf.6fcf4851354d26a70b466ddd0bdf95a9.jpg: 640x640 4 branch_yns, 1 crown_yn, 2 fruit_yns, 1 root_yn, 1 tree, 57.0ms\n",
      "Speed: 2.0ms preprocess, 57.0ms inference, 3.0ms postprocess per image at shape (1, 3, 640, 640)\n",
      "44it [00:14,  4.16it/s]\n"
     ]
    },
    {
     "name": "stdout",
     "output_type": "stream",
     "text": [
      "[0]\n",
      "가장 큰 바운딩 박스의 인덱스: 0\n"
     ]
    },
    {
     "name": "stderr",
     "output_type": "stream",
     "text": [
      "image 1/1 c:\\yolov8\\tree.v1i.yolov8\\test\\images\\33_97_23142_tree_jpg.rf.23078dd7203a27e591b371b97545e72a.jpg: 640x640 1 branch_yn, 1 crown_yn, 2 trees, 58.0ms\n",
      "Speed: 2.0ms preprocess, 58.0ms inference, 4.0ms postprocess per image at shape (1, 3, 640, 640)\n",
      "45it [00:14,  4.16it/s]\n"
     ]
    },
    {
     "name": "stdout",
     "output_type": "stream",
     "text": [
      "[1, 3]\n",
      "가장 큰 바운딩 박스의 인덱스: 1\n"
     ]
    },
    {
     "name": "stderr",
     "output_type": "stream",
     "text": [
      "image 1/1 c:\\yolov8\\tree.v1i.yolov8\\test\\images\\33_97_23147_tree_jpg.rf.67ae7d9edb7c0a3630c5106077387454.jpg: 640x640 1 branch_yn, 1 crown_yn, 12 fruit_yns, 1 tree, 61.0ms\n",
      "Speed: 2.0ms preprocess, 61.0ms inference, 4.0ms postprocess per image at shape (1, 3, 640, 640)\n",
      "46it [00:14,  4.07it/s]\n"
     ]
    },
    {
     "name": "stdout",
     "output_type": "stream",
     "text": [
      "[0]\n",
      "가장 큰 바운딩 박스의 인덱스: 0\n"
     ]
    },
    {
     "name": "stderr",
     "output_type": "stream",
     "text": [
      "image 1/1 c:\\yolov8\\tree.v1i.yolov8\\test\\images\\33_97_23151_tree_jpg.rf.67cd89dace2b57abfe736e32be0929a5.jpg: 640x640 2 branch_yns, 1 crown_yn, 1 tree, 62.0ms\n",
      "Speed: 2.0ms preprocess, 62.0ms inference, 2.0ms postprocess per image at shape (1, 3, 640, 640)\n",
      "47it [00:14,  4.09it/s]\n"
     ]
    },
    {
     "name": "stdout",
     "output_type": "stream",
     "text": [
      "[1]\n",
      "가장 큰 바운딩 박스의 인덱스: 0\n"
     ]
    },
    {
     "name": "stderr",
     "output_type": "stream",
     "text": [
      "image 1/1 c:\\yolov8\\tree.v1i.yolov8\\test\\images\\33_97_23160_tree_jpg.rf.7c4aca0a226c7fdb907a009d2fe5ccd9.jpg: 640x640 2 branch_yns, 1 crown_yn, 14 fruit_yns, 2 gnarl_yns, 1 tree, 59.0ms\n",
      "Speed: 2.0ms preprocess, 59.0ms inference, 3.0ms postprocess per image at shape (1, 3, 640, 640)\n",
      "48it [00:15,  4.07it/s]\n"
     ]
    },
    {
     "name": "stdout",
     "output_type": "stream",
     "text": [
      "[0]\n",
      "가장 큰 바운딩 박스의 인덱스: 0\n"
     ]
    },
    {
     "name": "stderr",
     "output_type": "stream",
     "text": [
      "image 1/1 c:\\yolov8\\tree.v1i.yolov8\\test\\images\\33_98_23169_tree_jpg.rf.bdaea0e7bc13ff96c959356f31b95fc3.jpg: 640x640 1 branch_yn, 1 crown_yn, 1 fruit_yn, 2 gnarl_yns, 1 tree, 63.0ms\n",
      "Speed: 1.0ms preprocess, 63.0ms inference, 3.0ms postprocess per image at shape (1, 3, 640, 640)\n"
     ]
    },
    {
     "name": "stdout",
     "output_type": "stream",
     "text": [
      "[0]\n",
      "가장 큰 바운딩 박스의 인덱스: 0\n"
     ]
    },
    {
     "name": "stderr",
     "output_type": "stream",
     "text": [
      "49it [00:15,  3.60it/s]\n",
      "image 1/1 c:\\yolov8\\tree.v1i.yolov8\\test\\images\\33_98_23188_tree_jpg.rf.a88065b7508dd88575e80c57eb1e4dc2.jpg: 640x640 1 branch_yn, 1 crown_yn, 3 fruit_yns, 5 gnarl_yns, 1 tree, 67.0ms\n",
      "Speed: 1.0ms preprocess, 67.0ms inference, 2.0ms postprocess per image at shape (1, 3, 640, 640)\n",
      "50it [00:15,  3.73it/s]\n"
     ]
    },
    {
     "name": "stdout",
     "output_type": "stream",
     "text": [
      "[0]\n",
      "가장 큰 바운딩 박스의 인덱스: 0\n"
     ]
    },
    {
     "name": "stderr",
     "output_type": "stream",
     "text": [
      "image 1/1 c:\\yolov8\\tree.v1i.yolov8\\test\\images\\33_98_23194_tree_jpg.rf.04a4a0ac20298a4542c855128521709b.jpg: 640x640 3 branch_yns, 1 crown_yn, 6 fruit_yns, 1 tree, 55.0ms\n",
      "Speed: 2.0ms preprocess, 55.0ms inference, 2.0ms postprocess per image at shape (1, 3, 640, 640)\n",
      "51it [00:15,  3.83it/s]\n"
     ]
    },
    {
     "name": "stdout",
     "output_type": "stream",
     "text": [
      "[0]\n",
      "가장 큰 바운딩 박스의 인덱스: 0\n"
     ]
    },
    {
     "name": "stderr",
     "output_type": "stream",
     "text": [
      "image 1/1 c:\\yolov8\\tree.v1i.yolov8\\test\\images\\33_99_23203_tree_jpg.rf.a269fd0fc18b5796913b170ec293108c.jpg: 640x640 2 branch_yns, 1 crown_yn, 3 gnarl_yns, 1 tree, 58.0ms\n",
      "Speed: 2.0ms preprocess, 58.0ms inference, 2.0ms postprocess per image at shape (1, 3, 640, 640)\n",
      "52it [00:16,  3.94it/s]\n"
     ]
    },
    {
     "name": "stdout",
     "output_type": "stream",
     "text": [
      "[0]\n",
      "가장 큰 바운딩 박스의 인덱스: 0\n"
     ]
    },
    {
     "name": "stderr",
     "output_type": "stream",
     "text": [
      "image 1/1 c:\\yolov8\\tree.v1i.yolov8\\test\\images\\33_99_23216_tree_jpg.rf.4ad71bdac0fcabc5f93135bfe1ac15d0.jpg: 640x640 1 crown_yn, 1 tree, 57.0ms\n",
      "Speed: 1.0ms preprocess, 57.0ms inference, 2.0ms postprocess per image at shape (1, 3, 640, 640)\n",
      "53it [00:16,  4.04it/s]\n"
     ]
    },
    {
     "name": "stdout",
     "output_type": "stream",
     "text": [
      "[0]\n",
      "가장 큰 바운딩 박스의 인덱스: 0\n"
     ]
    },
    {
     "name": "stderr",
     "output_type": "stream",
     "text": [
      "image 1/1 c:\\yolov8\\tree.v1i.yolov8\\test\\images\\38_104_23005_tree_jpg.rf.027f92066fe9db277966cb2fa943530e.jpg: 640x640 1 branch_yn, 1 crown_yn, 1 tree, 57.0ms\n",
      "Speed: 2.0ms preprocess, 57.0ms inference, 2.0ms postprocess per image at shape (1, 3, 640, 640)\n",
      "54it [00:16,  4.12it/s]\n"
     ]
    },
    {
     "name": "stdout",
     "output_type": "stream",
     "text": [
      "[0]\n",
      "가장 큰 바운딩 박스의 인덱스: 0\n"
     ]
    },
    {
     "name": "stderr",
     "output_type": "stream",
     "text": [
      "image 1/1 c:\\yolov8\\tree.v1i.yolov8\\test\\images\\38_104_23010_tree_jpg.rf.f13ec05ddc0f0e83e8fa042f86eed47a.jpg: 640x640 1 branch_yn, 1 crown_yn, 1 root_yn, 1 tree, 56.0ms\n",
      "Speed: 2.0ms preprocess, 56.0ms inference, 2.0ms postprocess per image at shape (1, 3, 640, 640)\n",
      "55it [00:16,  4.16it/s]\n"
     ]
    },
    {
     "name": "stdout",
     "output_type": "stream",
     "text": [
      "[0]\n",
      "가장 큰 바운딩 박스의 인덱스: 0\n"
     ]
    },
    {
     "name": "stderr",
     "output_type": "stream",
     "text": [
      "image 1/1 c:\\yolov8\\tree.v1i.yolov8\\test\\images\\38_104_23014_tree_jpg.rf.82ea0688c6cce835936676e2cec8e442.jpg: 640x640 1 crown_yn, 1 tree, 60.0ms\n",
      "Speed: 1.0ms preprocess, 60.0ms inference, 2.0ms postprocess per image at shape (1, 3, 640, 640)\n",
      "56it [00:17,  4.17it/s]\n"
     ]
    },
    {
     "name": "stdout",
     "output_type": "stream",
     "text": [
      "[1]\n",
      "가장 큰 바운딩 박스의 인덱스: 0\n"
     ]
    },
    {
     "name": "stderr",
     "output_type": "stream",
     "text": [
      "image 1/1 c:\\yolov8\\tree.v1i.yolov8\\test\\images\\38_105_23024_tree_jpg.rf.4bd6c093accb6dee36d12f2dec156488.jpg: 640x640 1 crown_yn, 1 tree, 57.0ms\n",
      "Speed: 2.0ms preprocess, 57.0ms inference, 2.0ms postprocess per image at shape (1, 3, 640, 640)\n",
      "57it [00:17,  4.21it/s]\n"
     ]
    },
    {
     "name": "stdout",
     "output_type": "stream",
     "text": [
      "[0]\n",
      "가장 큰 바운딩 박스의 인덱스: 0\n"
     ]
    },
    {
     "name": "stderr",
     "output_type": "stream",
     "text": [
      "image 1/1 c:\\yolov8\\tree.v1i.yolov8\\test\\images\\38_105_23027_tree_jpg.rf.dbfde792982371f3fef5a53015edcc58.jpg: 640x640 1 crown_yn, 1 tree, 68.0ms\n",
      "Speed: 2.0ms preprocess, 68.0ms inference, 2.0ms postprocess per image at shape (1, 3, 640, 640)\n",
      "58it [00:17,  4.14it/s]\n"
     ]
    },
    {
     "name": "stdout",
     "output_type": "stream",
     "text": [
      "[0]\n",
      "가장 큰 바운딩 박스의 인덱스: 0\n"
     ]
    },
    {
     "name": "stderr",
     "output_type": "stream",
     "text": [
      "image 1/1 c:\\yolov8\\tree.v1i.yolov8\\test\\images\\38_105_23030_tree_jpg.rf.09391b851c87f998d353438e0827f7e2.jpg: 640x640 2 crown_yns, 1 gnarl_yn, 2 trees, 67.0ms\n",
      "Speed: 2.0ms preprocess, 67.0ms inference, 2.0ms postprocess per image at shape (1, 3, 640, 640)\n",
      "59it [00:17,  4.05it/s]\n"
     ]
    },
    {
     "name": "stdout",
     "output_type": "stream",
     "text": [
      "[1, 2]\n",
      "가장 큰 바운딩 박스의 인덱스: 1\n"
     ]
    },
    {
     "name": "stderr",
     "output_type": "stream",
     "text": [
      "image 1/1 c:\\yolov8\\tree.v1i.yolov8\\test\\images\\38_105_23042_tree_jpg.rf.9430484328fc09f00d0cc5c186dd8440.jpg: 640x640 1 crown_yn, 1 tree, 63.0ms\n",
      "Speed: 2.0ms preprocess, 63.0ms inference, 2.0ms postprocess per image at shape (1, 3, 640, 640)\n",
      "60it [00:18,  3.95it/s]"
     ]
    },
    {
     "name": "stdout",
     "output_type": "stream",
     "text": [
      "[0]\n",
      "가장 큰 바운딩 박스의 인덱스: 0\n"
     ]
    },
    {
     "name": "stderr",
     "output_type": "stream",
     "text": [
      "\n",
      "image 1/1 c:\\yolov8\\tree.v1i.yolov8\\test\\images\\38_106_23050_tree_jpg.rf.b064f9d3372d3409308a5b5a1f437d1d.jpg: 640x640 1 branch_yn, 1 crown_yn, 7 fruit_yns, 1 tree, 56.0ms\n",
      "Speed: 2.0ms preprocess, 56.0ms inference, 3.0ms postprocess per image at shape (1, 3, 640, 640)\n",
      "61it [00:18,  3.95it/s]\n"
     ]
    },
    {
     "name": "stdout",
     "output_type": "stream",
     "text": [
      "[0]\n",
      "가장 큰 바운딩 박스의 인덱스: 0\n"
     ]
    },
    {
     "name": "stderr",
     "output_type": "stream",
     "text": [
      "image 1/1 c:\\yolov8\\tree.v1i.yolov8\\test\\images\\38_106_23060_tree_jpg.rf.52f50c94fd41865af57fcc2fb90c3caf.jpg: 640x640 1 branch_yn, 1 crown_yn, 1 tree, 57.0ms\n",
      "Speed: 2.0ms preprocess, 57.0ms inference, 4.0ms postprocess per image at shape (1, 3, 640, 640)\n",
      "62it [00:18,  3.88it/s]"
     ]
    },
    {
     "name": "stdout",
     "output_type": "stream",
     "text": [
      "[1]\n",
      "가장 큰 바운딩 박스의 인덱스: 0\n"
     ]
    },
    {
     "name": "stderr",
     "output_type": "stream",
     "text": [
      "\n",
      "image 1/1 c:\\yolov8\\tree.v1i.yolov8\\test\\images\\38_107_23084_tree_jpg.rf.2456722e79546cbf9c3496886450f981.jpg: 640x640 1 crown_yn, 1 tree, 55.0ms\n",
      "Speed: 2.0ms preprocess, 55.0ms inference, 2.0ms postprocess per image at shape (1, 3, 640, 640)\n",
      "63it [00:18,  3.89it/s]\n"
     ]
    },
    {
     "name": "stdout",
     "output_type": "stream",
     "text": [
      "[0]\n",
      "가장 큰 바운딩 박스의 인덱스: 0\n"
     ]
    },
    {
     "name": "stderr",
     "output_type": "stream",
     "text": [
      "image 1/1 c:\\yolov8\\tree.v1i.yolov8\\test\\images\\38_107_23088_tree_jpg.rf.0ad5c58e5d427ebd1ee3f624f8e50278.jpg: 640x640 1 crown_yn, 6 fruit_yns, 1 tree, 55.0ms\n",
      "Speed: 1.0ms preprocess, 55.0ms inference, 4.0ms postprocess per image at shape (1, 3, 640, 640)\n",
      "64it [00:19,  3.87it/s]\n"
     ]
    },
    {
     "name": "stdout",
     "output_type": "stream",
     "text": [
      "[0]\n",
      "가장 큰 바운딩 박스의 인덱스: 0\n"
     ]
    },
    {
     "name": "stderr",
     "output_type": "stream",
     "text": [
      "image 1/1 c:\\yolov8\\tree.v1i.yolov8\\test\\images\\3_11_23062_tree_jpg.rf.44ba77da25be14925d4bfbe6d32ccf46.jpg: 640x640 1 branch_yn, 1 crown_yn, 1 tree, 48.0ms\n",
      "Speed: 2.0ms preprocess, 48.0ms inference, 2.0ms postprocess per image at shape (1, 3, 640, 640)\n",
      "65it [00:19,  4.00it/s]\n"
     ]
    },
    {
     "name": "stdout",
     "output_type": "stream",
     "text": [
      "[1]\n",
      "가장 큰 바운딩 박스의 인덱스: 0\n"
     ]
    },
    {
     "name": "stderr",
     "output_type": "stream",
     "text": [
      "image 1/1 c:\\yolov8\\tree.v1i.yolov8\\test\\images\\3_11_23069_tree_jpg.rf.52f6a58e0df38d40bb150f0b92837b69.jpg: 640x640 1 crown_yn, 22 fruit_yns, 1 gnarl_yn, 1 tree, 48.0ms\n",
      "Speed: 2.0ms preprocess, 48.0ms inference, 2.0ms postprocess per image at shape (1, 3, 640, 640)\n",
      "66it [00:19,  4.04it/s]\n"
     ]
    },
    {
     "name": "stdout",
     "output_type": "stream",
     "text": [
      "[0]\n",
      "가장 큰 바운딩 박스의 인덱스: 0\n"
     ]
    },
    {
     "name": "stderr",
     "output_type": "stream",
     "text": [
      "image 1/1 c:\\yolov8\\tree.v1i.yolov8\\test\\images\\3_11_23071_tree_jpg.rf.43a9ceb3be391eae08a08612642ddd76.jpg: 640x640 1 crown_yn, 10 fruit_yns, 1 tree, 47.0ms\n",
      "Speed: 2.0ms preprocess, 47.0ms inference, 1.0ms postprocess per image at shape (1, 3, 640, 640)\n",
      "67it [00:19,  4.13it/s]\n"
     ]
    },
    {
     "name": "stdout",
     "output_type": "stream",
     "text": [
      "[1]\n",
      "가장 큰 바운딩 박스의 인덱스: 0\n"
     ]
    },
    {
     "name": "stderr",
     "output_type": "stream",
     "text": [
      "image 1/1 c:\\yolov8\\tree.v1i.yolov8\\test\\images\\3_12_23095_tree_jpg.rf.9fcc07b6f6260b7d7ba37542a849e13f.jpg: 640x640 3 branch_yns, 1 crown_yn, 1 fruit_yn, 1 tree, 45.0ms\n",
      "Speed: 2.0ms preprocess, 45.0ms inference, 2.0ms postprocess per image at shape (1, 3, 640, 640)\n",
      "68it [00:20,  4.20it/s]\n"
     ]
    },
    {
     "name": "stdout",
     "output_type": "stream",
     "text": [
      "[0]\n",
      "가장 큰 바운딩 박스의 인덱스: 0\n"
     ]
    },
    {
     "name": "stderr",
     "output_type": "stream",
     "text": [
      "image 1/1 c:\\yolov8\\tree.v1i.yolov8\\test\\images\\3_13_23111_tree_jpg.rf.f5467d22600767d78867d39b0016fd20.jpg: 640x640 1 crown_yn, 1 fruit_yn, 1 tree, 47.0ms\n",
      "Speed: 2.0ms preprocess, 47.0ms inference, 2.0ms postprocess per image at shape (1, 3, 640, 640)\n",
      "69it [00:20,  4.24it/s]\n"
     ]
    },
    {
     "name": "stdout",
     "output_type": "stream",
     "text": [
      "[1]\n",
      "가장 큰 바운딩 박스의 인덱스: 0\n"
     ]
    },
    {
     "name": "stderr",
     "output_type": "stream",
     "text": [
      "image 1/1 c:\\yolov8\\tree.v1i.yolov8\\test\\images\\3_14_23006_tree_jpg.rf.9a9e8e187fbd4d66a0286815bd2600ed.jpg: 640x640 1 branch_yn, 1 crown_yn, 1 tree, 47.0ms\n",
      "Speed: 1.0ms preprocess, 47.0ms inference, 2.0ms postprocess per image at shape (1, 3, 640, 640)\n",
      "70it [00:20,  4.31it/s]\n"
     ]
    },
    {
     "name": "stdout",
     "output_type": "stream",
     "text": [
      "[0]\n",
      "가장 큰 바운딩 박스의 인덱스: 0\n"
     ]
    },
    {
     "name": "stderr",
     "output_type": "stream",
     "text": [
      "image 1/1 c:\\yolov8\\tree.v1i.yolov8\\test\\images\\3_14_23010_tree_jpg.rf.6752e0693622524f9070f235af5edc54.jpg: 640x640 3 branch_yns, 1 crown_yn, 1 fruit_yn, 1 tree, 60.0ms\n",
      "Speed: 2.0ms preprocess, 60.0ms inference, 2.0ms postprocess per image at shape (1, 3, 640, 640)\n",
      "71it [00:20,  4.25it/s]\n"
     ]
    },
    {
     "name": "stdout",
     "output_type": "stream",
     "text": [
      "[1]\n",
      "가장 큰 바운딩 박스의 인덱스: 0\n"
     ]
    },
    {
     "name": "stderr",
     "output_type": "stream",
     "text": [
      "image 1/1 c:\\yolov8\\tree.v1i.yolov8\\test\\images\\3_16_23042_tree_jpg.rf.11a12c2c2ac74a7b2af328d5a542c0d9.jpg: 640x640 9 branch_yns, 1 crown_yn, 19 fruit_yns, 1 root_yn, 1 tree, 63.0ms\n",
      "Speed: 2.0ms preprocess, 63.0ms inference, 3.0ms postprocess per image at shape (1, 3, 640, 640)\n",
      "72it [00:21,  4.16it/s]\n"
     ]
    },
    {
     "name": "stdout",
     "output_type": "stream",
     "text": [
      "[1]\n",
      "가장 큰 바운딩 박스의 인덱스: 0\n"
     ]
    },
    {
     "name": "stderr",
     "output_type": "stream",
     "text": [
      "image 1/1 c:\\yolov8\\tree.v1i.yolov8\\test\\images\\47_197_23008_tree_jpg.rf.b8ee318d9cafba975af79562f38f3a1a.jpg: 640x640 1 branch_yn, 1 crown_yn, 1 tree, 59.0ms\n",
      "Speed: 2.0ms preprocess, 59.0ms inference, 2.0ms postprocess per image at shape (1, 3, 640, 640)\n",
      "73it [00:21,  4.17it/s]\n"
     ]
    },
    {
     "name": "stdout",
     "output_type": "stream",
     "text": [
      "[1]\n",
      "가장 큰 바운딩 박스의 인덱스: 0\n"
     ]
    },
    {
     "name": "stderr",
     "output_type": "stream",
     "text": [
      "image 1/1 c:\\yolov8\\tree.v1i.yolov8\\test\\images\\47_198_23022_tree_jpg.rf.28d5430c06ed1b0902dbd8527af50822.jpg: 640x640 4 branch_yns, 1 crown_yn, 3 fruit_yns, 1 tree, 59.0ms\n",
      "Speed: 1.0ms preprocess, 59.0ms inference, 3.0ms postprocess per image at shape (1, 3, 640, 640)\n",
      "74it [00:21,  4.18it/s]\n"
     ]
    },
    {
     "name": "stdout",
     "output_type": "stream",
     "text": [
      "[0]\n",
      "가장 큰 바운딩 박스의 인덱스: 0\n"
     ]
    },
    {
     "name": "stderr",
     "output_type": "stream",
     "text": [
      "image 1/1 c:\\yolov8\\tree.v1i.yolov8\\test\\images\\47_198_23026_tree_jpg.rf.3d3af74961cd4f6cd0a03057d3e17068.jpg: 640x640 3 branch_yns, 1 crown_yn, 3 fruit_yns, 2 root_yns, 1 tree, 59.0ms\n",
      "Speed: 1.0ms preprocess, 59.0ms inference, 2.0ms postprocess per image at shape (1, 3, 640, 640)\n",
      "75it [00:21,  4.12it/s]\n"
     ]
    },
    {
     "name": "stdout",
     "output_type": "stream",
     "text": [
      "[0]\n",
      "가장 큰 바운딩 박스의 인덱스: 0\n"
     ]
    },
    {
     "name": "stderr",
     "output_type": "stream",
     "text": [
      "image 1/1 c:\\yolov8\\tree.v1i.yolov8\\test\\images\\47_198_23027_tree_jpg.rf.26eac00ae312cf4c346d939d5a9f907f.jpg: 640x640 3 branch_yns, 1 crown_yn, 3 gnarl_yns, 1 tree, 60.0ms\n",
      "Speed: 2.0ms preprocess, 60.0ms inference, 2.0ms postprocess per image at shape (1, 3, 640, 640)\n",
      "76it [00:21,  4.14it/s]\n"
     ]
    },
    {
     "name": "stdout",
     "output_type": "stream",
     "text": [
      "[0]\n",
      "가장 큰 바운딩 박스의 인덱스: 0\n"
     ]
    },
    {
     "name": "stderr",
     "output_type": "stream",
     "text": [
      "image 1/1 c:\\yolov8\\tree.v1i.yolov8\\test\\images\\47_199_23037_tree_jpg.rf.dfb4e5080b3103347eafe78397a7c0c1.jpg: 640x640 1 crown_yn, 1 root_yn, 1 tree, 57.0ms\n",
      "Speed: 2.0ms preprocess, 57.0ms inference, 2.0ms postprocess per image at shape (1, 3, 640, 640)\n",
      "77it [00:22,  3.54it/s]\n",
      "image 1/1 c:\\yolov8\\tree.v1i.yolov8\\test\\images\\50_227_23012_tree_jpg.rf.4aaf769399ce1f67d436be261cd57211.jpg: 640x640 1 crown_yn, 5 fruit_yns, 6 gnarl_yns, 1 tree, 61.0ms\n"
     ]
    },
    {
     "name": "stdout",
     "output_type": "stream",
     "text": [
      "[0]\n",
      "가장 큰 바운딩 박스의 인덱스: 0\n"
     ]
    },
    {
     "name": "stderr",
     "output_type": "stream",
     "text": [
      "Speed: 1.0ms preprocess, 61.0ms inference, 2.0ms postprocess per image at shape (1, 3, 640, 640)\n",
      "78it [00:22,  3.70it/s]\n"
     ]
    },
    {
     "name": "stdout",
     "output_type": "stream",
     "text": [
      "[1]\n",
      "가장 큰 바운딩 박스의 인덱스: 0\n"
     ]
    },
    {
     "name": "stderr",
     "output_type": "stream",
     "text": [
      "image 1/1 c:\\yolov8\\tree.v1i.yolov8\\test\\images\\50_227_23022_tree_jpg.rf.9c9b484eebc10f9ac0eeef6863f43daa.jpg: 640x640 2 branch_yns, 1 crown_yn, 1 tree, 57.0ms\n",
      "Speed: 2.0ms preprocess, 57.0ms inference, 3.0ms postprocess per image at shape (1, 3, 640, 640)\n",
      "79it [00:22,  3.82it/s]\n"
     ]
    },
    {
     "name": "stdout",
     "output_type": "stream",
     "text": [
      "[1]\n",
      "가장 큰 바운딩 박스의 인덱스: 0\n"
     ]
    },
    {
     "name": "stderr",
     "output_type": "stream",
     "text": [
      "image 1/1 c:\\yolov8\\tree.v1i.yolov8\\test\\images\\50_228_23027_tree_jpg.rf.13fe227fd47ed53b31c0b9ca6f6a051b.jpg: 640x640 4 branch_yns, 2 crown_yns, 2 trees, 58.0ms\n",
      "Speed: 2.0ms preprocess, 58.0ms inference, 2.0ms postprocess per image at shape (1, 3, 640, 640)\n",
      "80it [00:23,  3.90it/s]\n"
     ]
    },
    {
     "name": "stdout",
     "output_type": "stream",
     "text": [
      "[0, 1]\n",
      "가장 큰 바운딩 박스의 인덱스: 0\n"
     ]
    },
    {
     "name": "stderr",
     "output_type": "stream",
     "text": [
      "image 1/1 c:\\yolov8\\tree.v1i.yolov8\\test\\images\\50_228_23042_tree_jpg.rf.62e3465cda8c7d8f0e0d9b3553fa6181.jpg: 640x640 1 crown_yn, 1 tree, 71.0ms\n",
      "Speed: 2.0ms preprocess, 71.0ms inference, 2.0ms postprocess per image at shape (1, 3, 640, 640)\n",
      "81it [00:23,  3.87it/s]\n"
     ]
    },
    {
     "name": "stdout",
     "output_type": "stream",
     "text": [
      "[1]\n",
      "가장 큰 바운딩 박스의 인덱스: 0\n"
     ]
    },
    {
     "name": "stderr",
     "output_type": "stream",
     "text": [
      "image 1/1 c:\\yolov8\\tree.v1i.yolov8\\test\\images\\50_228_23048_tree_jpg.rf.f012302a09b4718d0f94eba1e175da74.jpg: 640x640 1 crown_yn, 1 tree, 73.0ms\n",
      "Speed: 2.0ms preprocess, 73.0ms inference, 3.0ms postprocess per image at shape (1, 3, 640, 640)\n",
      "82it [00:23,  3.84it/s]\n"
     ]
    },
    {
     "name": "stdout",
     "output_type": "stream",
     "text": [
      "[0]\n",
      "가장 큰 바운딩 박스의 인덱스: 0\n"
     ]
    },
    {
     "name": "stderr",
     "output_type": "stream",
     "text": [
      "image 1/1 c:\\yolov8\\tree.v1i.yolov8\\test\\images\\50_230_23073_tree_jpg.rf.afc1d24c27d750074aa3fbeb550d574b.jpg: 640x640 5 branch_yns, 1 crown_yn, 7 fruit_yns, 1 tree, 60.0ms\n",
      "Speed: 2.0ms preprocess, 60.0ms inference, 2.0ms postprocess per image at shape (1, 3, 640, 640)\n",
      "83it [00:23,  3.80it/s]\n"
     ]
    },
    {
     "name": "stdout",
     "output_type": "stream",
     "text": [
      "[1]\n",
      "가장 큰 바운딩 박스의 인덱스: 0\n"
     ]
    },
    {
     "name": "stderr",
     "output_type": "stream",
     "text": [
      "image 1/1 c:\\yolov8\\tree.v1i.yolov8\\test\\images\\50_231_23111_tree_jpg.rf.8322cdbefea87fa90972bea169528d36.jpg: 640x640 1 crown_yn, 1 root_yn, 1 tree, 48.0ms\n",
      "Speed: 2.0ms preprocess, 48.0ms inference, 2.0ms postprocess per image at shape (1, 3, 640, 640)\n",
      "84it [00:24,  3.95it/s]\n"
     ]
    },
    {
     "name": "stdout",
     "output_type": "stream",
     "text": [
      "[1]\n",
      "가장 큰 바운딩 박스의 인덱스: 0\n"
     ]
    },
    {
     "name": "stderr",
     "output_type": "stream",
     "text": [
      "image 1/1 c:\\yolov8\\tree.v1i.yolov8\\test\\images\\52_215_23030_tree_jpg.rf.1b5dbc0d11ee755704607b00e0bc651d.jpg: 640x640 1 crown_yn, 1 tree, 46.0ms\n",
      "Speed: 1.0ms preprocess, 46.0ms inference, 2.0ms postprocess per image at shape (1, 3, 640, 640)\n",
      "85it [00:24,  4.08it/s]\n"
     ]
    },
    {
     "name": "stdout",
     "output_type": "stream",
     "text": [
      "[0]\n",
      "가장 큰 바운딩 박스의 인덱스: 0\n"
     ]
    },
    {
     "name": "stderr",
     "output_type": "stream",
     "text": [
      "image 1/1 c:\\yolov8\\tree.v1i.yolov8\\test\\images\\52_215_23038_tree_jpg.rf.6dbedb2fc697c9ea609e1d6750001fe2.jpg: 640x640 1 branch_yn, 1 crown_yn, 1 tree, 46.0ms\n",
      "Speed: 2.0ms preprocess, 46.0ms inference, 3.0ms postprocess per image at shape (1, 3, 640, 640)\n",
      "86it [00:24,  4.19it/s]\n",
      "image 1/1 c:\\yolov8\\tree.v1i.yolov8\\test\\images\\52_216_23049_tree_jpg.rf.c32855456876fdaf01c2a09375781835.jpg: 640x640 6 branch_yns, 1 tree, 45.0ms\n"
     ]
    },
    {
     "name": "stdout",
     "output_type": "stream",
     "text": [
      "[0]\n",
      "가장 큰 바운딩 박스의 인덱스: 0\n"
     ]
    },
    {
     "name": "stderr",
     "output_type": "stream",
     "text": [
      "Speed: 2.0ms preprocess, 45.0ms inference, 2.0ms postprocess per image at shape (1, 3, 640, 640)\n",
      "87it [00:24,  4.13it/s]\n"
     ]
    },
    {
     "name": "stdout",
     "output_type": "stream",
     "text": [
      "[0]\n",
      "가장 큰 바운딩 박스의 인덱스: 0\n"
     ]
    },
    {
     "name": "stderr",
     "output_type": "stream",
     "text": [
      "image 1/1 c:\\yolov8\\tree.v1i.yolov8\\test\\images\\52_216_23050_tree_jpg.rf.31a342ebef68c641285ff699f011efc8.jpg: 640x640 4 branch_yns, 5 fruit_yns, 3 gnarl_yns, 1 tree, 54.0ms\n",
      "Speed: 2.0ms preprocess, 54.0ms inference, 3.0ms postprocess per image at shape (1, 3, 640, 640)\n",
      "88it [00:25,  4.07it/s]\n"
     ]
    },
    {
     "name": "stdout",
     "output_type": "stream",
     "text": [
      "[0]\n",
      "가장 큰 바운딩 박스의 인덱스: 0\n"
     ]
    },
    {
     "name": "stderr",
     "output_type": "stream",
     "text": [
      "image 1/1 c:\\yolov8\\tree.v1i.yolov8\\test\\images\\52_217_23078_tree_jpg.rf.60ba826524c1b07a393aca490e838850.jpg: 640x640 7 branch_yns, 5 gnarl_yns, 4 root_yns, 1 tree, 56.0ms\n",
      "Speed: 2.0ms preprocess, 56.0ms inference, 3.0ms postprocess per image at shape (1, 3, 640, 640)\n",
      "89it [00:25,  4.05it/s]\n"
     ]
    },
    {
     "name": "stdout",
     "output_type": "stream",
     "text": [
      "[0]\n",
      "가장 큰 바운딩 박스의 인덱스: 0\n"
     ]
    },
    {
     "name": "stderr",
     "output_type": "stream",
     "text": [
      "image 1/1 c:\\yolov8\\tree.v1i.yolov8\\test\\images\\52_218_23109_tree_jpg.rf.fb06ca80b8fc94a916af3e208ec87acd.jpg: 640x640 3 branch_yns, 2 crown_yns, 3 fruit_yns, 4 gnarl_yns, 1 tree, 57.0ms\n",
      "Speed: 2.0ms preprocess, 57.0ms inference, 2.0ms postprocess per image at shape (1, 3, 640, 640)\n",
      "90it [00:25,  4.03it/s]\n"
     ]
    },
    {
     "name": "stdout",
     "output_type": "stream",
     "text": [
      "[0]\n",
      "가장 큰 바운딩 박스의 인덱스: 0\n"
     ]
    },
    {
     "name": "stderr",
     "output_type": "stream",
     "text": [
      "image 1/1 c:\\yolov8\\tree.v1i.yolov8\\test\\images\\52_218_23115_tree_jpg.rf.b464750857c8afa0c686a6d29133bf29.jpg: 640x640 1 branch_yn, 1 crown_yn, 5 fruit_yns, 1 tree, 59.0ms\n",
      "Speed: 2.0ms preprocess, 59.0ms inference, 2.0ms postprocess per image at shape (1, 3, 640, 640)\n",
      "91it [00:25,  4.01it/s]\n"
     ]
    },
    {
     "name": "stdout",
     "output_type": "stream",
     "text": [
      "[0]\n",
      "가장 큰 바운딩 박스의 인덱스: 0\n"
     ]
    },
    {
     "name": "stderr",
     "output_type": "stream",
     "text": [
      "image 1/1 c:\\yolov8\\tree.v1i.yolov8\\test\\images\\52_219_23087_tree_jpg.rf.a6e7fdf4e37d1792e4d2cf2d5f23f692.jpg: 640x640 4 branch_yns, 1 crown_yn, 1 tree, 56.0ms\n",
      "Speed: 2.0ms preprocess, 56.0ms inference, 2.0ms postprocess per image at shape (1, 3, 640, 640)\n",
      "92it [00:26,  4.01it/s]\n"
     ]
    },
    {
     "name": "stdout",
     "output_type": "stream",
     "text": [
      "[0]\n",
      "가장 큰 바운딩 박스의 인덱스: 0\n"
     ]
    },
    {
     "name": "stderr",
     "output_type": "stream",
     "text": [
      "image 1/1 c:\\yolov8\\tree.v1i.yolov8\\test\\images\\52_219_23092_tree_jpg.rf.fb2e89a879552ae5295b540fb0113f8a.jpg: 640x640 2 branch_yns, 1 crown_yn, 1 root_yn, 1 tree, 52.0ms\n",
      "Speed: 2.0ms preprocess, 52.0ms inference, 3.0ms postprocess per image at shape (1, 3, 640, 640)\n",
      "93it [00:26,  4.01it/s]\n"
     ]
    },
    {
     "name": "stdout",
     "output_type": "stream",
     "text": [
      "[0]\n",
      "가장 큰 바운딩 박스의 인덱스: 0\n"
     ]
    },
    {
     "name": "stderr",
     "output_type": "stream",
     "text": [
      "image 1/1 c:\\yolov8\\tree.v1i.yolov8\\test\\images\\52_219_23093_tree_jpg.rf.2267d12b6ec0da1a2842f18798f136dd.jpg: 640x640 2 branch_yns, 1 crown_yn, 1 fruit_yn, 6 gnarl_yns, 3 root_yns, 1 tree, 56.0ms\n",
      "Speed: 1.0ms preprocess, 56.0ms inference, 2.0ms postprocess per image at shape (1, 3, 640, 640)\n",
      "94it [00:26,  4.00it/s]\n"
     ]
    },
    {
     "name": "stdout",
     "output_type": "stream",
     "text": [
      "[0]\n",
      "가장 큰 바운딩 박스의 인덱스: 0\n"
     ]
    },
    {
     "name": "stderr",
     "output_type": "stream",
     "text": [
      "image 1/1 c:\\yolov8\\tree.v1i.yolov8\\test\\images\\5_25_23052_tree_jpg.rf.72465109e1ae39b617cd4e39e041074b.jpg: 640x640 1 crown_yn, 6 fruit_yns, 1 root_yn, 1 tree, 55.0ms\n",
      "Speed: 3.0ms preprocess, 55.0ms inference, 2.0ms postprocess per image at shape (1, 3, 640, 640)\n",
      "95it [00:26,  4.01it/s]\n"
     ]
    },
    {
     "name": "stdout",
     "output_type": "stream",
     "text": [
      "[0]\n",
      "가장 큰 바운딩 박스의 인덱스: 0\n"
     ]
    },
    {
     "name": "stderr",
     "output_type": "stream",
     "text": [
      "image 1/1 c:\\yolov8\\tree.v1i.yolov8\\test\\images\\5_25_23056_tree_jpg.rf.3f8baa1e349ffa0063defbb59b5de279.jpg: 640x640 1 branch_yn, 1 tree, 56.0ms\n",
      "Speed: 2.0ms preprocess, 56.0ms inference, 2.0ms postprocess per image at shape (1, 3, 640, 640)\n",
      "96it [00:27,  4.00it/s]\n"
     ]
    },
    {
     "name": "stdout",
     "output_type": "stream",
     "text": [
      "[0]\n",
      "가장 큰 바운딩 박스의 인덱스: 0\n"
     ]
    },
    {
     "name": "stderr",
     "output_type": "stream",
     "text": [
      "image 1/1 c:\\yolov8\\tree.v1i.yolov8\\test\\images\\5_28_23085_tree_jpg.rf.877991bf3bfc2d4a092f163151c2209e.jpg: 640x640 3 branch_yns, 1 crown_yn, 4 gnarl_yns, 1 tree, 56.0ms\n",
      "Speed: 1.0ms preprocess, 56.0ms inference, 2.0ms postprocess per image at shape (1, 3, 640, 640)\n",
      "97it [00:27,  3.97it/s]\n"
     ]
    },
    {
     "name": "stdout",
     "output_type": "stream",
     "text": [
      "[0]\n",
      "가장 큰 바운딩 박스의 인덱스: 0\n"
     ]
    },
    {
     "name": "stderr",
     "output_type": "stream",
     "text": [
      "image 1/1 c:\\yolov8\\tree.v1i.yolov8\\test\\images\\5_29_23024_tree_jpg.rf.6848930156029b758705e3a5ca3452d7.jpg: 640x640 5 branch_yns, 1 crown_yn, 1 fruit_yn, 1 root_yn, 1 tree, 53.0ms\n",
      "Speed: 2.0ms preprocess, 53.0ms inference, 3.0ms postprocess per image at shape (1, 3, 640, 640)\n",
      "98it [00:27,  3.98it/s]\n"
     ]
    },
    {
     "name": "stdout",
     "output_type": "stream",
     "text": [
      "[0]\n",
      "가장 큰 바운딩 박스의 인덱스: 0\n"
     ]
    },
    {
     "name": "stderr",
     "output_type": "stream",
     "text": [
      "image 1/1 c:\\yolov8\\tree.v1i.yolov8\\test\\images\\5_29_23026_tree_jpg.rf.9e49df84fcb6efef37e5b16e1074ce30.jpg: 640x640 10 branch_yns, 1 crown_yn, 1 tree, 55.0ms\n",
      "Speed: 2.0ms preprocess, 55.0ms inference, 2.0ms postprocess per image at shape (1, 3, 640, 640)\n",
      "99it [00:27,  3.97it/s]\n"
     ]
    },
    {
     "name": "stdout",
     "output_type": "stream",
     "text": [
      "[0]\n",
      "가장 큰 바운딩 박스의 인덱스: 0\n"
     ]
    },
    {
     "name": "stderr",
     "output_type": "stream",
     "text": [
      "image 1/1 c:\\yolov8\\tree.v1i.yolov8\\test\\images\\5_29_23030_tree_jpg.rf.8f4394181854361d8fc1a48ff66e0aa9.jpg: 640x640 1 crown_yn, 1 root_yn, 1 tree, 49.0ms\n",
      "Speed: 2.0ms preprocess, 49.0ms inference, 1.0ms postprocess per image at shape (1, 3, 640, 640)\n",
      "100it [00:28,  3.56it/s]"
     ]
    },
    {
     "name": "stdout",
     "output_type": "stream",
     "text": [
      "[0]\n",
      "가장 큰 바운딩 박스의 인덱스: 0\n"
     ]
    },
    {
     "name": "stderr",
     "output_type": "stream",
     "text": [
      "\n"
     ]
    }
   ],
   "source": [
    "tree_save(img_dir='./tree.v1i.yolov8/test/images', save_dir= './tree_result/')"
   ]
  },
  {
   "cell_type": "code",
   "execution_count": 11,
   "metadata": {},
   "outputs": [
    {
     "name": "stdout",
     "output_type": "stream",
     "text": [
      "branch diff : 12\n",
      "root diff : 6\n",
      "crown diff : 7\n",
      "fruit diff : 17\n",
      "gnarl diff : 3\n",
      "loc diff : 12\n",
      "size diff : 15\n"
     ]
    }
   ],
   "source": [
    "tree_ori_df = pd.read_csv('./dbi_tree.csv')\n",
    "tree_pred_df = pd.read_csv('./tree_result/tree_result.csv')\n",
    "tree_ori_100_df = tree_ori_df[tree_ori_df['id'].isin(tree_pred_df['id'])]\n",
    "\n",
    "branch_count = 0\n",
    "root_count = 0\n",
    "crown_count = 0\n",
    "fruit_count = 0\n",
    "size_count = 0\n",
    "gnarl_count = 0\n",
    "loc_count = 0\n",
    "for i in range(len(tree_pred_df)):\n",
    "    if tree_ori_100_df['branch_yn'].tolist()[i] != tree_pred_df['branch_yn'].tolist()[i]:\n",
    "        branch_count += 1\n",
    "    if tree_ori_100_df['root_yn'].tolist()[i] != tree_pred_df['root_yn'].tolist()[i]:\n",
    "        root_count += 1\n",
    "    if tree_ori_100_df['crown_yn'].tolist()[i] != tree_pred_df['crown_yn'].tolist()[i]:\n",
    "        crown_count += 1\n",
    "    if tree_ori_100_df['fruit_yn'].tolist()[i] != tree_pred_df['fruit_yn'].tolist()[i]:\n",
    "        fruit_count += 1\n",
    "    if tree_ori_100_df['gnarl_yn'].tolist()[i] != tree_pred_df['gnarl_yn'].tolist()[i]:\n",
    "        gnarl_count += 1\n",
    "    if tree_ori_100_df['loc'].tolist()[i] != tree_pred_df['loc'].tolist()[i]:\n",
    "        loc_count += 1\n",
    "    if tree_ori_100_df['size'].tolist()[i] != tree_pred_df['size'].tolist()[i]:\n",
    "        size_count += 1\n",
    "\n",
    "print(f'branch diff : {branch_count}')\n",
    "print(f'root diff : {root_count}')\n",
    "print(f'crown diff : {crown_count}')\n",
    "print(f'fruit diff : {fruit_count}')\n",
    "print(f'gnarl diff : {gnarl_count}')\n",
    "print(f'loc diff : {loc_count}')\n",
    "print(f'size diff : {size_count}')"
   ]
  },
  {
   "cell_type": "code",
   "execution_count": 12,
   "metadata": {},
   "outputs": [
    {
     "name": "stdout",
     "output_type": "stream",
     "text": [
      "12\n",
      "['26_139_23015_tree', 'n', 'y']\n",
      "['26_140_23028_tree', 'n', 'y']\n",
      "['26_141_23051_tree', 'n', 'y']\n",
      "['33_93_23059_tree', 'y', 'n']\n",
      "['33_96_23126_tree', 'y', 'n']\n",
      "['33_97_23147_tree', 'n', 'y']\n",
      "['33_98_23169_tree', 'n', 'y']\n",
      "['38_104_23005_tree', 'n', 'y']\n",
      "['3_11_23062_tree', 'n', 'y']\n",
      "['50_228_23027_tree', 'n', 'y']\n",
      "['52_215_23038_tree', 'n', 'y']\n",
      "['5_29_23024_tree', 'n', 'y']\n"
     ]
    }
   ],
   "source": [
    "branch_wrong = []\n",
    "for i in range(len(tree_pred_df)): \n",
    "    if tree_ori_100_df['branch_yn'].iloc[i] != tree_pred_df['branch_yn'].iloc[i]:\n",
    "        branch_wrong.append([tree_pred_df['id'].iloc[i], tree_ori_100_df['branch_yn'].iloc[i], tree_pred_df['branch_yn'].iloc[i]])\n",
    "\n",
    "print(len(branch_wrong))\n",
    "for i in branch_wrong:\n",
    "    print(i)"
   ]
  },
  {
   "cell_type": "code",
   "execution_count": 13,
   "metadata": {},
   "outputs": [
    {
     "name": "stdout",
     "output_type": "stream",
     "text": [
      "6\n",
      "['33_94_23086_tree', 'y', 'n']\n",
      "['33_96_23134_tree', 'n', 'y']\n",
      "['38_104_23005_tree', 'y', 'n']\n",
      "['50_227_23012_tree', 'y', 'n']\n",
      "['50_231_23111_tree', 'n', 'y']\n",
      "['5_28_23085_tree', 'y', 'n']\n"
     ]
    }
   ],
   "source": [
    "root_wrong = []\n",
    "for i in range(len(tree_pred_df)): \n",
    "    if tree_ori_100_df['root_yn'].iloc[i] != tree_pred_df['root_yn'].iloc[i]:\n",
    "        root_wrong.append([tree_pred_df['id'].iloc[i], tree_ori_100_df['root_yn'].iloc[i], tree_pred_df['root_yn'].iloc[i]])\n",
    "\n",
    "print(len(root_wrong))\n",
    "for i in root_wrong:\n",
    "    print(i)"
   ]
  },
  {
   "cell_type": "code",
   "execution_count": 14,
   "metadata": {},
   "outputs": [
    {
     "name": "stdout",
     "output_type": "stream",
     "text": [
      "7\n",
      "['24_178_23082_tree', 'n', 'y']\n",
      "['24_181_23158_tree', 'y', 'n']\n",
      "['33_93_23057_tree', 'y', 'n']\n",
      "['33_96_23110_tree', 'n', 'y']\n",
      "['38_104_23010_tree', 'n', 'y']\n",
      "['52_215_23030_tree', 'n', 'y']\n",
      "['52_216_23050_tree', 'y', 'n']\n"
     ]
    }
   ],
   "source": [
    "crown_wrong = []\n",
    "for i in range(len(tree_pred_df)): \n",
    "    if tree_ori_100_df['crown_yn'].iloc[i] != tree_pred_df['crown_yn'].iloc[i]:\n",
    "        crown_wrong.append([tree_pred_df['id'].iloc[i], tree_ori_100_df['crown_yn'].iloc[i], tree_pred_df['crown_yn'].iloc[i]])\n",
    "\n",
    "print(len(crown_wrong))\n",
    "for i in crown_wrong:\n",
    "    print(i)"
   ]
  },
  {
   "cell_type": "code",
   "execution_count": 15,
   "metadata": {},
   "outputs": [
    {
     "name": "stdout",
     "output_type": "stream",
     "text": [
      "17\n",
      "['24_178_23082_tree', 'n', 'y']\n",
      "['24_179_23107_tree', 'n', 'y']\n",
      "['26_139_23015_tree', 'n', 'y']\n",
      "['33_93_23057_tree', 'y', 'n']\n",
      "['33_93_23063_tree', 'n', 'y']\n",
      "['33_96_23126_tree', 'y', 'n']\n",
      "['33_96_23134_tree', 'n', 'y']\n",
      "['33_98_23169_tree', 'n', 'y']\n",
      "['3_12_23095_tree', 'n', 'y']\n",
      "['3_13_23111_tree', 'n', 'y']\n",
      "['47_198_23022_tree', 'n', 'y']\n",
      "['47_198_23026_tree', 'n', 'y']\n",
      "['50_227_23012_tree', 'n', 'y']\n",
      "['52_216_23049_tree', 'y', 'n']\n",
      "['52_219_23093_tree', 'n', 'y']\n",
      "['5_28_23085_tree', 'y', 'n']\n",
      "['5_29_23024_tree', 'n', 'y']\n"
     ]
    }
   ],
   "source": [
    "fruit_wrong = []\n",
    "for i in range(len(tree_pred_df)): \n",
    "    if tree_ori_100_df['fruit_yn'].iloc[i] != tree_pred_df['fruit_yn'].iloc[i]:\n",
    "        fruit_wrong.append([tree_pred_df['id'].iloc[i], tree_ori_100_df['fruit_yn'].iloc[i], tree_pred_df['fruit_yn'].iloc[i]])\n",
    "\n",
    "print(len(fruit_wrong))\n",
    "for i in fruit_wrong:\n",
    "    print(i)"
   ]
  },
  {
   "cell_type": "code",
   "execution_count": 16,
   "metadata": {},
   "outputs": [
    {
     "name": "stdout",
     "output_type": "stream",
     "text": [
      "3\n",
      "['24_178_23070_tree', 'n', 'y']\n",
      "['33_93_23064_tree', 'y', 'n']\n",
      "['3_11_23069_tree', 'n', 'y']\n"
     ]
    }
   ],
   "source": [
    "gnarl_wrong = []\n",
    "for i in range(len(tree_pred_df)): \n",
    "    if tree_ori_100_df['gnarl_yn'].iloc[i] != tree_pred_df['gnarl_yn'].iloc[i]:\n",
    "        gnarl_wrong.append([tree_pred_df['id'].iloc[i], tree_ori_100_df['gnarl_yn'].iloc[i], tree_pred_df['gnarl_yn'].iloc[i]])\n",
    "\n",
    "print(len(gnarl_wrong))\n",
    "for i in gnarl_wrong:\n",
    "    print(i)"
   ]
  },
  {
   "cell_type": "code",
   "execution_count": 17,
   "metadata": {},
   "outputs": [
    {
     "name": "stdout",
     "output_type": "stream",
     "text": [
      "12\n",
      "['24_179_23103_tree', 'right', 'center']\n",
      "['24_179_23107_tree', 'left', 'center']\n",
      "['24_181_23158_tree', 'left', 'center']\n",
      "['26_142_23057_tree', 'right', 'center']\n",
      "['33_96_23126_tree', 'left', 'right']\n",
      "['33_99_23216_tree', 'left', 'center']\n",
      "['38_105_23030_tree', 'center', 'left']\n",
      "['38_106_23060_tree', 'center', 'right']\n",
      "['3_11_23069_tree', 'left', 'center']\n",
      "['50_228_23027_tree', 'right', 'center']\n",
      "['52_218_23115_tree', 'left', 'center']\n",
      "['52_219_23093_tree', 'left', 'center']\n"
     ]
    }
   ],
   "source": [
    "loc_wrong = []\n",
    "for i in range(len(tree_pred_df)): \n",
    "    if tree_ori_100_df['loc'].iloc[i] != tree_pred_df['loc'].iloc[i]:\n",
    "        loc_wrong.append([tree_pred_df['id'].iloc[i], tree_ori_100_df['loc'].iloc[i], tree_pred_df['loc'].iloc[i]])\n",
    "\n",
    "print(len(loc_wrong))\n",
    "for i in loc_wrong:\n",
    "    print(i)"
   ]
  },
  {
   "cell_type": "code",
   "execution_count": 18,
   "metadata": {},
   "outputs": [
    {
     "name": "stdout",
     "output_type": "stream",
     "text": [
      "15\n",
      "['24_177_23046_tree', 'big', 'middle']\n",
      "['24_178_23082_tree', 'middle', 'big']\n",
      "['24_180_23136_tree', 'small', 'middle']\n",
      "['26_139_23015_tree', 'small', 'middle']\n",
      "['33_92_23030_tree', 'middle', 'small']\n",
      "['33_96_23110_tree', 'small', 'middle']\n",
      "['33_96_23134_tree', 'big', 'middle']\n",
      "['33_97_23142_tree', 'small', 'middle']\n",
      "['33_97_23160_tree', 'big', 'middle']\n",
      "['33_98_23194_tree', 'small', 'middle']\n",
      "['3_12_23095_tree', 'middle', 'big']\n",
      "['47_198_23026_tree', 'small', 'middle']\n",
      "['50_227_23012_tree', 'middle', 'big']\n",
      "['52_218_23115_tree', 'small', 'middle']\n",
      "['5_25_23056_tree', 'big', 'middle']\n"
     ]
    }
   ],
   "source": [
    "size_wrong = []\n",
    "for i in range(len(tree_pred_df)): \n",
    "    if tree_ori_100_df['size'].iloc[i] != tree_pred_df['size'].iloc[i]:\n",
    "        size_wrong.append([tree_pred_df['id'].iloc[i], tree_ori_100_df['size'].iloc[i], tree_pred_df['size'].iloc[i]])\n",
    "\n",
    "print(len(size_wrong))\n",
    "for i in size_wrong:\n",
    "    print(i)"
   ]
  },
  {
   "cell_type": "code",
   "execution_count": null,
   "metadata": {},
   "outputs": [],
   "source": []
  }
 ],
 "metadata": {
  "kernelspec": {
   "display_name": "bax",
   "language": "python",
   "name": "python3"
  },
  "language_info": {
   "codemirror_mode": {
    "name": "ipython",
    "version": 3
   },
   "file_extension": ".py",
   "mimetype": "text/x-python",
   "name": "python",
   "nbconvert_exporter": "python",
   "pygments_lexer": "ipython3",
   "version": "3.8.17"
  },
  "orig_nbformat": 4
 },
 "nbformat": 4,
 "nbformat_minor": 2
}
